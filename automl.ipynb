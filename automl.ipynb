{
  "cells": [
    {
      "cell_type": "markdown",
      "source": [
        "# Automated ML\n",
        "\n",
        "TODO: Import Dependencies. In the cell below, import all the dependencies that you will need to complete the project."
      ],
      "metadata": {}
    },
    {
      "cell_type": "code",
      "source": [
        "from azureml.core import Workspace, Experiment,Dataset\n",
        "from azureml.core.compute import ComputeTarget, AmlCompute\n",
        "from azureml.core.compute_target import ComputeTargetException\n",
        "from azureml.widgets import RunDetails\n",
        "\n",
        "import azureml.core\n",
        "from azureml.data.dataset_factory import TabularDatasetFactory\n",
        "from sklearn.model_selection import train_test_split\n",
        "from azureml.train.automl import AutoMLConfig\n",
        "\n",
        "import logging\n",
        "import os\n",
        "import joblib\n",
        "import pandas as pd\n",
        "import numpy as np\n",
        "\n",
        "# Check core SDK version number\n",
        "print(\"SDK version:\", azureml.core.VERSION)"
      ],
      "outputs": [
        {
          "output_type": "stream",
          "name": "stdout",
          "text": [
            "SDK version: 1.19.0\n"
          ]
        }
      ],
      "execution_count": 7,
      "metadata": {
        "gather": {
          "logged": 1611504949206
        },
        "jupyter": {
          "outputs_hidden": false,
          "source_hidden": false
        },
        "nteract": {
          "transient": {
            "deleting": false
          }
        }
      }
    },
    {
      "cell_type": "markdown",
      "source": [
        "## Initialize Workspace and Create an Azure ML experiment"
      ],
      "metadata": {}
    },
    {
      "cell_type": "code",
      "source": [
        "ws = Workspace.from_config()\n",
        "experiment_name = 'heart-failure-automl-experiment'\n",
        "\n",
        "experiment=Experiment(ws, experiment_name)\n",
        "\n",
        "print('Workspace name: ' + ws.name, \n",
        "      'Azure region: ' + ws.location, \n",
        "      'Subscription id: ' + ws.subscription_id, \n",
        "      'Resource group: ' + ws.resource_group, sep = '\\n')\n",
        "\n",
        "run = experiment.start_logging()"
      ],
      "outputs": [
        {
          "output_type": "stream",
          "name": "stdout",
          "text": [
            "Workspace name: quick-starts-ws-135902\n",
            "Azure region: southcentralus\n",
            "Subscription id: cdbe0b43-92a0-4715-838a-f2648cc7ad21\n",
            "Resource group: aml-quickstarts-135902\n"
          ]
        }
      ],
      "execution_count": 2,
      "metadata": {
        "gather": {
          "logged": 1611504616515
        }
      }
    },
    {
      "cell_type": "markdown",
      "source": [
        "## Dataset"
      ],
      "metadata": {}
    },
    {
      "cell_type": "code",
      "source": [
        "# Try to load the dataset from the Workspace. Otherwise, create it from the file\n",
        "dataset_key = \"Heart-Failure-Prediction-Dataset\"\n",
        "description_text = \"Heart Failure Prediction Dataset\"\n",
        "\n",
        "if dataset_key in ws.datasets.keys(): \n",
        "    dataset = ws.datasets[dataset_key]\n",
        "    print(\"Found dataset\")\n",
        "else:\n",
        "    # Create AML Dataset and register it into Workspace\n",
        "    dataset_url = 'https://archive.ics.uci.edu/ml/machine-learning-databases/00519/heart_failure_clinical_records_dataset.csv'\n",
        "    dataset = Dataset.Tabular.from_delimited_files(dataset_url)        \n",
        "    #Register Dataset in Workspace\n",
        "    dataset = dataset.register(workspace=ws,\n",
        "                                name=dataset_key,\n",
        "                                description=description_text)\n",
        "\n",
        "\n",
        "df = dataset.to_pandas_dataframe()\n",
        "df.describe()"
      ],
      "outputs": [
        {
          "output_type": "stream",
          "name": "stdout",
          "text": [
            "Found dataset\n"
          ]
        },
        {
          "output_type": "execute_result",
          "execution_count": 3,
          "data": {
            "text/plain": "              age     anaemia  creatinine_phosphokinase    diabetes  \\\ncount  299.000000  299.000000                299.000000  299.000000   \nmean    60.833893    0.431438                581.839465    0.418060   \nstd     11.894809    0.496107                970.287881    0.494067   \nmin     40.000000    0.000000                 23.000000    0.000000   \n25%     51.000000    0.000000                116.500000    0.000000   \n50%     60.000000    0.000000                250.000000    0.000000   \n75%     70.000000    1.000000                582.000000    1.000000   \nmax     95.000000    1.000000               7861.000000    1.000000   \n\n       ejection_fraction  high_blood_pressure      platelets  \\\ncount         299.000000           299.000000     299.000000   \nmean           38.083612             0.351171  263358.029264   \nstd            11.834841             0.478136   97804.236869   \nmin            14.000000             0.000000   25100.000000   \n25%            30.000000             0.000000  212500.000000   \n50%            38.000000             0.000000  262000.000000   \n75%            45.000000             1.000000  303500.000000   \nmax            80.000000             1.000000  850000.000000   \n\n       serum_creatinine  serum_sodium         sex    smoking        time  \\\ncount         299.00000    299.000000  299.000000  299.00000  299.000000   \nmean            1.39388    136.625418    0.648829    0.32107  130.260870   \nstd             1.03451      4.412477    0.478136    0.46767   77.614208   \nmin             0.50000    113.000000    0.000000    0.00000    4.000000   \n25%             0.90000    134.000000    0.000000    0.00000   73.000000   \n50%             1.10000    137.000000    1.000000    0.00000  115.000000   \n75%             1.40000    140.000000    1.000000    1.00000  203.000000   \nmax             9.40000    148.000000    1.000000    1.00000  285.000000   \n\n       DEATH_EVENT  \ncount    299.00000  \nmean       0.32107  \nstd        0.46767  \nmin        0.00000  \n25%        0.00000  \n50%        0.00000  \n75%        1.00000  \nmax        1.00000  ",
            "text/html": "<div>\n<style scoped>\n    .dataframe tbody tr th:only-of-type {\n        vertical-align: middle;\n    }\n\n    .dataframe tbody tr th {\n        vertical-align: top;\n    }\n\n    .dataframe thead th {\n        text-align: right;\n    }\n</style>\n<table border=\"1\" class=\"dataframe\">\n  <thead>\n    <tr style=\"text-align: right;\">\n      <th></th>\n      <th>age</th>\n      <th>anaemia</th>\n      <th>creatinine_phosphokinase</th>\n      <th>diabetes</th>\n      <th>ejection_fraction</th>\n      <th>high_blood_pressure</th>\n      <th>platelets</th>\n      <th>serum_creatinine</th>\n      <th>serum_sodium</th>\n      <th>sex</th>\n      <th>smoking</th>\n      <th>time</th>\n      <th>DEATH_EVENT</th>\n    </tr>\n  </thead>\n  <tbody>\n    <tr>\n      <th>count</th>\n      <td>299.000000</td>\n      <td>299.000000</td>\n      <td>299.000000</td>\n      <td>299.000000</td>\n      <td>299.000000</td>\n      <td>299.000000</td>\n      <td>299.000000</td>\n      <td>299.00000</td>\n      <td>299.000000</td>\n      <td>299.000000</td>\n      <td>299.00000</td>\n      <td>299.000000</td>\n      <td>299.00000</td>\n    </tr>\n    <tr>\n      <th>mean</th>\n      <td>60.833893</td>\n      <td>0.431438</td>\n      <td>581.839465</td>\n      <td>0.418060</td>\n      <td>38.083612</td>\n      <td>0.351171</td>\n      <td>263358.029264</td>\n      <td>1.39388</td>\n      <td>136.625418</td>\n      <td>0.648829</td>\n      <td>0.32107</td>\n      <td>130.260870</td>\n      <td>0.32107</td>\n    </tr>\n    <tr>\n      <th>std</th>\n      <td>11.894809</td>\n      <td>0.496107</td>\n      <td>970.287881</td>\n      <td>0.494067</td>\n      <td>11.834841</td>\n      <td>0.478136</td>\n      <td>97804.236869</td>\n      <td>1.03451</td>\n      <td>4.412477</td>\n      <td>0.478136</td>\n      <td>0.46767</td>\n      <td>77.614208</td>\n      <td>0.46767</td>\n    </tr>\n    <tr>\n      <th>min</th>\n      <td>40.000000</td>\n      <td>0.000000</td>\n      <td>23.000000</td>\n      <td>0.000000</td>\n      <td>14.000000</td>\n      <td>0.000000</td>\n      <td>25100.000000</td>\n      <td>0.50000</td>\n      <td>113.000000</td>\n      <td>0.000000</td>\n      <td>0.00000</td>\n      <td>4.000000</td>\n      <td>0.00000</td>\n    </tr>\n    <tr>\n      <th>25%</th>\n      <td>51.000000</td>\n      <td>0.000000</td>\n      <td>116.500000</td>\n      <td>0.000000</td>\n      <td>30.000000</td>\n      <td>0.000000</td>\n      <td>212500.000000</td>\n      <td>0.90000</td>\n      <td>134.000000</td>\n      <td>0.000000</td>\n      <td>0.00000</td>\n      <td>73.000000</td>\n      <td>0.00000</td>\n    </tr>\n    <tr>\n      <th>50%</th>\n      <td>60.000000</td>\n      <td>0.000000</td>\n      <td>250.000000</td>\n      <td>0.000000</td>\n      <td>38.000000</td>\n      <td>0.000000</td>\n      <td>262000.000000</td>\n      <td>1.10000</td>\n      <td>137.000000</td>\n      <td>1.000000</td>\n      <td>0.00000</td>\n      <td>115.000000</td>\n      <td>0.00000</td>\n    </tr>\n    <tr>\n      <th>75%</th>\n      <td>70.000000</td>\n      <td>1.000000</td>\n      <td>582.000000</td>\n      <td>1.000000</td>\n      <td>45.000000</td>\n      <td>1.000000</td>\n      <td>303500.000000</td>\n      <td>1.40000</td>\n      <td>140.000000</td>\n      <td>1.000000</td>\n      <td>1.00000</td>\n      <td>203.000000</td>\n      <td>1.00000</td>\n    </tr>\n    <tr>\n      <th>max</th>\n      <td>95.000000</td>\n      <td>1.000000</td>\n      <td>7861.000000</td>\n      <td>1.000000</td>\n      <td>80.000000</td>\n      <td>1.000000</td>\n      <td>850000.000000</td>\n      <td>9.40000</td>\n      <td>148.000000</td>\n      <td>1.000000</td>\n      <td>1.00000</td>\n      <td>285.000000</td>\n      <td>1.00000</td>\n    </tr>\n  </tbody>\n</table>\n</div>"
          },
          "metadata": {}
        }
      ],
      "execution_count": 3,
      "metadata": {
        "gather": {
          "logged": 1611504788050
        },
        "jupyter": {
          "outputs_hidden": false,
          "source_hidden": false
        },
        "nteract": {
          "transient": {
            "deleting": false
          }
        }
      }
    },
    {
      "cell_type": "markdown",
      "source": [
        "## Create or Attach an AmlCompute cluster"
      ],
      "metadata": {}
    },
    {
      "cell_type": "code",
      "source": [
        "from azureml.core.compute import ComputeTarget, AmlCompute\n",
        "\n",
        "cluster_name = \"cpu-cluster\"\n",
        "\n",
        "# Check if the compute target exists\n",
        "try:\n",
        "    compute_target = ComputeTarget(workspace=ws, name=cluster_name)\n",
        "    print('Found existing cluster, use it.')\n",
        "except:\n",
        "    # If not, create it\n",
        "    compute_config = AmlCompute.provisioning_configuration(vm_size='STANDARD_DS12_V2', max_nodes=5)\n",
        "    compute_target = ComputeTarget.create(ws, cluster_name, compute_config)\n",
        "compute_target.wait_for_completion(show_output=True)\n",
        "\n",
        "print(compute_target.get_status().serialize())"
      ],
      "outputs": [
        {
          "output_type": "stream",
          "name": "stdout",
          "text": [
            "Found existing cluster, use it.\n",
            "\n",
            "Running\n",
            "{'errors': [], 'creationTime': '2021-01-24T14:59:14.660177+00:00', 'createdBy': {'userObjectId': 'de62da4e-e66d-430d-a4a9-1c7ffdd05d75', 'userTenantId': '660b3398-b80e-49d2-bc5b-ac1dc93b5254', 'userName': 'ODL_User 135902'}, 'modifiedTime': '2021-01-24T15:02:16.464259+00:00', 'state': 'Running', 'vmSize': 'STANDARD_DS12_V2'}\n"
          ]
        }
      ],
      "execution_count": 4,
      "metadata": {
        "gather": {
          "logged": 1611504814644
        }
      }
    },
    {
      "cell_type": "markdown",
      "source": [
        "## Training Configuration"
      ],
      "metadata": {}
    },
    {
      "cell_type": "code",
      "source": [
        "train, test = train_test_split(df, random_state=0, test_size=0.2)\n",
        "print(train.head(3))\n",
        "print(train.shape)\n",
        "train.to_csv('train.csv', index=False)"
      ],
      "outputs": [
        {
          "output_type": "stream",
          "name": "stdout",
          "text": [
            "      age  anaemia  creatinine_phosphokinase  diabetes  ejection_fraction  \\\n",
            "134  81.0        0                      4540         0                 35   \n",
            "145  50.0        0                       185         0                 30   \n",
            "63   45.0        0                       582         0                 35   \n",
            "\n",
            "     high_blood_pressure  platelets  serum_creatinine  serum_sodium  sex  \\\n",
            "134                    0   231000.0              1.18           137    1   \n",
            "145                    0   266000.0              0.70           141    1   \n",
            "63                     0   385000.0              1.00           145    1   \n",
            "\n",
            "     smoking  time  DEATH_EVENT  \n",
            "134        1   107            0  \n",
            "145        1   112            0  \n",
            "63         0    61            1  \n",
            "(239, 13)\n"
          ]
        }
      ],
      "execution_count": 5,
      "metadata": {
        "gather": {
          "logged": 1611504824259
        }
      }
    },
    {
      "cell_type": "code",
      "source": [
        "datastore = ws.get_default_datastore()\n",
        "print(datastore)\n",
        "datastore.upload_files(files = ['./train.csv'])\n",
        "train = Dataset.Tabular.from_delimited_files(path = [(datastore,'train.csv')])"
      ],
      "outputs": [
        {
          "output_type": "stream",
          "name": "stdout",
          "text": [
            "{\n",
            "  \"name\": \"workspaceblobstore\",\n",
            "  \"container_name\": \"azureml-blobstore-9ef76144-e983-40a6-8655-4e4eab8b4c95\",\n",
            "  \"account_name\": \"mlstrg135902\",\n",
            "  \"protocol\": \"https\",\n",
            "  \"endpoint\": \"core.windows.net\"\n",
            "}\n",
            "Uploading an estimated of 1 files\n",
            "Uploading ./train.csv\n",
            "Uploaded ./train.csv, 1 files out of an estimated total of 1\n",
            "Uploaded 1 files\n"
          ]
        }
      ],
      "execution_count": 6,
      "metadata": {
        "gather": {
          "logged": 1611504835837
        }
      }
    },
    {
      "cell_type": "markdown",
      "source": [
        "## AutoML Configuration\n",
        "\n",
        "TODO: Explain why you chose the automl settings and cofiguration you used below."
      ],
      "metadata": {}
    },
    {
      "cell_type": "code",
      "source": [
        "automl_settings = {\n",
        "    \"experiment_timeout_minutes\" : 30,\n",
        "    \"iteration_timeout_minutes\": 5,\n",
        "    \"max_cores_per_iteration\": -1,\n",
        "    \"max_concurrent_iterations\": 4,\n",
        "    \"enable_early_stopping\" : True,\n",
        "    \"primary_metric\": 'accuracy',\n",
        "    \"n_cross_validations\": 3,\n",
        "    \"featurization\": 'auto',\n",
        "    \"verbosity\": logging.INFO,\n",
        "}\n",
        "\n",
        "automl_config = AutoMLConfig(\n",
        "    task=\"classification\",\n",
        "    compute_target=compute_target,\n",
        "    training_data= train,\n",
        "    label_column_name=\"DEATH_EVENT\",\n",
        "    debug_log = 'automl_errors.log',\n",
        "    **automl_settings)"
      ],
      "outputs": [],
      "execution_count": 8,
      "metadata": {
        "gather": {
          "logged": 1611504970595
        },
        "jupyter": {
          "outputs_hidden": false,
          "source_hidden": false
        },
        "nteract": {
          "transient": {
            "deleting": false
          }
        }
      }
    },
    {
      "cell_type": "code",
      "source": [
        "#Submit your experiment\n",
        "remote_run = experiment.submit(automl_config)"
      ],
      "outputs": [
        {
          "output_type": "stream",
          "name": "stdout",
          "text": [
            "Running on remote.\n"
          ]
        }
      ],
      "execution_count": 9,
      "metadata": {
        "gather": {
          "logged": 1611504979794
        },
        "jupyter": {
          "outputs_hidden": false,
          "source_hidden": false
        },
        "nteract": {
          "transient": {
            "deleting": false
          }
        }
      }
    },
    {
      "cell_type": "markdown",
      "source": [
        "## Run Details\n",
        "\n",
        "OPTIONAL: Write about the different models trained and their performance. Why do you think some models did better than others?\n",
        "\n",
        "TODO: In the cell below, use the `RunDetails` widget to show the different experiments."
      ],
      "metadata": {}
    },
    {
      "cell_type": "code",
      "source": [
        "remote_run"
      ],
      "outputs": [
        {
          "output_type": "execute_result",
          "execution_count": 10,
          "data": {
            "text/plain": "Run(Experiment: heart-failure-automl-experiment,\nId: AutoML_1d6b790b-08ce-4bcf-b70c-aa121e567c60,\nType: automl,\nStatus: NotStarted)",
            "text/html": "<table style=\"width:100%\"><tr><th>Experiment</th><th>Id</th><th>Type</th><th>Status</th><th>Details Page</th><th>Docs Page</th></tr><tr><td>heart-failure-automl-experiment</td><td>AutoML_1d6b790b-08ce-4bcf-b70c-aa121e567c60</td><td>automl</td><td>NotStarted</td><td><a href=\"https://ml.azure.com/experiments/heart-failure-automl-experiment/runs/AutoML_1d6b790b-08ce-4bcf-b70c-aa121e567c60?wsid=/subscriptions/cdbe0b43-92a0-4715-838a-f2648cc7ad21/resourcegroups/aml-quickstarts-135902/workspaces/quick-starts-ws-135902\" target=\"_blank\" rel=\"noopener\">Link to Azure Machine Learning studio</a></td><td><a href=\"https://docs.microsoft.com/en-us/python/api/overview/azure/ml/intro?view=azure-ml-py\" target=\"_blank\" rel=\"noopener\">Link to Documentation</a></td></tr></table>"
          },
          "metadata": {}
        }
      ],
      "execution_count": 10,
      "metadata": {
        "gather": {
          "logged": 1611504985722
        },
        "jupyter": {
          "outputs_hidden": false,
          "source_hidden": false
        },
        "nteract": {
          "transient": {
            "deleting": false
          }
        }
      }
    },
    {
      "cell_type": "code",
      "source": [
        "RunDetails(remote_run).show()"
      ],
      "outputs": [
        {
          "output_type": "display_data",
          "data": {
            "text/plain": "_AutoMLWidget(widget_settings={'childWidgetDisplay': 'popup', 'send_telemetry': False, 'log_level': 'INFO', 's…",
            "application/vnd.jupyter.widget-view+json": {
              "version_major": 2,
              "version_minor": 0,
              "model_id": "32c673d29d5d4f90a99347bd3c3c7028"
            }
          },
          "metadata": {}
        },
        {
          "output_type": "display_data",
          "data": {
            "application/aml.mini.widget.v1": "{\"status\": \"Completed\", \"workbench_run_details_uri\": \"https://ml.azure.com/experiments/heart-failure-automl-experiment/runs/AutoML_1d6b790b-08ce-4bcf-b70c-aa121e567c60?wsid=/subscriptions/cdbe0b43-92a0-4715-838a-f2648cc7ad21/resourcegroups/aml-quickstarts-135902/workspaces/quick-starts-ws-135902\", \"run_id\": \"AutoML_1d6b790b-08ce-4bcf-b70c-aa121e567c60\", \"run_properties\": {\"run_id\": \"AutoML_1d6b790b-08ce-4bcf-b70c-aa121e567c60\", \"created_utc\": \"2021-01-24T16:16:18.838731Z\", \"properties\": {\"num_iterations\": \"1000\", \"training_type\": \"TrainFull\", \"acquisition_function\": \"EI\", \"primary_metric\": \"accuracy\", \"train_split\": \"0\", \"acquisition_parameter\": \"0\", \"num_cross_validation\": \"3\", \"target\": \"cpu-cluster\", \"AMLSettingsJsonString\": \"{\\\"path\\\":null,\\\"name\\\":\\\"heart-failure-automl-experiment\\\",\\\"subscription_id\\\":\\\"cdbe0b43-92a0-4715-838a-f2648cc7ad21\\\",\\\"resource_group\\\":\\\"aml-quickstarts-135902\\\",\\\"workspace_name\\\":\\\"quick-starts-ws-135902\\\",\\\"region\\\":\\\"southcentralus\\\",\\\"compute_target\\\":\\\"cpu-cluster\\\",\\\"spark_service\\\":null,\\\"azure_service\\\":\\\"remote\\\",\\\"many_models\\\":false,\\\"pipeline_fetch_max_batch_size\\\":1,\\\"iterations\\\":1000,\\\"primary_metric\\\":\\\"accuracy\\\",\\\"task_type\\\":\\\"classification\\\",\\\"data_script\\\":null,\\\"validation_size\\\":0.0,\\\"n_cross_validations\\\":3,\\\"y_min\\\":null,\\\"y_max\\\":null,\\\"num_classes\\\":null,\\\"featurization\\\":\\\"auto\\\",\\\"_ignore_package_version_incompatibilities\\\":false,\\\"is_timeseries\\\":false,\\\"max_cores_per_iteration\\\":-1,\\\"max_concurrent_iterations\\\":4,\\\"iteration_timeout_minutes\\\":5,\\\"mem_in_mb\\\":null,\\\"enforce_time_on_windows\\\":false,\\\"experiment_timeout_minutes\\\":30,\\\"experiment_exit_score\\\":null,\\\"whitelist_models\\\":null,\\\"blacklist_algos\\\":[\\\"TensorFlowLinearClassifier\\\",\\\"TensorFlowDNN\\\"],\\\"supported_models\\\":[\\\"LightGBM\\\",\\\"MultinomialNaiveBayes\\\",\\\"XGBoostClassifier\\\",\\\"TensorFlowDNN\\\",\\\"LogisticRegression\\\",\\\"LinearSVM\\\",\\\"KNN\\\",\\\"RandomForest\\\",\\\"ExtremeRandomTrees\\\",\\\"SVM\\\",\\\"AveragedPerceptronClassifier\\\",\\\"GradientBoosting\\\",\\\"TensorFlowLinearClassifier\\\",\\\"DecisionTree\\\",\\\"BernoulliNaiveBayes\\\",\\\"SGD\\\"],\\\"auto_blacklist\\\":true,\\\"blacklist_samples_reached\\\":false,\\\"exclude_nan_labels\\\":true,\\\"verbosity\\\":20,\\\"_debug_log\\\":\\\"azureml_automl.log\\\",\\\"show_warnings\\\":false,\\\"model_explainability\\\":true,\\\"service_url\\\":null,\\\"sdk_url\\\":null,\\\"sdk_packages\\\":null,\\\"enable_onnx_compatible_models\\\":false,\\\"enable_split_onnx_featurizer_estimator_models\\\":false,\\\"vm_type\\\":\\\"STANDARD_DS12_V2\\\",\\\"telemetry_verbosity\\\":20,\\\"send_telemetry\\\":true,\\\"enable_dnn\\\":false,\\\"scenario\\\":\\\"SDK-1.13.0\\\",\\\"environment_label\\\":null,\\\"force_text_dnn\\\":false,\\\"enable_feature_sweeping\\\":true,\\\"enable_early_stopping\\\":true,\\\"early_stopping_n_iters\\\":10,\\\"metrics\\\":null,\\\"enable_ensembling\\\":true,\\\"enable_stack_ensembling\\\":true,\\\"ensemble_iterations\\\":15,\\\"enable_tf\\\":false,\\\"enable_subsampling\\\":null,\\\"subsample_seed\\\":null,\\\"enable_nimbusml\\\":false,\\\"enable_streaming\\\":false,\\\"force_streaming\\\":false,\\\"track_child_runs\\\":true,\\\"allowed_private_models\\\":[],\\\"label_column_name\\\":\\\"DEATH_EVENT\\\",\\\"weight_column_name\\\":null,\\\"cv_split_column_names\\\":null,\\\"enable_local_managed\\\":false,\\\"_local_managed_run_id\\\":null,\\\"cost_mode\\\":1,\\\"lag_length\\\":0,\\\"metric_operation\\\":\\\"maximize\\\",\\\"preprocess\\\":true}\", \"DataPrepJsonString\": \"{\\\\\\\"training_data\\\\\\\": \\\\\\\"{\\\\\\\\\\\\\\\"blocks\\\\\\\\\\\\\\\": [{\\\\\\\\\\\\\\\"id\\\\\\\\\\\\\\\": \\\\\\\\\\\\\\\"d3785514-608a-4ac7-ae28-02c000c50678\\\\\\\\\\\\\\\", \\\\\\\\\\\\\\\"type\\\\\\\\\\\\\\\": \\\\\\\\\\\\\\\"Microsoft.DPrep.GetDatastoreFilesBlock\\\\\\\\\\\\\\\", \\\\\\\\\\\\\\\"arguments\\\\\\\\\\\\\\\": {\\\\\\\\\\\\\\\"datastores\\\\\\\\\\\\\\\": [{\\\\\\\\\\\\\\\"datastoreName\\\\\\\\\\\\\\\": \\\\\\\\\\\\\\\"workspaceblobstore\\\\\\\\\\\\\\\", \\\\\\\\\\\\\\\"path\\\\\\\\\\\\\\\": \\\\\\\\\\\\\\\"train.csv\\\\\\\\\\\\\\\", \\\\\\\\\\\\\\\"resourceGroup\\\\\\\\\\\\\\\": \\\\\\\\\\\\\\\"aml-quickstarts-135902\\\\\\\\\\\\\\\", \\\\\\\\\\\\\\\"subscription\\\\\\\\\\\\\\\": \\\\\\\\\\\\\\\"cdbe0b43-92a0-4715-838a-f2648cc7ad21\\\\\\\\\\\\\\\", \\\\\\\\\\\\\\\"workspaceName\\\\\\\\\\\\\\\": \\\\\\\\\\\\\\\"quick-starts-ws-135902\\\\\\\\\\\\\\\"}]}, \\\\\\\\\\\\\\\"localData\\\\\\\\\\\\\\\": {}, \\\\\\\\\\\\\\\"isEnabled\\\\\\\\\\\\\\\": true, \\\\\\\\\\\\\\\"name\\\\\\\\\\\\\\\": null, \\\\\\\\\\\\\\\"annotation\\\\\\\\\\\\\\\": null}, {\\\\\\\\\\\\\\\"id\\\\\\\\\\\\\\\": \\\\\\\\\\\\\\\"642aeaa3-278a-47b0-a89c-8310bbbbffda\\\\\\\\\\\\\\\", \\\\\\\\\\\\\\\"type\\\\\\\\\\\\\\\": \\\\\\\\\\\\\\\"Microsoft.DPrep.ParseDelimitedBlock\\\\\\\\\\\\\\\", \\\\\\\\\\\\\\\"arguments\\\\\\\\\\\\\\\": {\\\\\\\\\\\\\\\"columnHeadersMode\\\\\\\\\\\\\\\": 3, \\\\\\\\\\\\\\\"fileEncoding\\\\\\\\\\\\\\\": 0, \\\\\\\\\\\\\\\"handleQuotedLineBreaks\\\\\\\\\\\\\\\": false, \\\\\\\\\\\\\\\"preview\\\\\\\\\\\\\\\": false, \\\\\\\\\\\\\\\"separator\\\\\\\\\\\\\\\": \\\\\\\\\\\\\\\",\\\\\\\\\\\\\\\", \\\\\\\\\\\\\\\"skipRows\\\\\\\\\\\\\\\": 0, \\\\\\\\\\\\\\\"skipRowsMode\\\\\\\\\\\\\\\": 0}, \\\\\\\\\\\\\\\"localData\\\\\\\\\\\\\\\": {}, \\\\\\\\\\\\\\\"isEnabled\\\\\\\\\\\\\\\": true, \\\\\\\\\\\\\\\"name\\\\\\\\\\\\\\\": null, \\\\\\\\\\\\\\\"annotation\\\\\\\\\\\\\\\": null}, {\\\\\\\\\\\\\\\"id\\\\\\\\\\\\\\\": \\\\\\\\\\\\\\\"1fe83380-cb8d-411c-b597-5c9c52845f17\\\\\\\\\\\\\\\", \\\\\\\\\\\\\\\"type\\\\\\\\\\\\\\\": \\\\\\\\\\\\\\\"Microsoft.DPrep.DropColumnsBlock\\\\\\\\\\\\\\\", \\\\\\\\\\\\\\\"arguments\\\\\\\\\\\\\\\": {\\\\\\\\\\\\\\\"columns\\\\\\\\\\\\\\\": {\\\\\\\\\\\\\\\"type\\\\\\\\\\\\\\\": 0, \\\\\\\\\\\\\\\"details\\\\\\\\\\\\\\\": {\\\\\\\\\\\\\\\"selectedColumns\\\\\\\\\\\\\\\": [\\\\\\\\\\\\\\\"Path\\\\\\\\\\\\\\\"]}}}, \\\\\\\\\\\\\\\"localData\\\\\\\\\\\\\\\": {}, \\\\\\\\\\\\\\\"isEnabled\\\\\\\\\\\\\\\": true, \\\\\\\\\\\\\\\"name\\\\\\\\\\\\\\\": null, \\\\\\\\\\\\\\\"annotation\\\\\\\\\\\\\\\": null}, {\\\\\\\\\\\\\\\"id\\\\\\\\\\\\\\\": \\\\\\\\\\\\\\\"c03d13c9-4993-478f-94fb-cb9732a27462\\\\\\\\\\\\\\\", \\\\\\\\\\\\\\\"type\\\\\\\\\\\\\\\": \\\\\\\\\\\\\\\"Microsoft.DPrep.SetColumnTypesBlock\\\\\\\\\\\\\\\", \\\\\\\\\\\\\\\"arguments\\\\\\\\\\\\\\\": {\\\\\\\\\\\\\\\"columnConversion\\\\\\\\\\\\\\\": [{\\\\\\\\\\\\\\\"column\\\\\\\\\\\\\\\": {\\\\\\\\\\\\\\\"type\\\\\\\\\\\\\\\": 2, \\\\\\\\\\\\\\\"details\\\\\\\\\\\\\\\": {\\\\\\\\\\\\\\\"selectedColumn\\\\\\\\\\\\\\\": \\\\\\\\\\\\\\\"age\\\\\\\\\\\\\\\"}}, \\\\\\\\\\\\\\\"typeProperty\\\\\\\\\\\\\\\": 3}, {\\\\\\\\\\\\\\\"column\\\\\\\\\\\\\\\": {\\\\\\\\\\\\\\\"type\\\\\\\\\\\\\\\": 2, \\\\\\\\\\\\\\\"details\\\\\\\\\\\\\\\": {\\\\\\\\\\\\\\\"selectedColumn\\\\\\\\\\\\\\\": \\\\\\\\\\\\\\\"anaemia\\\\\\\\\\\\\\\"}}, \\\\\\\\\\\\\\\"typeProperty\\\\\\\\\\\\\\\": 2}, {\\\\\\\\\\\\\\\"column\\\\\\\\\\\\\\\": {\\\\\\\\\\\\\\\"type\\\\\\\\\\\\\\\": 2, \\\\\\\\\\\\\\\"details\\\\\\\\\\\\\\\": {\\\\\\\\\\\\\\\"selectedColumn\\\\\\\\\\\\\\\": \\\\\\\\\\\\\\\"creatinine_phosphokinase\\\\\\\\\\\\\\\"}}, \\\\\\\\\\\\\\\"typeProperty\\\\\\\\\\\\\\\": 2}, {\\\\\\\\\\\\\\\"column\\\\\\\\\\\\\\\": {\\\\\\\\\\\\\\\"type\\\\\\\\\\\\\\\": 2, \\\\\\\\\\\\\\\"details\\\\\\\\\\\\\\\": {\\\\\\\\\\\\\\\"selectedColumn\\\\\\\\\\\\\\\": \\\\\\\\\\\\\\\"diabetes\\\\\\\\\\\\\\\"}}, \\\\\\\\\\\\\\\"typeProperty\\\\\\\\\\\\\\\": 2}, {\\\\\\\\\\\\\\\"column\\\\\\\\\\\\\\\": {\\\\\\\\\\\\\\\"type\\\\\\\\\\\\\\\": 2, \\\\\\\\\\\\\\\"details\\\\\\\\\\\\\\\": {\\\\\\\\\\\\\\\"selectedColumn\\\\\\\\\\\\\\\": \\\\\\\\\\\\\\\"ejection_fraction\\\\\\\\\\\\\\\"}}, \\\\\\\\\\\\\\\"typeProperty\\\\\\\\\\\\\\\": 2}, {\\\\\\\\\\\\\\\"column\\\\\\\\\\\\\\\": {\\\\\\\\\\\\\\\"type\\\\\\\\\\\\\\\": 2, \\\\\\\\\\\\\\\"details\\\\\\\\\\\\\\\": {\\\\\\\\\\\\\\\"selectedColumn\\\\\\\\\\\\\\\": \\\\\\\\\\\\\\\"high_blood_pressure\\\\\\\\\\\\\\\"}}, \\\\\\\\\\\\\\\"typeProperty\\\\\\\\\\\\\\\": 2}, {\\\\\\\\\\\\\\\"column\\\\\\\\\\\\\\\": {\\\\\\\\\\\\\\\"type\\\\\\\\\\\\\\\": 2, \\\\\\\\\\\\\\\"details\\\\\\\\\\\\\\\": {\\\\\\\\\\\\\\\"selectedColumn\\\\\\\\\\\\\\\": \\\\\\\\\\\\\\\"platelets\\\\\\\\\\\\\\\"}}, \\\\\\\\\\\\\\\"typeProperty\\\\\\\\\\\\\\\": 3}, {\\\\\\\\\\\\\\\"column\\\\\\\\\\\\\\\": {\\\\\\\\\\\\\\\"type\\\\\\\\\\\\\\\": 2, \\\\\\\\\\\\\\\"details\\\\\\\\\\\\\\\": {\\\\\\\\\\\\\\\"selectedColumn\\\\\\\\\\\\\\\": \\\\\\\\\\\\\\\"serum_creatinine\\\\\\\\\\\\\\\"}}, \\\\\\\\\\\\\\\"typeProperty\\\\\\\\\\\\\\\": 3}, {\\\\\\\\\\\\\\\"column\\\\\\\\\\\\\\\": {\\\\\\\\\\\\\\\"type\\\\\\\\\\\\\\\": 2, \\\\\\\\\\\\\\\"details\\\\\\\\\\\\\\\": {\\\\\\\\\\\\\\\"selectedColumn\\\\\\\\\\\\\\\": \\\\\\\\\\\\\\\"serum_sodium\\\\\\\\\\\\\\\"}}, \\\\\\\\\\\\\\\"typeProperty\\\\\\\\\\\\\\\": 2}, {\\\\\\\\\\\\\\\"column\\\\\\\\\\\\\\\": {\\\\\\\\\\\\\\\"type\\\\\\\\\\\\\\\": 2, \\\\\\\\\\\\\\\"details\\\\\\\\\\\\\\\": {\\\\\\\\\\\\\\\"selectedColumn\\\\\\\\\\\\\\\": \\\\\\\\\\\\\\\"sex\\\\\\\\\\\\\\\"}}, \\\\\\\\\\\\\\\"typeProperty\\\\\\\\\\\\\\\": 2}, {\\\\\\\\\\\\\\\"column\\\\\\\\\\\\\\\": {\\\\\\\\\\\\\\\"type\\\\\\\\\\\\\\\": 2, \\\\\\\\\\\\\\\"details\\\\\\\\\\\\\\\": {\\\\\\\\\\\\\\\"selectedColumn\\\\\\\\\\\\\\\": \\\\\\\\\\\\\\\"smoking\\\\\\\\\\\\\\\"}}, \\\\\\\\\\\\\\\"typeProperty\\\\\\\\\\\\\\\": 2}, {\\\\\\\\\\\\\\\"column\\\\\\\\\\\\\\\": {\\\\\\\\\\\\\\\"type\\\\\\\\\\\\\\\": 2, \\\\\\\\\\\\\\\"details\\\\\\\\\\\\\\\": {\\\\\\\\\\\\\\\"selectedColumn\\\\\\\\\\\\\\\": \\\\\\\\\\\\\\\"time\\\\\\\\\\\\\\\"}}, \\\\\\\\\\\\\\\"typeProperty\\\\\\\\\\\\\\\": 2}, {\\\\\\\\\\\\\\\"column\\\\\\\\\\\\\\\": {\\\\\\\\\\\\\\\"type\\\\\\\\\\\\\\\": 2, \\\\\\\\\\\\\\\"details\\\\\\\\\\\\\\\": {\\\\\\\\\\\\\\\"selectedColumn\\\\\\\\\\\\\\\": \\\\\\\\\\\\\\\"DEATH_EVENT\\\\\\\\\\\\\\\"}}, \\\\\\\\\\\\\\\"typeProperty\\\\\\\\\\\\\\\": 2}]}, \\\\\\\\\\\\\\\"localData\\\\\\\\\\\\\\\": {}, \\\\\\\\\\\\\\\"isEnabled\\\\\\\\\\\\\\\": true, \\\\\\\\\\\\\\\"name\\\\\\\\\\\\\\\": null, \\\\\\\\\\\\\\\"annotation\\\\\\\\\\\\\\\": null}], \\\\\\\\\\\\\\\"inspectors\\\\\\\\\\\\\\\": [], \\\\\\\\\\\\\\\"meta\\\\\\\\\\\\\\\": {\\\\\\\\\\\\\\\"savedDatasetId\\\\\\\\\\\\\\\": \\\\\\\\\\\\\\\"5a0ac832-232c-4541-a21a-6565358d3471\\\\\\\\\\\\\\\", \\\\\\\\\\\\\\\"datasetType\\\\\\\\\\\\\\\": \\\\\\\\\\\\\\\"tabular\\\\\\\\\\\\\\\", \\\\\\\\\\\\\\\"subscriptionId\\\\\\\\\\\\\\\": \\\\\\\\\\\\\\\"cdbe0b43-92a0-4715-838a-f2648cc7ad21\\\\\\\\\\\\\\\", \\\\\\\\\\\\\\\"workspaceId\\\\\\\\\\\\\\\": \\\\\\\\\\\\\\\"9ef76144-e983-40a6-8655-4e4eab8b4c95\\\\\\\\\\\\\\\", \\\\\\\\\\\\\\\"workspaceLocation\\\\\\\\\\\\\\\": \\\\\\\\\\\\\\\"southcentralus\\\\\\\\\\\\\\\"}}\\\\\\\", \\\\\\\"activities\\\\\\\": 0}\", \"EnableSubsampling\": null, \"runTemplate\": \"AutoML\", \"azureml.runsource\": \"automl\", \"display_task_type\": \"classification\", \"dependencies_versions\": \"{\\\"azureml-widgets\\\": \\\"1.19.0\\\", \\\"azureml-train\\\": \\\"1.19.0\\\", \\\"azureml-train-restclients-hyperdrive\\\": \\\"1.19.0\\\", \\\"azureml-train-core\\\": \\\"1.19.0\\\", \\\"azureml-train-automl\\\": \\\"1.19.0\\\", \\\"azureml-train-automl-runtime\\\": \\\"1.19.0\\\", \\\"azureml-train-automl-client\\\": \\\"1.19.0\\\", \\\"azureml-tensorboard\\\": \\\"1.19.0\\\", \\\"azureml-telemetry\\\": \\\"1.19.0\\\", \\\"azureml-sdk\\\": \\\"1.19.0\\\", \\\"azureml-samples\\\": \\\"0+unknown\\\", \\\"azureml-pipeline\\\": \\\"1.19.0\\\", \\\"azureml-pipeline-steps\\\": \\\"1.19.0\\\", \\\"azureml-pipeline-core\\\": \\\"1.19.0\\\", \\\"azureml-opendatasets\\\": \\\"1.19.0\\\", \\\"azureml-model-management-sdk\\\": \\\"1.0.1b6.post1\\\", \\\"azureml-mlflow\\\": \\\"1.19.0\\\", \\\"azureml-interpret\\\": \\\"1.19.0\\\", \\\"azureml-explain-model\\\": \\\"1.19.0\\\", \\\"azureml-defaults\\\": \\\"1.19.0\\\", \\\"azureml-dataset-runtime\\\": \\\"1.19.0.post1\\\", \\\"azureml-dataprep\\\": \\\"2.6.1\\\", \\\"azureml-dataprep-rslex\\\": \\\"1.4.0\\\", \\\"azureml-dataprep-native\\\": \\\"26.0.0\\\", \\\"azureml-datadrift\\\": \\\"1.19.0\\\", \\\"azureml-core\\\": \\\"1.19.0\\\", \\\"azureml-contrib-services\\\": \\\"1.19.0\\\", \\\"azureml-contrib-server\\\": \\\"1.19.0\\\", \\\"azureml-contrib-reinforcementlearning\\\": \\\"1.19.0\\\", \\\"azureml-contrib-pipeline-steps\\\": \\\"1.19.0\\\", \\\"azureml-contrib-notebook\\\": \\\"1.19.0\\\", \\\"azureml-contrib-interpret\\\": \\\"1.19.0\\\", \\\"azureml-contrib-gbdt\\\": \\\"1.19.0\\\", \\\"azureml-contrib-fairness\\\": \\\"1.19.0\\\", \\\"azureml-contrib-dataset\\\": \\\"1.19.0\\\", \\\"azureml-cli-common\\\": \\\"1.19.0\\\", \\\"azureml-automl-runtime\\\": \\\"1.19.0\\\", \\\"azureml-automl-core\\\": \\\"1.19.0\\\", \\\"azureml-accel-models\\\": \\\"1.19.0\\\"}\", \"_aml_system_scenario_identification\": \"Remote.Parent\", \"ClientType\": \"SDK\", \"environment_cpu_name\": \"AzureML-AutoML\", \"environment_cpu_label\": \"prod\", \"environment_gpu_name\": \"AzureML-AutoML-GPU\", \"environment_gpu_label\": \"prod\", \"root_attribution\": \"automl\", \"attribution\": \"AutoML\", \"Orchestrator\": \"AutoML\", \"CancelUri\": \"https://southcentralus.experiments.azureml.net/jasmine/v1.0/subscriptions/cdbe0b43-92a0-4715-838a-f2648cc7ad21/resourceGroups/aml-quickstarts-135902/providers/Microsoft.MachineLearningServices/workspaces/quick-starts-ws-135902/experimentids/a6c7c377-20c7-441a-89f5-9a80aca6f1e1/cancel/AutoML_1d6b790b-08ce-4bcf-b70c-aa121e567c60\", \"ClientSdkVersion\": \"1.20.0\", \"snapshotId\": \"00000000-0000-0000-0000-000000000000\", \"SetupRunId\": \"AutoML_1d6b790b-08ce-4bcf-b70c-aa121e567c60_setup\", \"SetupRunContainerId\": \"dcid.AutoML_1d6b790b-08ce-4bcf-b70c-aa121e567c60_setup\", \"FeaturizationRunJsonPath\": \"featurizer_container.json\", \"FeaturizationRunId\": \"AutoML_1d6b790b-08ce-4bcf-b70c-aa121e567c60_featurize\", \"ProblemInfoJsonString\": \"{\\\"dataset_num_categorical\\\": 0, \\\"is_sparse\\\": false, \\\"subsampling\\\": false, \\\"dataset_classes\\\": 2, \\\"dataset_features\\\": 12, \\\"dataset_samples\\\": 239, \\\"single_frequency_class_detected\\\": false}\", \"ModelExplainRunId\": \"AutoML_1d6b790b-08ce-4bcf-b70c-aa121e567c60_ModelExplain\"}, \"tags\": {\"model_explain_run\": \"best_run\", \"_aml_system_azureml.automlComponent\": \"AutoML\", \"pipeline_id\": \"\", \"score\": \"\", \"predicted_cost\": \"\", \"fit_time\": \"\", \"training_percent\": \"\", \"iteration\": \"\", \"run_preprocessor\": \"\", \"run_algorithm\": \"\", \"dynamic_whitelisting_iterations\": \"<24>;<30>;<35>;<40>;<45>;<50>;\", \"automl_best_child_run_id\": \"AutoML_1d6b790b-08ce-4bcf-b70c-aa121e567c60_55\"}, \"end_time_utc\": \"2021-01-24T16:41:36.340577Z\", \"status\": \"Completed\", \"log_files\": {}, \"log_groups\": [], \"run_duration\": \"0:25:17\"}, \"child_runs\": [{\"run_id\": \"AutoML_1d6b790b-08ce-4bcf-b70c-aa121e567c60_0\", \"run_number\": 6, \"metric\": null, \"status\": \"Completed\", \"run_type\": \"azureml.scriptrun\", \"training_percent\": \"100\", \"start_time\": \"2021-01-24T16:21:10.736446Z\", \"end_time\": \"2021-01-24T16:22:04.018762Z\", \"created_time\": \"2021-01-24T16:20:54.211903Z\", \"created_time_dt\": \"2021-01-24T16:20:54.211903Z\", \"duration\": \"0:01:09\", \"iteration\": \"0\", \"goal\": \"accuracy_max\", \"run_name\": \"MaxAbsScaler, LightGBM\", \"run_properties\": \"copy=True\", \"primary_metric\": 0.83264768, \"best_metric\": 0.83264768}, {\"run_id\": \"AutoML_1d6b790b-08ce-4bcf-b70c-aa121e567c60_2\", \"run_number\": 7, \"metric\": null, \"status\": \"Completed\", \"run_type\": \"azureml.scriptrun\", \"training_percent\": \"100\", \"start_time\": \"2021-01-24T16:21:10.068407Z\", \"end_time\": \"2021-01-24T16:22:08.523791Z\", \"created_time\": \"2021-01-24T16:20:54.229911Z\", \"created_time_dt\": \"2021-01-24T16:20:54.229911Z\", \"duration\": \"0:01:14\", \"iteration\": \"2\", \"goal\": \"accuracy_max\", \"run_name\": \"MinMaxScaler, RandomForest\", \"run_properties\": \"copy=True, feature_range=(0, 1\", \"primary_metric\": 0.8535865, \"best_metric\": 0.8535865}, {\"run_id\": \"AutoML_1d6b790b-08ce-4bcf-b70c-aa121e567c60_3\", \"run_number\": 8, \"metric\": null, \"status\": \"Completed\", \"run_type\": \"azureml.scriptrun\", \"training_percent\": \"100\", \"start_time\": \"2021-01-24T16:21:07.823399Z\", \"end_time\": \"2021-01-24T16:22:03.124296Z\", \"created_time\": \"2021-01-24T16:20:54.238511Z\", \"created_time_dt\": \"2021-01-24T16:20:54.238511Z\", \"duration\": \"0:01:08\", \"iteration\": \"3\", \"goal\": \"accuracy_max\", \"run_name\": \"MinMaxScaler, RandomForest\", \"run_properties\": \"copy=True, feature_range=(0, 1\", \"primary_metric\": 0.86186709, \"best_metric\": 0.86186709}, {\"run_id\": \"AutoML_1d6b790b-08ce-4bcf-b70c-aa121e567c60_1\", \"run_number\": 9, \"metric\": null, \"status\": \"Completed\", \"run_type\": \"azureml.scriptrun\", \"training_percent\": \"100\", \"start_time\": \"2021-01-24T16:21:09.660336Z\", \"end_time\": \"2021-01-24T16:22:01.746426Z\", \"created_time\": \"2021-01-24T16:20:54.27899Z\", \"created_time_dt\": \"2021-01-24T16:20:54.27899Z\", \"duration\": \"0:01:07\", \"iteration\": \"1\", \"goal\": \"accuracy_max\", \"run_name\": \"MaxAbsScaler, XGBoostClassifier\", \"run_properties\": \"copy=True\", \"primary_metric\": 0.84941983, \"best_metric\": 0.84941983}, {\"run_id\": \"AutoML_1d6b790b-08ce-4bcf-b70c-aa121e567c60_4\", \"run_number\": 10, \"metric\": null, \"status\": \"Completed\", \"run_type\": \"azureml.scriptrun\", \"training_percent\": \"100\", \"start_time\": \"2021-01-24T16:22:17.14746Z\", \"end_time\": \"2021-01-24T16:24:48.21298Z\", \"created_time\": \"2021-01-24T16:22:02.93492Z\", \"created_time_dt\": \"2021-01-24T16:22:02.93492Z\", \"duration\": \"0:02:45\", \"iteration\": \"4\", \"goal\": \"accuracy_max\", \"run_name\": \"MinMaxScaler, RandomForest\", \"run_properties\": \"copy=True, feature_range=(0, 1\", \"primary_metric\": 0.83254219, \"best_metric\": 0.86186709}, {\"run_id\": \"AutoML_1d6b790b-08ce-4bcf-b70c-aa121e567c60_5\", \"run_number\": 11, \"metric\": null, \"status\": \"Completed\", \"run_type\": \"azureml.scriptrun\", \"training_percent\": \"100\", \"start_time\": \"2021-01-24T16:22:19.797083Z\", \"end_time\": \"2021-01-24T16:24:47.936147Z\", \"created_time\": \"2021-01-24T16:22:08.508464Z\", \"created_time_dt\": \"2021-01-24T16:22:08.508464Z\", \"duration\": \"0:02:39\", \"iteration\": \"5\", \"goal\": \"accuracy_max\", \"run_name\": \"SparseNormalizer, XGBoostClassifier\", \"run_properties\": \"<azureml.automl.runtime.shared.model_wrappers.SparseNormalizer object at 0x7fc635585978\", \"primary_metric\": 0.83670886, \"best_metric\": 0.86186709}, {\"run_id\": \"AutoML_1d6b790b-08ce-4bcf-b70c-aa121e567c60_6\", \"run_number\": 12, \"metric\": null, \"status\": \"Completed\", \"run_type\": \"azureml.scriptrun\", \"training_percent\": \"100\", \"start_time\": \"2021-01-24T16:22:19.365131Z\", \"end_time\": \"2021-01-24T16:24:47.080553Z\", \"created_time\": \"2021-01-24T16:22:08.512641Z\", \"created_time_dt\": \"2021-01-24T16:22:08.512641Z\", \"duration\": \"0:02:38\", \"iteration\": \"6\", \"goal\": \"accuracy_max\", \"run_name\": \"RobustScaler, ExtremeRandomTrees\", \"run_properties\": \"copy=True, quantile_range=[25, 75], with_centering=True,\\n             with_scaling=False\", \"primary_metric\": 0.85759494, \"best_metric\": 0.86186709}, {\"run_id\": \"AutoML_1d6b790b-08ce-4bcf-b70c-aa121e567c60_7\", \"run_number\": 13, \"metric\": null, \"status\": \"Completed\", \"run_type\": \"azureml.scriptrun\", \"training_percent\": \"100\", \"start_time\": \"2021-01-24T16:22:25.140375Z\", \"end_time\": \"2021-01-24T16:24:49.463884Z\", \"created_time\": \"2021-01-24T16:22:12.82352Z\", \"created_time_dt\": \"2021-01-24T16:22:12.82352Z\", \"duration\": \"0:02:36\", \"iteration\": \"7\", \"goal\": \"accuracy_max\", \"run_name\": \"MinMaxScaler, SVM\", \"run_properties\": \"copy=True, feature_range=(0, 1\", \"primary_metric\": 0.73644515, \"best_metric\": 0.86186709}, {\"run_id\": \"AutoML_1d6b790b-08ce-4bcf-b70c-aa121e567c60_8\", \"run_number\": 14, \"metric\": null, \"status\": \"Completed\", \"run_type\": \"azureml.scriptrun\", \"training_percent\": \"100\", \"start_time\": \"2021-01-24T16:25:02.862103Z\", \"end_time\": \"2021-01-24T16:26:00.2341Z\", \"created_time\": \"2021-01-24T16:24:50.181305Z\", \"created_time_dt\": \"2021-01-24T16:24:50.181305Z\", \"duration\": \"0:01:10\", \"iteration\": \"8\", \"goal\": \"accuracy_max\", \"run_name\": \"SparseNormalizer, XGBoostClassifier\", \"run_properties\": \"<azureml.automl.runtime.shared.model_wrappers.SparseNormalizer object at 0x7f38612f6dd8\", \"primary_metric\": 0.82848101, \"best_metric\": 0.86186709}, {\"run_id\": \"AutoML_1d6b790b-08ce-4bcf-b70c-aa121e567c60_10\", \"run_number\": 15, \"metric\": null, \"status\": \"Completed\", \"run_type\": \"azureml.scriptrun\", \"training_percent\": \"100\", \"start_time\": \"2021-01-24T16:25:02.808585Z\", \"end_time\": \"2021-01-24T16:26:00.444321Z\", \"created_time\": \"2021-01-24T16:24:50.232326Z\", \"created_time_dt\": \"2021-01-24T16:24:50.232326Z\", \"duration\": \"0:01:10\", \"iteration\": \"10\", \"goal\": \"accuracy_max\", \"run_name\": \"SparseNormalizer, XGBoostClassifier\", \"run_properties\": \"<azureml.automl.runtime.shared.model_wrappers.SparseNormalizer object at 0x7fa81f112f28\", \"primary_metric\": 0.81598101, \"best_metric\": 0.86186709}, {\"run_id\": \"AutoML_1d6b790b-08ce-4bcf-b70c-aa121e567c60_9\", \"run_number\": 16, \"metric\": null, \"status\": \"Completed\", \"run_type\": \"azureml.scriptrun\", \"training_percent\": \"100\", \"start_time\": \"2021-01-24T16:25:04.061601Z\", \"end_time\": \"2021-01-24T16:25:58.286254Z\", \"created_time\": \"2021-01-24T16:24:50.237386Z\", \"created_time_dt\": \"2021-01-24T16:24:50.237386Z\", \"duration\": \"0:01:08\", \"iteration\": \"9\", \"goal\": \"accuracy_max\", \"run_name\": \"SparseNormalizer, XGBoostClassifier\", \"run_properties\": \"<azureml.automl.runtime.shared.model_wrappers.SparseNormalizer object at 0x7f28fef26160\", \"primary_metric\": 0.78665612, \"best_metric\": 0.86186709}, {\"run_id\": \"AutoML_1d6b790b-08ce-4bcf-b70c-aa121e567c60_11\", \"run_number\": 17, \"metric\": null, \"status\": \"Completed\", \"run_type\": \"azureml.scriptrun\", \"training_percent\": \"100\", \"start_time\": \"2021-01-24T16:25:05.329052Z\", \"end_time\": \"2021-01-24T16:26:03.12435Z\", \"created_time\": \"2021-01-24T16:24:54.370065Z\", \"created_time_dt\": \"2021-01-24T16:24:54.370065Z\", \"duration\": \"0:01:08\", \"iteration\": \"11\", \"goal\": \"accuracy_max\", \"run_name\": \"MaxAbsScaler, GradientBoosting\", \"run_properties\": \"copy=True\", \"primary_metric\": 0.84520042, \"best_metric\": 0.86186709}, {\"run_id\": \"AutoML_1d6b790b-08ce-4bcf-b70c-aa121e567c60_12\", \"run_number\": 18, \"metric\": null, \"status\": \"Completed\", \"run_type\": \"azureml.scriptrun\", \"training_percent\": \"100\", \"start_time\": \"2021-01-24T16:26:16.227923Z\", \"end_time\": \"2021-01-24T16:27:08.595869Z\", \"created_time\": \"2021-01-24T16:26:01.619748Z\", \"created_time_dt\": \"2021-01-24T16:26:01.619748Z\", \"duration\": \"0:01:06\", \"iteration\": \"12\", \"goal\": \"accuracy_max\", \"run_name\": \"SparseNormalizer, XGBoostClassifier\", \"run_properties\": \"<azureml.automl.runtime.shared.model_wrappers.SparseNormalizer object at 0x7f2173e937b8\", \"primary_metric\": 0.84509494, \"best_metric\": 0.86186709}, {\"run_id\": \"AutoML_1d6b790b-08ce-4bcf-b70c-aa121e567c60_13\", \"run_number\": 19, \"metric\": null, \"status\": \"Completed\", \"run_type\": \"azureml.scriptrun\", \"training_percent\": \"100\", \"start_time\": \"2021-01-24T16:26:21.061513Z\", \"end_time\": \"2021-01-24T16:27:20.296303Z\", \"created_time\": \"2021-01-24T16:26:09.422413Z\", \"created_time_dt\": \"2021-01-24T16:26:09.422413Z\", \"duration\": \"0:01:10\", \"iteration\": \"13\", \"goal\": \"accuracy_max\", \"run_name\": \"MinMaxScaler, LightGBM\", \"run_properties\": \"copy=True, feature_range=(0, 1\", \"primary_metric\": 0.83259494, \"best_metric\": 0.86186709}, {\"run_id\": \"AutoML_1d6b790b-08ce-4bcf-b70c-aa121e567c60_14\", \"run_number\": 20, \"metric\": null, \"status\": \"Completed\", \"run_type\": \"azureml.scriptrun\", \"training_percent\": \"100\", \"start_time\": \"2021-01-24T16:26:22.901947Z\", \"end_time\": \"2021-01-24T16:27:14.568491Z\", \"created_time\": \"2021-01-24T16:26:09.549586Z\", \"created_time_dt\": \"2021-01-24T16:26:09.549586Z\", \"duration\": \"0:01:05\", \"iteration\": \"14\", \"goal\": \"accuracy_max\", \"run_name\": \"SparseNormalizer, LightGBM\", \"run_properties\": \"<azureml.automl.runtime.shared.model_wrappers.SparseNormalizer object at 0x7f6899136cc0\", \"primary_metric\": 0.8367616, \"best_metric\": 0.86186709}, {\"run_id\": \"AutoML_1d6b790b-08ce-4bcf-b70c-aa121e567c60_15\", \"run_number\": 21, \"metric\": null, \"status\": \"Completed\", \"run_type\": \"azureml.scriptrun\", \"training_percent\": \"100\", \"start_time\": \"2021-01-24T16:26:21.864571Z\", \"end_time\": \"2021-01-24T16:27:17.253857Z\", \"created_time\": \"2021-01-24T16:26:09.564726Z\", \"created_time_dt\": \"2021-01-24T16:26:09.564726Z\", \"duration\": \"0:01:07\", \"iteration\": \"15\", \"goal\": \"accuracy_max\", \"run_name\": \"RobustScaler, LightGBM\", \"run_properties\": \"copy=True, quantile_range=[10, 90], with_centering=True,\\n             with_scaling=False\", \"primary_metric\": 0.79077004, \"best_metric\": 0.86186709}, {\"run_id\": \"AutoML_1d6b790b-08ce-4bcf-b70c-aa121e567c60_16\", \"run_number\": 22, \"metric\": null, \"status\": \"Completed\", \"run_type\": \"azureml.scriptrun\", \"training_percent\": \"100\", \"start_time\": \"2021-01-24T16:27:24.207814Z\", \"end_time\": \"2021-01-24T16:28:14.744239Z\", \"created_time\": \"2021-01-24T16:27:11.727356Z\", \"created_time_dt\": \"2021-01-24T16:27:11.727356Z\", \"duration\": \"0:01:03\", \"iteration\": \"16\", \"goal\": \"accuracy_max\", \"run_name\": \"StandardScalerWrapper, LightGBM\", \"run_properties\": \"<azureml.automl.runtime.shared.model_wrappers.StandardScalerWrapper object at 0x7f4518c176d8\", \"primary_metric\": 0.83259494, \"best_metric\": 0.86186709}, {\"run_id\": \"AutoML_1d6b790b-08ce-4bcf-b70c-aa121e567c60_17\", \"run_number\": 23, \"metric\": null, \"status\": \"Completed\", \"run_type\": \"azureml.scriptrun\", \"training_percent\": \"100\", \"start_time\": \"2021-01-24T16:27:29.878707Z\", \"end_time\": \"2021-01-24T16:28:20.199819Z\", \"created_time\": \"2021-01-24T16:27:17.999776Z\", \"created_time_dt\": \"2021-01-24T16:27:17.999776Z\", \"duration\": \"0:01:02\", \"iteration\": \"17\", \"goal\": \"accuracy_max\", \"run_name\": \"StandardScalerWrapper, LightGBM\", \"run_properties\": \"<azureml.automl.runtime.shared.model_wrappers.StandardScalerWrapper object at 0x7f9ab1246cf8\", \"primary_metric\": 0.84098101, \"best_metric\": 0.86186709}, {\"run_id\": \"AutoML_1d6b790b-08ce-4bcf-b70c-aa121e567c60_18\", \"run_number\": 24, \"metric\": null, \"status\": \"Completed\", \"run_type\": \"azureml.scriptrun\", \"training_percent\": \"100\", \"start_time\": \"2021-01-24T16:27:37.88675Z\", \"end_time\": \"2021-01-24T16:29:31.466051Z\", \"created_time\": \"2021-01-24T16:27:24.326799Z\", \"created_time_dt\": \"2021-01-24T16:27:24.326799Z\", \"duration\": \"0:02:07\", \"iteration\": \"18\", \"goal\": \"accuracy_max\", \"run_name\": \"RobustScaler, RandomForest\", \"run_properties\": \"copy=True, quantile_range=[10, 90], with_centering=True,\\n             with_scaling=True\", \"primary_metric\": 0.84098101, \"best_metric\": 0.86186709}, {\"run_id\": \"AutoML_1d6b790b-08ce-4bcf-b70c-aa121e567c60_19\", \"run_number\": 25, \"metric\": null, \"status\": \"Completed\", \"run_type\": \"azureml.scriptrun\", \"training_percent\": \"100\", \"start_time\": \"2021-01-24T16:27:34.760595Z\", \"end_time\": \"2021-01-24T16:28:25.012938Z\", \"created_time\": \"2021-01-24T16:27:24.356424Z\", \"created_time_dt\": \"2021-01-24T16:27:24.356424Z\", \"duration\": \"0:01:00\", \"iteration\": \"19\", \"goal\": \"accuracy_max\", \"run_name\": \"StandardScalerWrapper, GradientBoosting\", \"run_properties\": \"<azureml.automl.runtime.shared.model_wrappers.StandardScalerWrapper object at 0x7f1f21c8c668\", \"primary_metric\": 0.86191983, \"best_metric\": 0.86191983}, {\"run_id\": \"AutoML_1d6b790b-08ce-4bcf-b70c-aa121e567c60_20\", \"run_number\": 26, \"metric\": null, \"status\": \"Completed\", \"run_type\": \"azureml.scriptrun\", \"training_percent\": \"100\", \"start_time\": \"2021-01-24T16:28:35.260619Z\", \"end_time\": \"2021-01-24T16:29:33.204209Z\", \"created_time\": \"2021-01-24T16:28:17.748623Z\", \"created_time_dt\": \"2021-01-24T16:28:17.748623Z\", \"duration\": \"0:01:15\", \"iteration\": \"20\", \"goal\": \"accuracy_max\", \"run_name\": \"StandardScalerWrapper, LightGBM\", \"run_properties\": \"<azureml.automl.runtime.shared.model_wrappers.StandardScalerWrapper object at 0x7f5b75056e48\", \"primary_metric\": 0.85764768, \"best_metric\": 0.86191983}, {\"run_id\": \"AutoML_1d6b790b-08ce-4bcf-b70c-aa121e567c60_21\", \"run_number\": 27, \"metric\": null, \"status\": \"Completed\", \"run_type\": \"azureml.scriptrun\", \"training_percent\": \"100\", \"start_time\": \"2021-01-24T16:28:37.51658Z\", \"end_time\": \"2021-01-24T16:29:30.713452Z\", \"created_time\": \"2021-01-24T16:28:24.99172Z\", \"created_time_dt\": \"2021-01-24T16:28:24.99172Z\", \"duration\": \"0:01:05\", \"iteration\": \"21\", \"goal\": \"accuracy_max\", \"run_name\": \"SparseNormalizer, XGBoostClassifier\", \"run_properties\": \"<azureml.automl.runtime.shared.model_wrappers.SparseNormalizer object at 0x7f0599e79ba8\", \"primary_metric\": 0.78665612, \"best_metric\": 0.86191983}, {\"run_id\": \"AutoML_1d6b790b-08ce-4bcf-b70c-aa121e567c60_22\", \"run_number\": 28, \"metric\": null, \"status\": \"Completed\", \"run_type\": \"azureml.scriptrun\", \"training_percent\": \"100\", \"start_time\": \"2021-01-24T16:28:44.992866Z\", \"end_time\": \"2021-01-24T16:29:38.356006Z\", \"created_time\": \"2021-01-24T16:28:31.989146Z\", \"created_time_dt\": \"2021-01-24T16:28:31.989146Z\", \"duration\": \"0:01:06\", \"iteration\": \"22\", \"goal\": \"accuracy_max\", \"run_name\": \"TruncatedSVDWrapper, XGBoostClassifier\", \"run_properties\": \"n_components=0.6036842105263158, random_state=None\", \"primary_metric\": 0.8410865, \"best_metric\": 0.86191983}, {\"run_id\": \"AutoML_1d6b790b-08ce-4bcf-b70c-aa121e567c60_23\", \"run_number\": 29, \"metric\": null, \"status\": \"Completed\", \"run_type\": \"azureml.scriptrun\", \"training_percent\": \"100\", \"start_time\": \"2021-01-24T16:29:52.394546Z\", \"end_time\": \"2021-01-24T16:30:45.706786Z\", \"created_time\": \"2021-01-24T16:29:33.713946Z\", \"created_time_dt\": \"2021-01-24T16:29:33.713946Z\", \"duration\": \"0:01:11\", \"iteration\": \"23\", \"goal\": \"accuracy_max\", \"run_name\": \"StandardScalerWrapper, LightGBM\", \"run_properties\": \"<azureml.automl.runtime.shared.model_wrappers.StandardScalerWrapper object at 0x7f8df145bf98\", \"primary_metric\": 0.85775316, \"best_metric\": 0.86191983}, {\"run_id\": \"AutoML_1d6b790b-08ce-4bcf-b70c-aa121e567c60_24\", \"run_number\": 30, \"metric\": null, \"status\": \"Completed\", \"run_type\": \"azureml.scriptrun\", \"training_percent\": \"100\", \"start_time\": \"2021-01-24T16:29:54.497383Z\", \"end_time\": \"2021-01-24T16:30:43.890169Z\", \"created_time\": \"2021-01-24T16:29:40.384627Z\", \"created_time_dt\": \"2021-01-24T16:29:40.384627Z\", \"duration\": \"0:01:03\", \"iteration\": \"24\", \"goal\": \"accuracy_max\", \"run_name\": \"MinMaxScaler, GradientBoosting\", \"run_properties\": \"copy=True, feature_range=(0, 1\", \"primary_metric\": 0.82431435, \"best_metric\": 0.86191983}, {\"run_id\": \"AutoML_1d6b790b-08ce-4bcf-b70c-aa121e567c60_25\", \"run_number\": 31, \"metric\": null, \"status\": \"Completed\", \"run_type\": \"azureml.scriptrun\", \"training_percent\": \"100\", \"start_time\": \"2021-01-24T16:29:50.574853Z\", \"end_time\": \"2021-01-24T16:31:15.637703Z\", \"created_time\": \"2021-01-24T16:29:40.521993Z\", \"created_time_dt\": \"2021-01-24T16:29:40.521993Z\", \"duration\": \"0:01:35\", \"iteration\": \"25\", \"goal\": \"accuracy_max\", \"run_name\": \"StandardScalerWrapper, RandomForest\", \"run_properties\": \"<azureml.automl.runtime.shared.model_wrappers.StandardScalerWrapper object at 0x7fc0302a42b0\", \"primary_metric\": 0.78670886, \"best_metric\": 0.86191983}, {\"run_id\": \"AutoML_1d6b790b-08ce-4bcf-b70c-aa121e567c60_26\", \"run_number\": 32, \"metric\": null, \"status\": \"Completed\", \"run_type\": \"azureml.scriptrun\", \"training_percent\": \"100\", \"start_time\": \"2021-01-24T16:30:00.24505Z\", \"end_time\": \"2021-01-24T16:30:51.734097Z\", \"created_time\": \"2021-01-24T16:29:47.245657Z\", \"created_time_dt\": \"2021-01-24T16:29:47.245657Z\", \"duration\": \"0:01:04\", \"iteration\": \"26\", \"goal\": \"accuracy_max\", \"run_name\": \"RobustScaler, KNN\", \"run_properties\": \"copy=True, quantile_range=[10, 90], with_centering=True,\\n             with_scaling=False\", \"primary_metric\": 0.66518987, \"best_metric\": 0.86191983}, {\"run_id\": \"AutoML_1d6b790b-08ce-4bcf-b70c-aa121e567c60_27\", \"run_number\": 33, \"metric\": null, \"status\": \"Completed\", \"run_type\": \"azureml.scriptrun\", \"training_percent\": \"100\", \"start_time\": \"2021-01-24T16:31:00.091899Z\", \"end_time\": \"2021-01-24T16:31:57.40022Z\", \"created_time\": \"2021-01-24T16:30:46.656447Z\", \"created_time_dt\": \"2021-01-24T16:30:46.656447Z\", \"duration\": \"0:01:10\", \"iteration\": \"27\", \"goal\": \"accuracy_max\", \"run_name\": \"MaxAbsScaler, LightGBM\", \"run_properties\": \"copy=True\", \"primary_metric\": 0.84087553, \"best_metric\": 0.86191983}, {\"run_id\": \"AutoML_1d6b790b-08ce-4bcf-b70c-aa121e567c60_28\", \"run_number\": 34, \"metric\": null, \"status\": \"Completed\", \"run_type\": \"azureml.scriptrun\", \"training_percent\": \"100\", \"start_time\": \"2021-01-24T16:31:04.74255Z\", \"end_time\": \"2021-01-24T16:32:04.001737Z\", \"created_time\": \"2021-01-24T16:30:53.318479Z\", \"created_time_dt\": \"2021-01-24T16:30:53.318479Z\", \"duration\": \"0:01:10\", \"iteration\": \"28\", \"goal\": \"accuracy_max\", \"run_name\": \"MaxAbsScaler, LightGBM\", \"run_properties\": \"copy=True\", \"primary_metric\": 0.83270042, \"best_metric\": 0.86191983}, {\"run_id\": \"AutoML_1d6b790b-08ce-4bcf-b70c-aa121e567c60_29\", \"run_number\": 35, \"metric\": null, \"status\": \"Completed\", \"run_type\": \"azureml.scriptrun\", \"training_percent\": \"100\", \"start_time\": \"2021-01-24T16:31:11.637211Z\", \"end_time\": \"2021-01-24T16:32:05.964145Z\", \"created_time\": \"2021-01-24T16:30:58.996072Z\", \"created_time_dt\": \"2021-01-24T16:30:58.996072Z\", \"duration\": \"0:01:06\", \"iteration\": \"29\", \"goal\": \"accuracy_max\", \"run_name\": \"StandardScalerWrapper, LightGBM\", \"run_properties\": \"<azureml.automl.runtime.shared.model_wrappers.StandardScalerWrapper object at 0x7f551b21f390\", \"primary_metric\": 0.82436709, \"best_metric\": 0.86191983}, {\"run_id\": \"AutoML_1d6b790b-08ce-4bcf-b70c-aa121e567c60_30\", \"run_number\": 36, \"metric\": null, \"status\": \"Completed\", \"run_type\": \"azureml.scriptrun\", \"training_percent\": \"100\", \"start_time\": \"2021-01-24T16:31:33.415129Z\", \"end_time\": \"2021-01-24T16:32:43.540046Z\", \"created_time\": \"2021-01-24T16:31:19.612835Z\", \"created_time_dt\": \"2021-01-24T16:31:19.612835Z\", \"duration\": \"0:01:23\", \"iteration\": \"30\", \"goal\": \"accuracy_max\", \"run_name\": \"TruncatedSVDWrapper, GradientBoosting\", \"run_properties\": \"n_components=0.6531578947368422, random_state=None\", \"primary_metric\": 0.69440928, \"best_metric\": 0.86191983}, {\"run_id\": \"AutoML_1d6b790b-08ce-4bcf-b70c-aa121e567c60_31\", \"run_number\": 37, \"metric\": null, \"status\": \"Completed\", \"run_type\": \"azureml.scriptrun\", \"training_percent\": \"100\", \"start_time\": \"2021-01-24T16:32:14.46178Z\", \"end_time\": \"2021-01-24T16:33:12.519757Z\", \"created_time\": \"2021-01-24T16:32:00.085237Z\", \"created_time_dt\": \"2021-01-24T16:32:00.085237Z\", \"duration\": \"0:01:12\", \"iteration\": \"31\", \"goal\": \"accuracy_max\", \"run_name\": \"MaxAbsScaler, LightGBM\", \"run_properties\": \"copy=True\", \"primary_metric\": 0.86613924, \"best_metric\": 0.86613924}, {\"run_id\": \"AutoML_1d6b790b-08ce-4bcf-b70c-aa121e567c60_32\", \"run_number\": 38, \"metric\": null, \"status\": \"Completed\", \"run_type\": \"azureml.scriptrun\", \"training_percent\": \"100\", \"start_time\": \"2021-01-24T16:32:22.128595Z\", \"end_time\": \"2021-01-24T16:33:16.598502Z\", \"created_time\": \"2021-01-24T16:32:07.897805Z\", \"created_time_dt\": \"2021-01-24T16:32:07.897805Z\", \"duration\": \"0:01:08\", \"iteration\": \"32\", \"goal\": \"accuracy_max\", \"run_name\": \"StandardScalerWrapper, LightGBM\", \"run_properties\": \"<azureml.automl.runtime.shared.model_wrappers.StandardScalerWrapper object at 0x7fe88b4ee8d0\", \"primary_metric\": 0.85353376, \"best_metric\": 0.86613924}, {\"run_id\": \"AutoML_1d6b790b-08ce-4bcf-b70c-aa121e567c60_33\", \"run_number\": 39, \"metric\": null, \"status\": \"Completed\", \"run_type\": \"azureml.scriptrun\", \"training_percent\": \"100\", \"start_time\": \"2021-01-24T16:32:26.595817Z\", \"end_time\": \"2021-01-24T16:33:20.961878Z\", \"created_time\": \"2021-01-24T16:32:14.647471Z\", \"created_time_dt\": \"2021-01-24T16:32:14.647471Z\", \"duration\": \"0:01:06\", \"iteration\": \"33\", \"goal\": \"accuracy_max\", \"run_name\": \"MinMaxScaler, LightGBM\", \"run_properties\": \"copy=True, feature_range=(0, 1\", \"primary_metric\": 0.85363924, \"best_metric\": 0.86613924}, {\"run_id\": \"AutoML_1d6b790b-08ce-4bcf-b70c-aa121e567c60_34\", \"run_number\": 40, \"metric\": null, \"status\": \"Completed\", \"run_type\": \"azureml.scriptrun\", \"training_percent\": \"100\", \"start_time\": \"2021-01-24T16:32:58.845419Z\", \"end_time\": \"2021-01-24T16:33:51.172572Z\", \"created_time\": \"2021-01-24T16:32:46.281211Z\", \"created_time_dt\": \"2021-01-24T16:32:46.281211Z\", \"duration\": \"0:01:04\", \"iteration\": \"34\", \"goal\": \"accuracy_max\", \"run_name\": \"StandardScalerWrapper, RandomForest\", \"run_properties\": \"<azureml.automl.runtime.shared.model_wrappers.StandardScalerWrapper object at 0x7f5bd341e1d0\", \"primary_metric\": 0.84103376, \"best_metric\": 0.86613924}, {\"run_id\": \"AutoML_1d6b790b-08ce-4bcf-b70c-aa121e567c60_35\", \"run_number\": 41, \"metric\": null, \"status\": \"Completed\", \"run_type\": \"azureml.scriptrun\", \"training_percent\": \"100\", \"start_time\": \"2021-01-24T16:33:29.860633Z\", \"end_time\": \"2021-01-24T16:34:22.195642Z\", \"created_time\": \"2021-01-24T16:33:16.118327Z\", \"created_time_dt\": \"2021-01-24T16:33:16.118327Z\", \"duration\": \"0:01:06\", \"iteration\": \"35\", \"goal\": \"accuracy_max\", \"run_name\": \"PCA, LightGBM\", \"run_properties\": \"copy=True, iterated_power='auto', n_components=0.20789473684210527,\\n    random_state=None, svd_solver='auto', tol=0.0, whiten=True\", \"primary_metric\": 0.69440928, \"best_metric\": 0.86613924}, {\"run_id\": \"AutoML_1d6b790b-08ce-4bcf-b70c-aa121e567c60_36\", \"run_number\": 42, \"metric\": null, \"status\": \"Completed\", \"run_type\": \"azureml.scriptrun\", \"training_percent\": \"100\", \"start_time\": \"2021-01-24T16:33:36.266304Z\", \"end_time\": \"2021-01-24T16:34:27.300085Z\", \"created_time\": \"2021-01-24T16:33:23.503595Z\", \"created_time_dt\": \"2021-01-24T16:33:23.503595Z\", \"duration\": \"0:01:03\", \"iteration\": \"36\", \"goal\": \"accuracy_max\", \"run_name\": \"StandardScalerWrapper, LightGBM\", \"run_properties\": \"<azureml.automl.runtime.shared.model_wrappers.StandardScalerWrapper object at 0x7f7c21001eb8\", \"primary_metric\": 0.84936709, \"best_metric\": 0.86613924}, {\"run_id\": \"AutoML_1d6b790b-08ce-4bcf-b70c-aa121e567c60_37\", \"run_number\": 43, \"metric\": null, \"status\": \"Completed\", \"run_type\": \"azureml.scriptrun\", \"training_percent\": \"100\", \"start_time\": \"2021-01-24T16:33:35.196925Z\", \"end_time\": \"2021-01-24T16:34:32.051227Z\", \"created_time\": \"2021-01-24T16:33:23.678577Z\", \"created_time_dt\": \"2021-01-24T16:33:23.678577Z\", \"duration\": \"0:01:08\", \"iteration\": \"37\", \"goal\": \"accuracy_max\", \"run_name\": \"StandardScalerWrapper, XGBoostClassifier\", \"run_properties\": \"<azureml.automl.runtime.shared.model_wrappers.StandardScalerWrapper object at 0x7f4ef35c5dd8\", \"primary_metric\": 0.83681435, \"best_metric\": 0.86613924}, {\"run_id\": \"AutoML_1d6b790b-08ce-4bcf-b70c-aa121e567c60_38\", \"run_number\": 44, \"metric\": null, \"status\": \"Completed\", \"run_type\": \"azureml.scriptrun\", \"training_percent\": \"100\", \"start_time\": \"2021-01-24T16:34:06.531279Z\", \"end_time\": \"2021-01-24T16:34:59.042091Z\", \"created_time\": \"2021-01-24T16:33:54.860394Z\", \"created_time_dt\": \"2021-01-24T16:33:54.860394Z\", \"duration\": \"0:01:04\", \"iteration\": \"38\", \"goal\": \"accuracy_max\", \"run_name\": \"MaxAbsScaler, RandomForest\", \"run_properties\": \"copy=True\", \"primary_metric\": 0.87441983, \"best_metric\": 0.87441983}, {\"run_id\": \"AutoML_1d6b790b-08ce-4bcf-b70c-aa121e567c60_39\", \"run_number\": 45, \"metric\": null, \"status\": \"Completed\", \"run_type\": \"azureml.scriptrun\", \"training_percent\": \"100\", \"start_time\": \"2021-01-24T16:34:36.888759Z\", \"end_time\": \"2021-01-24T16:35:42.541164Z\", \"created_time\": \"2021-01-24T16:34:24.776979Z\", \"created_time_dt\": \"2021-01-24T16:34:24.776979Z\", \"duration\": \"0:01:17\", \"iteration\": \"39\", \"goal\": \"accuracy_max\", \"run_name\": \"MaxAbsScaler, LightGBM\", \"run_properties\": \"copy=True\", \"primary_metric\": 0.8367616, \"best_metric\": 0.87441983}, {\"run_id\": \"AutoML_1d6b790b-08ce-4bcf-b70c-aa121e567c60_40\", \"run_number\": 46, \"metric\": null, \"status\": \"Completed\", \"run_type\": \"azureml.scriptrun\", \"training_percent\": \"100\", \"start_time\": \"2021-01-24T16:34:45.167278Z\", \"end_time\": \"2021-01-24T16:35:36.696099Z\", \"created_time\": \"2021-01-24T16:34:31.469074Z\", \"created_time_dt\": \"2021-01-24T16:34:31.469074Z\", \"duration\": \"0:01:05\", \"iteration\": \"40\", \"goal\": \"accuracy_max\", \"run_name\": \"SparseNormalizer, LightGBM\", \"run_properties\": \"<azureml.automl.runtime.shared.model_wrappers.SparseNormalizer object at 0x7ff7dca51400\", \"primary_metric\": 0.82848101, \"best_metric\": 0.87441983}, {\"run_id\": \"AutoML_1d6b790b-08ce-4bcf-b70c-aa121e567c60_41\", \"run_number\": 47, \"metric\": null, \"status\": \"Completed\", \"run_type\": \"azureml.scriptrun\", \"training_percent\": \"100\", \"start_time\": \"2021-01-24T16:34:51.77862Z\", \"end_time\": \"2021-01-24T16:35:50.881802Z\", \"created_time\": \"2021-01-24T16:34:37.159753Z\", \"created_time_dt\": \"2021-01-24T16:34:37.159753Z\", \"duration\": \"0:01:13\", \"iteration\": \"41\", \"goal\": \"accuracy_max\", \"run_name\": \"MaxAbsScaler, LightGBM\", \"run_properties\": \"copy=True\", \"primary_metric\": 0.79077004, \"best_metric\": 0.87441983}, {\"run_id\": \"AutoML_1d6b790b-08ce-4bcf-b70c-aa121e567c60_42\", \"run_number\": 48, \"metric\": null, \"status\": \"Completed\", \"run_type\": \"azureml.scriptrun\", \"training_percent\": \"100\", \"start_time\": \"2021-01-24T16:35:14.614098Z\", \"end_time\": \"2021-01-24T16:36:30.946164Z\", \"created_time\": \"2021-01-24T16:35:02.382207Z\", \"created_time_dt\": \"2021-01-24T16:35:02.382207Z\", \"duration\": \"0:01:28\", \"iteration\": \"42\", \"goal\": \"accuracy_max\", \"run_name\": \"StandardScalerWrapper, LightGBM\", \"run_properties\": \"<azureml.automl.runtime.shared.model_wrappers.StandardScalerWrapper object at 0x7f65e86c3c18\", \"primary_metric\": 0.84931435, \"best_metric\": 0.87441983}, {\"run_id\": \"AutoML_1d6b790b-08ce-4bcf-b70c-aa121e567c60_43\", \"run_number\": 49, \"metric\": null, \"status\": \"Completed\", \"run_type\": \"azureml.scriptrun\", \"training_percent\": \"100\", \"start_time\": \"2021-01-24T16:35:52.988339Z\", \"end_time\": \"2021-01-24T16:36:47.612353Z\", \"created_time\": \"2021-01-24T16:35:39.601625Z\", \"created_time_dt\": \"2021-01-24T16:35:39.601625Z\", \"duration\": \"0:01:08\", \"iteration\": \"43\", \"goal\": \"accuracy_max\", \"run_name\": \"StandardScalerWrapper, LightGBM\", \"run_properties\": \"<azureml.automl.runtime.shared.model_wrappers.StandardScalerWrapper object at 0x7f13cfe25a58\", \"primary_metric\": 0.84098101, \"best_metric\": 0.87441983}, {\"run_id\": \"AutoML_1d6b790b-08ce-4bcf-b70c-aa121e567c60_44\", \"run_number\": 50, \"metric\": null, \"status\": \"Completed\", \"run_type\": \"azureml.scriptrun\", \"training_percent\": \"100\", \"start_time\": \"2021-01-24T16:35:58.147432Z\", \"end_time\": \"2021-01-24T16:36:54.445761Z\", \"created_time\": \"2021-01-24T16:35:45.816638Z\", \"created_time_dt\": \"2021-01-24T16:35:45.816638Z\", \"duration\": \"0:01:08\", \"iteration\": \"44\", \"goal\": \"accuracy_max\", \"run_name\": \"MaxAbsScaler, RandomForest\", \"run_properties\": \"copy=True\", \"primary_metric\": 0.78227848, \"best_metric\": 0.87441983}, {\"run_id\": \"AutoML_1d6b790b-08ce-4bcf-b70c-aa121e567c60_45\", \"run_number\": 51, \"metric\": null, \"status\": \"Completed\", \"run_type\": \"azureml.scriptrun\", \"training_percent\": \"100\", \"start_time\": \"2021-01-24T16:36:07.746572Z\", \"end_time\": \"2021-01-24T16:37:46.421562Z\", \"created_time\": \"2021-01-24T16:35:54.257609Z\", \"created_time_dt\": \"2021-01-24T16:35:54.257609Z\", \"duration\": \"0:01:52\", \"iteration\": \"45\", \"goal\": \"accuracy_max\", \"run_name\": \"MaxAbsScaler, RandomForest\", \"run_properties\": \"copy=True\", \"primary_metric\": 0.86603376, \"best_metric\": 0.87441983}, {\"run_id\": \"AutoML_1d6b790b-08ce-4bcf-b70c-aa121e567c60_46\", \"run_number\": 52, \"metric\": null, \"status\": \"Completed\", \"run_type\": \"azureml.scriptrun\", \"training_percent\": \"100\", \"start_time\": \"2021-01-24T16:36:47.620262Z\", \"end_time\": \"2021-01-24T16:37:51.231865Z\", \"created_time\": \"2021-01-24T16:36:33.760044Z\", \"created_time_dt\": \"2021-01-24T16:36:33.760044Z\", \"duration\": \"0:01:17\", \"iteration\": \"46\", \"goal\": \"accuracy_max\", \"run_name\": \"RobustScaler, LightGBM\", \"run_properties\": \"copy=True, quantile_range=[25, 75], with_centering=True,\\n             with_scaling=True\", \"primary_metric\": 0.84525316, \"best_metric\": 0.87441983}, {\"run_id\": \"AutoML_1d6b790b-08ce-4bcf-b70c-aa121e567c60_47\", \"run_number\": 53, \"metric\": null, \"status\": \"Completed\", \"run_type\": \"azureml.scriptrun\", \"training_percent\": \"100\", \"start_time\": \"2021-01-24T16:37:03.771548Z\", \"end_time\": \"2021-01-24T16:38:01.277543Z\", \"created_time\": \"2021-01-24T16:36:50.668709Z\", \"created_time_dt\": \"2021-01-24T16:36:50.668709Z\", \"duration\": \"0:01:10\", \"iteration\": \"47\", \"goal\": \"accuracy_max\", \"run_name\": \"RobustScaler, RandomForest\", \"run_properties\": \"copy=True, quantile_range=[10, 90], with_centering=True,\\n             with_scaling=True\", \"primary_metric\": 0.87025316, \"best_metric\": 0.87441983}, {\"run_id\": \"AutoML_1d6b790b-08ce-4bcf-b70c-aa121e567c60_48\", \"run_number\": 54, \"metric\": null, \"status\": \"Completed\", \"run_type\": \"azureml.scriptrun\", \"training_percent\": \"100\", \"start_time\": \"2021-01-24T16:37:07.621314Z\", \"end_time\": \"2021-01-24T16:38:06.909231Z\", \"created_time\": \"2021-01-24T16:36:56.874099Z\", \"created_time_dt\": \"2021-01-24T16:36:56.874099Z\", \"duration\": \"0:01:10\", \"iteration\": \"48\", \"goal\": \"accuracy_max\", \"run_name\": \"MaxAbsScaler, LightGBM\", \"run_properties\": \"copy=True\", \"primary_metric\": 0.8535865, \"best_metric\": 0.87441983}, {\"run_id\": \"AutoML_1d6b790b-08ce-4bcf-b70c-aa121e567c60_49\", \"run_number\": 55, \"metric\": null, \"status\": \"Completed\", \"run_type\": \"azureml.scriptrun\", \"training_percent\": \"100\", \"start_time\": \"2021-01-24T16:38:04.914414Z\", \"end_time\": \"2021-01-24T16:39:07.573199Z\", \"created_time\": \"2021-01-24T16:37:48.600886Z\", \"created_time_dt\": \"2021-01-24T16:37:48.600886Z\", \"duration\": \"0:01:18\", \"iteration\": \"49\", \"goal\": \"accuracy_max\", \"run_name\": \"StandardScalerWrapper, LightGBM\", \"run_properties\": \"<azureml.automl.runtime.shared.model_wrappers.StandardScalerWrapper object at 0x7fe2224b7d68\", \"primary_metric\": 0.84098101, \"best_metric\": 0.87441983}, {\"run_id\": \"AutoML_1d6b790b-08ce-4bcf-b70c-aa121e567c60_50\", \"run_number\": 56, \"metric\": null, \"status\": \"Completed\", \"run_type\": \"azureml.scriptrun\", \"training_percent\": \"100\", \"start_time\": \"2021-01-24T16:38:06.387439Z\", \"end_time\": \"2021-01-24T16:39:03.862165Z\", \"created_time\": \"2021-01-24T16:37:54.592152Z\", \"created_time_dt\": \"2021-01-24T16:37:54.592152Z\", \"duration\": \"0:01:09\", \"iteration\": \"50\", \"goal\": \"accuracy_max\", \"run_name\": \"SparseNormalizer, RandomForest\", \"run_properties\": \"<azureml.automl.runtime.shared.model_wrappers.SparseNormalizer object at 0x7f79dbe1cf60\", \"primary_metric\": 0.80332278, \"best_metric\": 0.87441983}, {\"run_id\": \"AutoML_1d6b790b-08ce-4bcf-b70c-aa121e567c60_51\", \"run_number\": 57, \"metric\": null, \"status\": \"Completed\", \"run_type\": \"azureml.scriptrun\", \"training_percent\": \"100\", \"start_time\": \"2021-01-24T16:38:13.474115Z\", \"end_time\": \"2021-01-24T16:39:09.632498Z\", \"created_time\": \"2021-01-24T16:38:03.465069Z\", \"created_time_dt\": \"2021-01-24T16:38:03.465069Z\", \"duration\": \"0:01:06\", \"iteration\": \"51\", \"goal\": \"accuracy_max\", \"run_name\": \"MaxAbsScaler, LightGBM\", \"run_properties\": \"copy=True\", \"primary_metric\": 0.84931435, \"best_metric\": 0.87441983}, {\"run_id\": \"AutoML_1d6b790b-08ce-4bcf-b70c-aa121e567c60_52\", \"run_number\": 58, \"metric\": null, \"status\": \"Canceled\", \"run_type\": \"azureml.scriptrun\", \"training_percent\": \"100\", \"start_time\": \"2021-01-24T16:38:22.492823Z\", \"end_time\": \"2021-01-24T16:39:14.151813Z\", \"created_time\": \"2021-01-24T16:38:09.113419Z\", \"created_time_dt\": \"2021-01-24T16:38:09.113419Z\", \"duration\": \"0:01:05\", \"iteration\": \"52\", \"goal\": \"accuracy_max\", \"run_name\": \"RobustScaler, LightGBM\", \"run_properties\": \"copy=True, quantile_range=[10, 90], with_centering=False,\\n             with_scaling=True\", \"primary_metric\": 0.83681435, \"best_metric\": 0.87441983}, {\"run_id\": \"AutoML_1d6b790b-08ce-4bcf-b70c-aa121e567c60_53\", \"run_number\": 59, \"metric\": null, \"status\": \"Canceled\", \"run_type\": \"azureml.scriptrun\", \"training_percent\": \"100\", \"start_time\": \"2021-01-24T16:39:06.163843Z\", \"end_time\": \"2021-01-24T16:39:24.207936Z\", \"created_time\": \"2021-01-24T16:39:06.163843Z\", \"created_time_dt\": \"2021-01-24T16:39:06.163843Z\", \"duration\": \"0:00:18\", \"iteration\": \"53\", \"goal\": null, \"run_name\": \"Canceled\", \"run_properties\": null}, {\"run_id\": \"AutoML_1d6b790b-08ce-4bcf-b70c-aa121e567c60_54\", \"run_number\": 60, \"metric\": null, \"status\": \"Canceled\", \"run_type\": \"azureml.scriptrun\", \"training_percent\": \"100\", \"start_time\": \"2021-01-24T16:39:10.336037Z\", \"end_time\": \"2021-01-24T16:39:27.257874Z\", \"created_time\": \"2021-01-24T16:39:10.336037Z\", \"created_time_dt\": \"2021-01-24T16:39:10.336037Z\", \"duration\": \"0:00:16\", \"iteration\": \"54\", \"goal\": null, \"run_name\": \"Canceled\", \"run_properties\": null}, {\"run_id\": \"AutoML_1d6b790b-08ce-4bcf-b70c-aa121e567c60_55\", \"run_number\": 61, \"metric\": null, \"status\": \"Completed\", \"run_type\": \"azureml.scriptrun\", \"training_percent\": \"100\", \"start_time\": \"2021-01-24T16:39:38.842104Z\", \"end_time\": \"2021-01-24T16:41:11.104941Z\", \"created_time\": \"2021-01-24T16:39:28.467187Z\", \"created_time_dt\": \"2021-01-24T16:39:28.467187Z\", \"duration\": \"0:01:42\", \"iteration\": \"55\", \"goal\": \"accuracy_max\", \"run_name\": \"VotingEnsemble\", \"run_properties\": \"classification_labels=None,\\n                              estimators=[('38',\\n                                           Pipeline(memory=None,\\n                                                    steps=[('maxabsscaler',\\n                                                            MaxAbsScaler(copy=True\", \"primary_metric\": 0.88280591, \"best_metric\": 0.88280591}, {\"run_id\": \"AutoML_1d6b790b-08ce-4bcf-b70c-aa121e567c60_56\", \"run_number\": 62, \"metric\": null, \"status\": \"Completed\", \"run_type\": \"azureml.scriptrun\", \"training_percent\": \"100\", \"start_time\": \"2021-01-24T16:39:41.395431Z\", \"end_time\": \"2021-01-24T16:41:23.49577Z\", \"created_time\": \"2021-01-24T16:39:28.648531Z\", \"created_time_dt\": \"2021-01-24T16:39:28.648531Z\", \"duration\": \"0:01:54\", \"iteration\": \"56\", \"goal\": \"accuracy_max\", \"run_name\": \"StackEnsemble\", \"run_properties\": \"base_learners=[('38',\\n                                        Pipeline(memory=None,\\n                                                 steps=[('maxabsscaler',\\n                                                         MaxAbsScaler(copy=True\", \"primary_metric\": 0.87025316, \"best_metric\": 0.88280591}], \"children_metrics\": {\"categories\": [0], \"series\": {\"recall_score_weighted\": [{\"categories\": [\"0\", \"1\", \"2\", \"3\", \"4\", \"5\", \"6\", \"7\", \"8\", \"9\", \"10\", \"11\", \"12\", \"13\", \"14\", \"15\", \"16\", \"17\", \"18\", \"19\", \"20\", \"21\", \"22\", \"23\", \"24\", \"25\", \"26\", \"27\", \"28\", \"29\", \"30\", \"31\", \"32\", \"33\", \"34\", \"35\", \"36\", \"37\", \"38\", \"39\", \"40\", \"41\", \"42\", \"43\", \"44\", \"45\", \"46\", \"47\", \"48\", \"49\", \"50\", \"51\", \"52\", \"55\", \"56\"], \"mode\": \"markers\", \"name\": \"recall_score_weighted\", \"stepped\": false, \"type\": \"scatter\", \"data\": [0.8326476793248946, 0.8494198312236287, 0.8535864978902953, 0.8618670886075949, 0.8325421940928269, 0.8367088607594937, 0.8575949367088608, 0.7364451476793249, 0.8284810126582278, 0.7866561181434598, 0.8159810126582278, 0.8452004219409283, 0.8450949367088607, 0.8325949367088609, 0.8367616033755274, 0.7907700421940929, 0.8325949367088606, 0.8409810126582279, 0.8409810126582279, 0.8619198312236288, 0.8576476793248945, 0.7866561181434598, 0.8410864978902954, 0.857753164556962, 0.8243143459915613, 0.7867088607594938, 0.6651898734177215, 0.8408755274261602, 0.8327004219409283, 0.824367088607595, 0.6944092827004219, 0.8661392405063291, 0.8535337552742616, 0.8536392405063292, 0.8410337552742616, 0.6944092827004219, 0.8493670886075949, 0.8368143459915611, 0.8744198312236287, 0.8367616033755274, 0.8284810126582278, 0.7907700421940929, 0.8493143459915612, 0.8409810126582279, 0.7822784810126583, 0.8660337552742616, 0.845253164556962, 0.8702531645569621, 0.8535864978902955, 0.8409810126582279, 0.8033227848101266, 0.8493143459915612, 0.8368143459915611, 0.8828059071729957, 0.8702531645569621]}, {\"categories\": [\"0\", \"1\", \"2\", \"3\", \"4\", \"5\", \"6\", \"7\", \"8\", \"9\", \"10\", \"11\", \"12\", \"13\", \"14\", \"15\", \"16\", \"17\", \"18\", \"19\", \"20\", \"21\", \"22\", \"23\", \"24\", \"25\", \"26\", \"27\", \"28\", \"29\", \"30\", \"31\", \"32\", \"33\", \"34\", \"35\", \"36\", \"37\", \"38\", \"39\", \"40\", \"41\", \"42\", \"43\", \"44\", \"45\", \"46\", \"47\", \"48\", \"49\", \"50\", \"51\", \"52\", \"55\", \"56\"], \"mode\": \"lines\", \"name\": \"recall_score_weighted_max\", \"stepped\": true, \"type\": \"scatter\", \"data\": [0.8326476793248946, 0.8494198312236287, 0.8535864978902953, 0.8618670886075949, 0.8618670886075949, 0.8618670886075949, 0.8618670886075949, 0.8618670886075949, 0.8618670886075949, 0.8618670886075949, 0.8618670886075949, 0.8618670886075949, 0.8618670886075949, 0.8618670886075949, 0.8618670886075949, 0.8618670886075949, 0.8618670886075949, 0.8618670886075949, 0.8618670886075949, 0.8619198312236288, 0.8619198312236288, 0.8619198312236288, 0.8619198312236288, 0.8619198312236288, 0.8619198312236288, 0.8619198312236288, 0.8619198312236288, 0.8619198312236288, 0.8619198312236288, 0.8619198312236288, 0.8619198312236288, 0.8661392405063291, 0.8661392405063291, 0.8661392405063291, 0.8661392405063291, 0.8661392405063291, 0.8661392405063291, 0.8661392405063291, 0.8744198312236287, 0.8744198312236287, 0.8744198312236287, 0.8744198312236287, 0.8744198312236287, 0.8744198312236287, 0.8744198312236287, 0.8744198312236287, 0.8744198312236287, 0.8744198312236287, 0.8744198312236287, 0.8744198312236287, 0.8744198312236287, 0.8744198312236287, 0.8744198312236287, 0.8828059071729957, 0.8828059071729957]}], \"average_precision_score_micro\": [{\"categories\": [\"0\", \"1\", \"2\", \"3\", \"4\", \"5\", \"6\", \"7\", \"8\", \"9\", \"10\", \"11\", \"12\", \"13\", \"14\", \"15\", \"16\", \"17\", \"18\", \"19\", \"20\", \"21\", \"22\", \"23\", \"24\", \"25\", \"26\", \"27\", \"28\", \"29\", \"30\", \"31\", \"32\", \"33\", \"34\", \"35\", \"36\", \"37\", \"38\", \"39\", \"40\", \"41\", \"42\", \"43\", \"44\", \"45\", \"46\", \"47\", \"48\", \"49\", \"50\", \"51\", \"52\", \"55\", \"56\"], \"mode\": \"markers\", \"name\": \"average_precision_score_micro\", \"stepped\": false, \"type\": \"scatter\", \"data\": [0.9194532862404081, 0.9187515059907998, 0.9094175333472642, 0.9053074293950726, 0.9076217801766916, 0.8897731839748658, 0.9137975885329844, 0.8028532455888109, 0.8965779113686198, 0.8598583981251661, 0.8877376992855863, 0.9334443650939845, 0.904780409984228, 0.9075970851493479, 0.8849289168607815, 0.881362952449204, 0.9011003110558388, 0.9228322537657387, 0.9143734087341401, 0.9332864240618118, 0.924142413033112, 0.8525503716135892, 0.8694170598182379, 0.9333083547015585, 0.8948891866044474, 0.8787959439304255, 0.6885794148614006, 0.9204025285644191, 0.9074657606948273, 0.9267472306759114, 0.6360708253217967, 0.9237375611813293, 0.9268369281120165, 0.9226324421058986, 0.9032864063899689, 0.6729180176073678, 0.9155081688077024, 0.9180116588051753, 0.918060433967468, 0.9195944502398388, 0.8992926143410683, 0.8858382627035551, 0.9223618007031226, 0.8950277186729707, 0.8941519597326151, 0.9247043727037013, 0.9122403083049514, 0.9108390358878413, 0.9262050301395494, 0.921521719413312, 0.8624650640311979, 0.9196561276862321, 0.9266930885875558, 0.9267888449231131, 0.922121026869298]}, {\"categories\": [\"0\", \"1\", \"2\", \"3\", \"4\", \"5\", \"6\", \"7\", \"8\", \"9\", \"10\", \"11\", \"12\", \"13\", \"14\", \"15\", \"16\", \"17\", \"18\", \"19\", \"20\", \"21\", \"22\", \"23\", \"24\", \"25\", \"26\", \"27\", \"28\", \"29\", \"30\", \"31\", \"32\", \"33\", \"34\", \"35\", \"36\", \"37\", \"38\", \"39\", \"40\", \"41\", \"42\", \"43\", \"44\", \"45\", \"46\", \"47\", \"48\", \"49\", \"50\", \"51\", \"52\", \"55\", \"56\"], \"mode\": \"lines\", \"name\": \"average_precision_score_micro_max\", \"stepped\": true, \"type\": \"scatter\", \"data\": [0.9194532862404081, 0.9194532862404081, 0.9194532862404081, 0.9194532862404081, 0.9194532862404081, 0.9194532862404081, 0.9194532862404081, 0.9194532862404081, 0.9194532862404081, 0.9194532862404081, 0.9194532862404081, 0.9334443650939845, 0.9334443650939845, 0.9334443650939845, 0.9334443650939845, 0.9334443650939845, 0.9334443650939845, 0.9334443650939845, 0.9334443650939845, 0.9334443650939845, 0.9334443650939845, 0.9334443650939845, 0.9334443650939845, 0.9334443650939845, 0.9334443650939845, 0.9334443650939845, 0.9334443650939845, 0.9334443650939845, 0.9334443650939845, 0.9334443650939845, 0.9334443650939845, 0.9334443650939845, 0.9334443650939845, 0.9334443650939845, 0.9334443650939845, 0.9334443650939845, 0.9334443650939845, 0.9334443650939845, 0.9334443650939845, 0.9334443650939845, 0.9334443650939845, 0.9334443650939845, 0.9334443650939845, 0.9334443650939845, 0.9334443650939845, 0.9334443650939845, 0.9334443650939845, 0.9334443650939845, 0.9334443650939845, 0.9334443650939845, 0.9334443650939845, 0.9334443650939845, 0.9334443650939845, 0.9334443650939845, 0.9334443650939845]}], \"norm_macro_recall\": [{\"categories\": [\"0\", \"1\", \"2\", \"3\", \"4\", \"5\", \"6\", \"7\", \"8\", \"9\", \"10\", \"11\", \"12\", \"13\", \"14\", \"15\", \"16\", \"17\", \"18\", \"19\", \"20\", \"21\", \"22\", \"23\", \"24\", \"25\", \"26\", \"27\", \"28\", \"29\", \"30\", \"31\", \"32\", \"33\", \"34\", \"35\", \"36\", \"37\", \"38\", \"39\", \"40\", \"41\", \"42\", \"43\", \"44\", \"45\", \"46\", \"47\", \"48\", \"49\", \"50\", \"51\", \"52\", \"55\", \"56\"], \"mode\": \"markers\", \"name\": \"norm_macro_recall\", \"stepped\": false, \"type\": \"scatter\", \"data\": [0.6123592770485425, 0.6343504309041033, 0.648886142106481, 0.6287208627321622, 0.5933421736246595, 0.5279060571150967, 0.6012041170798234, 0.18426315680552974, 0.5568960919808377, 0.45729446531706414, 0.4777510917623912, 0.6304798570335294, 0.5932455972568966, 0.5032972029017226, 0.5801979690115283, 0.31710758377425036, 0.5054562846653242, 0.5673640065730462, 0.5900039654841915, 0.6465665387134313, 0.6347976254755915, 0.36721008641912595, 0.5995892598717457, 0.6409168211993069, 0.48373738627975915, 0.512847190474309, 0.10144822534653046, 0.5868353408466402, 0.5329827736607398, 0.5664174411067066, 0.0, 0.666595833544986, 0.6277493650939979, 0.6411412880904406, 0.6043835428016219, 0.0, 0.5700224592314987, 0.5310101135524864, 0.663926579802286, 0.6079172930020388, 0.5347013020459349, 0.33460360940586925, 0.6315624070426331, 0.5430061422151818, 0.3240737751472215, 0.6650747557527218, 0.6166646536138062, 0.6710741236164965, 0.6600358565895289, 0.6023560578362839, 0.49186881960893264, 0.614477269957496, 0.5680606002074929, 0.6972892079671741, 0.6659604781073708]}, {\"categories\": [\"0\", \"1\", \"2\", \"3\", \"4\", \"5\", \"6\", \"7\", \"8\", \"9\", \"10\", \"11\", \"12\", \"13\", \"14\", \"15\", \"16\", \"17\", \"18\", \"19\", \"20\", \"21\", \"22\", \"23\", \"24\", \"25\", \"26\", \"27\", \"28\", \"29\", \"30\", \"31\", \"32\", \"33\", \"34\", \"35\", \"36\", \"37\", \"38\", \"39\", \"40\", \"41\", \"42\", \"43\", \"44\", \"45\", \"46\", \"47\", \"48\", \"49\", \"50\", \"51\", \"52\", \"55\", \"56\"], \"mode\": \"lines\", \"name\": \"norm_macro_recall_max\", \"stepped\": true, \"type\": \"scatter\", \"data\": [0.6123592770485425, 0.6343504309041033, 0.648886142106481, 0.648886142106481, 0.648886142106481, 0.648886142106481, 0.648886142106481, 0.648886142106481, 0.648886142106481, 0.648886142106481, 0.648886142106481, 0.648886142106481, 0.648886142106481, 0.648886142106481, 0.648886142106481, 0.648886142106481, 0.648886142106481, 0.648886142106481, 0.648886142106481, 0.648886142106481, 0.648886142106481, 0.648886142106481, 0.648886142106481, 0.648886142106481, 0.648886142106481, 0.648886142106481, 0.648886142106481, 0.648886142106481, 0.648886142106481, 0.648886142106481, 0.648886142106481, 0.666595833544986, 0.666595833544986, 0.666595833544986, 0.666595833544986, 0.666595833544986, 0.666595833544986, 0.666595833544986, 0.666595833544986, 0.666595833544986, 0.666595833544986, 0.666595833544986, 0.666595833544986, 0.666595833544986, 0.666595833544986, 0.666595833544986, 0.666595833544986, 0.6710741236164965, 0.6710741236164965, 0.6710741236164965, 0.6710741236164965, 0.6710741236164965, 0.6710741236164965, 0.6972892079671741, 0.6972892079671741]}], \"precision_score_weighted\": [{\"categories\": [\"0\", \"1\", \"2\", \"3\", \"4\", \"5\", \"6\", \"7\", \"8\", \"9\", \"10\", \"11\", \"12\", \"13\", \"14\", \"15\", \"16\", \"17\", \"18\", \"19\", \"20\", \"21\", \"22\", \"23\", \"24\", \"25\", \"26\", \"27\", \"28\", \"29\", \"30\", \"31\", \"32\", \"33\", \"34\", \"35\", \"36\", \"37\", \"38\", \"39\", \"40\", \"41\", \"42\", \"43\", \"44\", \"45\", \"46\", \"47\", \"48\", \"49\", \"50\", \"51\", \"52\", \"55\", \"56\"], \"mode\": \"markers\", \"name\": \"precision_score_weighted\", \"stepped\": false, \"type\": \"scatter\", \"data\": [0.840681516860332, 0.8581066198603172, 0.8596232308062387, 0.8629112296358074, 0.8323433701229251, 0.8413811197741685, 0.862726289947816, 0.7639087838817922, 0.8344208358448865, 0.791722940483489, 0.8208335180294091, 0.8523336986974007, 0.8513792194092827, 0.8392478091528726, 0.8394433577330483, 0.8404449553089138, 0.8454568892953107, 0.840817128587323, 0.8428456082405292, 0.8663910257902989, 0.8641632385039558, 0.7853056986175714, 0.8460968743000267, 0.8632524286215785, 0.8313697543011579, 0.7938965726044781, 0.6310512026249361, 0.8440262289866719, 0.8385986627194774, 0.8295647808868162, 0.48327546667200766, 0.871231175995391, 0.8591966304500532, 0.8593900079042229, 0.8446944614978187, 0.48327546667200766, 0.852307121532617, 0.8408867555461003, 0.8774772910493872, 0.8447442350964257, 0.8273334554627515, 0.8205227122488283, 0.8541907800934242, 0.8435621431183694, 0.8242154121900959, 0.8663455342852986, 0.848088589441856, 0.8718946738693485, 0.8655339413304847, 0.8443866653634831, 0.80950930370911, 0.8519317963067833, 0.8355844894991536, 0.8860926049300466, 0.8748235654728386]}, {\"categories\": [\"0\", \"1\", \"2\", \"3\", \"4\", \"5\", \"6\", \"7\", \"8\", \"9\", \"10\", \"11\", \"12\", \"13\", \"14\", \"15\", \"16\", \"17\", \"18\", \"19\", \"20\", \"21\", \"22\", \"23\", \"24\", \"25\", \"26\", \"27\", \"28\", \"29\", \"30\", \"31\", \"32\", \"33\", \"34\", \"35\", \"36\", \"37\", \"38\", \"39\", \"40\", \"41\", \"42\", \"43\", \"44\", \"45\", \"46\", \"47\", \"48\", \"49\", \"50\", \"51\", \"52\", \"55\", \"56\"], \"mode\": \"lines\", \"name\": \"precision_score_weighted_max\", \"stepped\": true, \"type\": \"scatter\", \"data\": [0.840681516860332, 0.8581066198603172, 0.8596232308062387, 0.8629112296358074, 0.8629112296358074, 0.8629112296358074, 0.8629112296358074, 0.8629112296358074, 0.8629112296358074, 0.8629112296358074, 0.8629112296358074, 0.8629112296358074, 0.8629112296358074, 0.8629112296358074, 0.8629112296358074, 0.8629112296358074, 0.8629112296358074, 0.8629112296358074, 0.8629112296358074, 0.8663910257902989, 0.8663910257902989, 0.8663910257902989, 0.8663910257902989, 0.8663910257902989, 0.8663910257902989, 0.8663910257902989, 0.8663910257902989, 0.8663910257902989, 0.8663910257902989, 0.8663910257902989, 0.8663910257902989, 0.871231175995391, 0.871231175995391, 0.871231175995391, 0.871231175995391, 0.871231175995391, 0.871231175995391, 0.871231175995391, 0.8774772910493872, 0.8774772910493872, 0.8774772910493872, 0.8774772910493872, 0.8774772910493872, 0.8774772910493872, 0.8774772910493872, 0.8774772910493872, 0.8774772910493872, 0.8774772910493872, 0.8774772910493872, 0.8774772910493872, 0.8774772910493872, 0.8774772910493872, 0.8774772910493872, 0.8860926049300466, 0.8860926049300466]}], \"average_precision_score_weighted\": [{\"categories\": [\"0\", \"1\", \"2\", \"3\", \"4\", \"5\", \"6\", \"7\", \"8\", \"9\", \"10\", \"11\", \"12\", \"13\", \"14\", \"15\", \"16\", \"17\", \"18\", \"19\", \"20\", \"21\", \"22\", \"23\", \"24\", \"25\", \"26\", \"27\", \"28\", \"29\", \"30\", \"31\", \"32\", \"33\", \"34\", \"35\", \"36\", \"37\", \"38\", \"39\", \"40\", \"41\", \"42\", \"43\", \"44\", \"45\", \"46\", \"47\", \"48\", \"49\", \"50\", \"51\", \"52\", \"55\", \"56\"], \"mode\": \"markers\", \"name\": \"average_precision_score_weighted\", \"stepped\": false, \"type\": \"scatter\", \"data\": [0.9140704878182447, 0.9142237573545507, 0.9033719186102606, 0.9031114691517256, 0.898077612810542, 0.8874658912619747, 0.9114735202706515, 0.7869668289049748, 0.8909654733621588, 0.8490149151344438, 0.8787079897253481, 0.9267258499007203, 0.9052722095152111, 0.9113769478842205, 0.8779167130831022, 0.8986663337780931, 0.9122897642989187, 0.9249640603758306, 0.913185966394695, 0.9283393927498077, 0.9226652359974405, 0.8442504423109876, 0.8683231147072584, 0.9288235762064323, 0.898770587186671, 0.8754444688422894, 0.6587136932680319, 0.9223998002715242, 0.9074212152911681, 0.9233992865467496, 0.5777323679431715, 0.9226677776697217, 0.9196947195652191, 0.9176582927364206, 0.8906443577210653, 0.607322778833673, 0.9211057519511, 0.918668941987607, 0.9153389927780538, 0.9180133027770955, 0.8968156277690035, 0.8913256728637976, 0.9183415535303805, 0.8898190088744435, 0.9180308496757599, 0.9191568819370479, 0.9109165832716847, 0.9062998613794634, 0.9242270828027723, 0.9154533135654059, 0.8524327394745743, 0.9170840453205216, 0.9212143474041895, 0.9220067110057949, 0.9212096022388611]}, {\"categories\": [\"0\", \"1\", \"2\", \"3\", \"4\", \"5\", \"6\", \"7\", \"8\", \"9\", \"10\", \"11\", \"12\", \"13\", \"14\", \"15\", \"16\", \"17\", \"18\", \"19\", \"20\", \"21\", \"22\", \"23\", \"24\", \"25\", \"26\", \"27\", \"28\", \"29\", \"30\", \"31\", \"32\", \"33\", \"34\", \"35\", \"36\", \"37\", \"38\", \"39\", \"40\", \"41\", \"42\", \"43\", \"44\", \"45\", \"46\", \"47\", \"48\", \"49\", \"50\", \"51\", \"52\", \"55\", \"56\"], \"mode\": \"lines\", \"name\": \"average_precision_score_weighted_max\", \"stepped\": true, \"type\": \"scatter\", \"data\": [0.9140704878182447, 0.9142237573545507, 0.9142237573545507, 0.9142237573545507, 0.9142237573545507, 0.9142237573545507, 0.9142237573545507, 0.9142237573545507, 0.9142237573545507, 0.9142237573545507, 0.9142237573545507, 0.9267258499007203, 0.9267258499007203, 0.9267258499007203, 0.9267258499007203, 0.9267258499007203, 0.9267258499007203, 0.9267258499007203, 0.9267258499007203, 0.9283393927498077, 0.9283393927498077, 0.9283393927498077, 0.9283393927498077, 0.9288235762064323, 0.9288235762064323, 0.9288235762064323, 0.9288235762064323, 0.9288235762064323, 0.9288235762064323, 0.9288235762064323, 0.9288235762064323, 0.9288235762064323, 0.9288235762064323, 0.9288235762064323, 0.9288235762064323, 0.9288235762064323, 0.9288235762064323, 0.9288235762064323, 0.9288235762064323, 0.9288235762064323, 0.9288235762064323, 0.9288235762064323, 0.9288235762064323, 0.9288235762064323, 0.9288235762064323, 0.9288235762064323, 0.9288235762064323, 0.9288235762064323, 0.9288235762064323, 0.9288235762064323, 0.9288235762064323, 0.9288235762064323, 0.9288235762064323, 0.9288235762064323, 0.9288235762064323]}], \"f1_score_macro\": [{\"categories\": [\"0\", \"1\", \"2\", \"3\", \"4\", \"5\", \"6\", \"7\", \"8\", \"9\", \"10\", \"11\", \"12\", \"13\", \"14\", \"15\", \"16\", \"17\", \"18\", \"19\", \"20\", \"21\", \"22\", \"23\", \"24\", \"25\", \"26\", \"27\", \"28\", \"29\", \"30\", \"31\", \"32\", \"33\", \"34\", \"35\", \"36\", \"37\", \"38\", \"39\", \"40\", \"41\", \"42\", \"43\", \"44\", \"45\", \"46\", \"47\", \"48\", \"49\", \"50\", \"51\", \"52\", \"55\", \"56\"], \"mode\": \"markers\", \"name\": \"f1_score_macro\", \"stepped\": false, \"type\": \"scatter\", \"data\": [0.8020857495532697, 0.8182570036616464, 0.824799068861584, 0.8276912195549277, 0.7989558784206595, 0.7831730826615844, 0.8169802098554396, 0.5741076826098178, 0.7864990716602515, 0.7339503761654583, 0.7555724609627049, 0.8147048380510785, 0.8060260741144329, 0.7757034565154699, 0.7981964539566171, 0.6720032248281308, 0.7750898560191346, 0.7993252744553851, 0.8034431810036488, 0.8307984133815434, 0.8241977056390356, 0.7018136012606561, 0.8062501671721676, 0.8264076632008974, 0.762134994891431, 0.7510574646171128, 0.5301663626327565, 0.8018179068802206, 0.7843829954365594, 0.7873267455565592, 0.40960480131585997, 0.8377063903113378, 0.8208334254567838, 0.8238299028244888, 0.8063902557383056, 0.40960480131585997, 0.8052806485611222, 0.7864172349653206, 0.8442414879950589, 0.8031184042220015, 0.7810478331399672, 0.6831107733773031, 0.8180698706114772, 0.7925999776151477, 0.6691426273935429, 0.8378598331988162, 0.812478238391642, 0.8425186991306925, 0.8260365870357754, 0.8064938480908844, 0.7543464488727647, 0.8148488264458628, 0.7963396504735957, 0.8562924513053473, 0.8406041374729818]}, {\"categories\": [\"0\", \"1\", \"2\", \"3\", \"4\", \"5\", \"6\", \"7\", \"8\", \"9\", \"10\", \"11\", \"12\", \"13\", \"14\", \"15\", \"16\", \"17\", \"18\", \"19\", \"20\", \"21\", \"22\", \"23\", \"24\", \"25\", \"26\", \"27\", \"28\", \"29\", \"30\", \"31\", \"32\", \"33\", \"34\", \"35\", \"36\", \"37\", \"38\", \"39\", \"40\", \"41\", \"42\", \"43\", \"44\", \"45\", \"46\", \"47\", \"48\", \"49\", \"50\", \"51\", \"52\", \"55\", \"56\"], \"mode\": \"lines\", \"name\": \"f1_score_macro_max\", \"stepped\": true, \"type\": \"scatter\", \"data\": [0.8020857495532697, 0.8182570036616464, 0.824799068861584, 0.8276912195549277, 0.8276912195549277, 0.8276912195549277, 0.8276912195549277, 0.8276912195549277, 0.8276912195549277, 0.8276912195549277, 0.8276912195549277, 0.8276912195549277, 0.8276912195549277, 0.8276912195549277, 0.8276912195549277, 0.8276912195549277, 0.8276912195549277, 0.8276912195549277, 0.8276912195549277, 0.8307984133815434, 0.8307984133815434, 0.8307984133815434, 0.8307984133815434, 0.8307984133815434, 0.8307984133815434, 0.8307984133815434, 0.8307984133815434, 0.8307984133815434, 0.8307984133815434, 0.8307984133815434, 0.8307984133815434, 0.8377063903113378, 0.8377063903113378, 0.8377063903113378, 0.8377063903113378, 0.8377063903113378, 0.8377063903113378, 0.8377063903113378, 0.8442414879950589, 0.8442414879950589, 0.8442414879950589, 0.8442414879950589, 0.8442414879950589, 0.8442414879950589, 0.8442414879950589, 0.8442414879950589, 0.8442414879950589, 0.8442414879950589, 0.8442414879950589, 0.8442414879950589, 0.8442414879950589, 0.8442414879950589, 0.8442414879950589, 0.8562924513053473, 0.8562924513053473]}], \"balanced_accuracy\": [{\"categories\": [\"0\", \"1\", \"2\", \"3\", \"4\", \"5\", \"6\", \"7\", \"8\", \"9\", \"10\", \"11\", \"12\", \"13\", \"14\", \"15\", \"16\", \"17\", \"18\", \"19\", \"20\", \"21\", \"22\", \"23\", \"24\", \"25\", \"26\", \"27\", \"28\", \"29\", \"30\", \"31\", \"32\", \"33\", \"34\", \"35\", \"36\", \"37\", \"38\", \"39\", \"40\", \"41\", \"42\", \"43\", \"44\", \"45\", \"46\", \"47\", \"48\", \"49\", \"50\", \"51\", \"52\", \"55\", \"56\"], \"mode\": \"markers\", \"name\": \"balanced_accuracy\", \"stepped\": false, \"type\": \"scatter\", \"data\": [0.8061796385242713, 0.8171752154520516, 0.8244430710532406, 0.8143604313660812, 0.7966710868123297, 0.7639530285575483, 0.8006020585399116, 0.5921315784027649, 0.778448045990419, 0.728647232658532, 0.7388755458811955, 0.8152399285167647, 0.7966227986284483, 0.7516486014508613, 0.7900989845057641, 0.6585537918871252, 0.752728142332662, 0.7836820032865232, 0.7950019827420958, 0.8232832693567157, 0.8173988127377957, 0.6836050432095631, 0.7997946299358728, 0.8204584105996534, 0.7418686931398796, 0.7564235952371545, 0.5507241126732653, 0.7934176704233201, 0.7664913868303699, 0.7832087205533532, 0.5, 0.833297916772493, 0.813874682546999, 0.8205706440452203, 0.802191771400811, 0.5, 0.7850112296157494, 0.7655050567762433, 0.831963289901143, 0.8039586465010194, 0.7673506510229675, 0.6673018047029347, 0.8157812035213166, 0.771503071107591, 0.6620368875736108, 0.8325373778763611, 0.808332326806903, 0.8355370618082482, 0.8300179282947644, 0.8011780289181419, 0.7459344098044663, 0.807238634978748, 0.7840303001037464, 0.8486446039835869, 0.8329802390536853]}, {\"categories\": [\"0\", \"1\", \"2\", \"3\", \"4\", \"5\", \"6\", \"7\", \"8\", \"9\", \"10\", \"11\", \"12\", \"13\", \"14\", \"15\", \"16\", \"17\", \"18\", \"19\", \"20\", \"21\", \"22\", \"23\", \"24\", \"25\", \"26\", \"27\", \"28\", \"29\", \"30\", \"31\", \"32\", \"33\", \"34\", \"35\", \"36\", \"37\", \"38\", \"39\", \"40\", \"41\", \"42\", \"43\", \"44\", \"45\", \"46\", \"47\", \"48\", \"49\", \"50\", \"51\", \"52\", \"55\", \"56\"], \"mode\": \"lines\", \"name\": \"balanced_accuracy_max\", \"stepped\": true, \"type\": \"scatter\", \"data\": [0.8061796385242713, 0.8171752154520516, 0.8244430710532406, 0.8244430710532406, 0.8244430710532406, 0.8244430710532406, 0.8244430710532406, 0.8244430710532406, 0.8244430710532406, 0.8244430710532406, 0.8244430710532406, 0.8244430710532406, 0.8244430710532406, 0.8244430710532406, 0.8244430710532406, 0.8244430710532406, 0.8244430710532406, 0.8244430710532406, 0.8244430710532406, 0.8244430710532406, 0.8244430710532406, 0.8244430710532406, 0.8244430710532406, 0.8244430710532406, 0.8244430710532406, 0.8244430710532406, 0.8244430710532406, 0.8244430710532406, 0.8244430710532406, 0.8244430710532406, 0.8244430710532406, 0.833297916772493, 0.833297916772493, 0.833297916772493, 0.833297916772493, 0.833297916772493, 0.833297916772493, 0.833297916772493, 0.833297916772493, 0.833297916772493, 0.833297916772493, 0.833297916772493, 0.833297916772493, 0.833297916772493, 0.833297916772493, 0.833297916772493, 0.833297916772493, 0.8355370618082482, 0.8355370618082482, 0.8355370618082482, 0.8355370618082482, 0.8355370618082482, 0.8355370618082482, 0.8486446039835869, 0.8486446039835869]}], \"average_precision_score_macro\": [{\"categories\": [\"0\", \"1\", \"2\", \"3\", \"4\", \"5\", \"6\", \"7\", \"8\", \"9\", \"10\", \"11\", \"12\", \"13\", \"14\", \"15\", \"16\", \"17\", \"18\", \"19\", \"20\", \"21\", \"22\", \"23\", \"24\", \"25\", \"26\", \"27\", \"28\", \"29\", \"30\", \"31\", \"32\", \"33\", \"34\", \"35\", \"36\", \"37\", \"38\", \"39\", \"40\", \"41\", \"42\", \"43\", \"44\", \"45\", \"46\", \"47\", \"48\", \"49\", \"50\", \"51\", \"52\", \"55\", \"56\"], \"mode\": \"markers\", \"name\": \"average_precision_score_macro\", \"stepped\": false, \"type\": \"scatter\", \"data\": [0.8863020217683873, 0.8848350270031696, 0.8754860350001176, 0.8803054894055254, 0.8722362668536295, 0.8543610199975186, 0.8824574581734245, 0.7370971662611819, 0.8546390303442699, 0.8069889723416739, 0.8396889845702464, 0.900870628723267, 0.876303496202922, 0.8837243734413027, 0.842368311149622, 0.8695148866088527, 0.8837585482409253, 0.8998291047749901, 0.8899861565359081, 0.9026017398696607, 0.8968537048428443, 0.8032065922512927, 0.8423937906291736, 0.9018409415583039, 0.8712893777896461, 0.8397071026742128, 0.6055901987716363, 0.897052901935612, 0.8783094894002944, 0.8958232087677657, 0.5, 0.896025674796971, 0.8927670249887045, 0.8912492131801182, 0.8606751694795017, 0.5298740201278688, 0.8964961509910211, 0.8908523743640689, 0.8883926501397462, 0.8920169598982021, 0.8630257974207796, 0.8578389198150776, 0.8910184909044047, 0.8583281772776236, 0.8921747072377473, 0.8887790883640808, 0.8838597594924565, 0.8765577880735284, 0.8985504206032996, 0.8859849488966423, 0.8144961848312464, 0.8899594030154175, 0.8938633767260463, 0.8947097922892953, 0.8936799176971487]}, {\"categories\": [\"0\", \"1\", \"2\", \"3\", \"4\", \"5\", \"6\", \"7\", \"8\", \"9\", \"10\", \"11\", \"12\", \"13\", \"14\", \"15\", \"16\", \"17\", \"18\", \"19\", \"20\", \"21\", \"22\", \"23\", \"24\", \"25\", \"26\", \"27\", \"28\", \"29\", \"30\", \"31\", \"32\", \"33\", \"34\", \"35\", \"36\", \"37\", \"38\", \"39\", \"40\", \"41\", \"42\", \"43\", \"44\", \"45\", \"46\", \"47\", \"48\", \"49\", \"50\", \"51\", \"52\", \"55\", \"56\"], \"mode\": \"lines\", \"name\": \"average_precision_score_macro_max\", \"stepped\": true, \"type\": \"scatter\", \"data\": [0.8863020217683873, 0.8863020217683873, 0.8863020217683873, 0.8863020217683873, 0.8863020217683873, 0.8863020217683873, 0.8863020217683873, 0.8863020217683873, 0.8863020217683873, 0.8863020217683873, 0.8863020217683873, 0.900870628723267, 0.900870628723267, 0.900870628723267, 0.900870628723267, 0.900870628723267, 0.900870628723267, 0.900870628723267, 0.900870628723267, 0.9026017398696607, 0.9026017398696607, 0.9026017398696607, 0.9026017398696607, 0.9026017398696607, 0.9026017398696607, 0.9026017398696607, 0.9026017398696607, 0.9026017398696607, 0.9026017398696607, 0.9026017398696607, 0.9026017398696607, 0.9026017398696607, 0.9026017398696607, 0.9026017398696607, 0.9026017398696607, 0.9026017398696607, 0.9026017398696607, 0.9026017398696607, 0.9026017398696607, 0.9026017398696607, 0.9026017398696607, 0.9026017398696607, 0.9026017398696607, 0.9026017398696607, 0.9026017398696607, 0.9026017398696607, 0.9026017398696607, 0.9026017398696607, 0.9026017398696607, 0.9026017398696607, 0.9026017398696607, 0.9026017398696607, 0.9026017398696607, 0.9026017398696607, 0.9026017398696607]}], \"AUC_weighted\": [{\"categories\": [\"0\", \"1\", \"2\", \"3\", \"4\", \"5\", \"6\", \"7\", \"8\", \"9\", \"10\", \"11\", \"12\", \"13\", \"14\", \"15\", \"16\", \"17\", \"18\", \"19\", \"20\", \"21\", \"22\", \"23\", \"24\", \"25\", \"26\", \"27\", \"28\", \"29\", \"30\", \"31\", \"32\", \"33\", \"34\", \"35\", \"36\", \"37\", \"38\", \"39\", \"40\", \"41\", \"42\", \"43\", \"44\", \"45\", \"46\", \"47\", \"48\", \"49\", \"50\", \"51\", \"52\", \"55\", \"56\"], \"mode\": \"markers\", \"name\": \"AUC_weighted\", \"stepped\": false, \"type\": \"scatter\", \"data\": [0.9032148207515439, 0.9062561744595644, 0.8931511062697504, 0.887184679308973, 0.8950411375609116, 0.882311906340155, 0.9054894178848981, 0.7465825632831282, 0.8743170652323196, 0.825689850011884, 0.8639572074713319, 0.919812613417133, 0.8914276702581788, 0.8974186048310342, 0.8679606637346752, 0.879011532932437, 0.9015976128913983, 0.9148548676684269, 0.8999691043419856, 0.9216502873565021, 0.9115436549221861, 0.8206295219741547, 0.8457314737992704, 0.922421627754961, 0.8809323950792877, 0.8572897163518634, 0.5906704076421591, 0.9119581134496388, 0.8932096967690187, 0.9137434300372154, 0.5, 0.9160793255708509, 0.9120789704123037, 0.9095589457623355, 0.889590034155006, 0.5460243056796729, 0.9087122158026113, 0.9077455216890246, 0.9027173859829226, 0.9065602599952882, 0.8855733628163006, 0.8772704955642808, 0.9067621263440473, 0.8906322315474857, 0.9055110204714726, 0.9132687024212448, 0.8986198488684365, 0.8968834714145449, 0.9133046459713127, 0.9059958012274397, 0.8441609273756167, 0.9049613642269009, 0.9107755370806218, 0.9154698689048972, 0.9146216336498822]}, {\"categories\": [\"0\", \"1\", \"2\", \"3\", \"4\", \"5\", \"6\", \"7\", \"8\", \"9\", \"10\", \"11\", \"12\", \"13\", \"14\", \"15\", \"16\", \"17\", \"18\", \"19\", \"20\", \"21\", \"22\", \"23\", \"24\", \"25\", \"26\", \"27\", \"28\", \"29\", \"30\", \"31\", \"32\", \"33\", \"34\", \"35\", \"36\", \"37\", \"38\", \"39\", \"40\", \"41\", \"42\", \"43\", \"44\", \"45\", \"46\", \"47\", \"48\", \"49\", \"50\", \"51\", \"52\", \"55\", \"56\"], \"mode\": \"lines\", \"name\": \"AUC_weighted_max\", \"stepped\": true, \"type\": \"scatter\", \"data\": [0.9032148207515439, 0.9062561744595644, 0.9062561744595644, 0.9062561744595644, 0.9062561744595644, 0.9062561744595644, 0.9062561744595644, 0.9062561744595644, 0.9062561744595644, 0.9062561744595644, 0.9062561744595644, 0.919812613417133, 0.919812613417133, 0.919812613417133, 0.919812613417133, 0.919812613417133, 0.919812613417133, 0.919812613417133, 0.919812613417133, 0.9216502873565021, 0.9216502873565021, 0.9216502873565021, 0.9216502873565021, 0.922421627754961, 0.922421627754961, 0.922421627754961, 0.922421627754961, 0.922421627754961, 0.922421627754961, 0.922421627754961, 0.922421627754961, 0.922421627754961, 0.922421627754961, 0.922421627754961, 0.922421627754961, 0.922421627754961, 0.922421627754961, 0.922421627754961, 0.922421627754961, 0.922421627754961, 0.922421627754961, 0.922421627754961, 0.922421627754961, 0.922421627754961, 0.922421627754961, 0.922421627754961, 0.922421627754961, 0.922421627754961, 0.922421627754961, 0.922421627754961, 0.922421627754961, 0.922421627754961, 0.922421627754961, 0.922421627754961, 0.922421627754961]}], \"AUC_macro\": [{\"categories\": [\"0\", \"1\", \"2\", \"3\", \"4\", \"5\", \"6\", \"7\", \"8\", \"9\", \"10\", \"11\", \"12\", \"13\", \"14\", \"15\", \"16\", \"17\", \"18\", \"19\", \"20\", \"21\", \"22\", \"23\", \"24\", \"25\", \"26\", \"27\", \"28\", \"29\", \"30\", \"31\", \"32\", \"33\", \"34\", \"35\", \"36\", \"37\", \"38\", \"39\", \"40\", \"41\", \"42\", \"43\", \"44\", \"45\", \"46\", \"47\", \"48\", \"49\", \"50\", \"51\", \"52\", \"55\", \"56\"], \"mode\": \"markers\", \"name\": \"AUC_macro\", \"stepped\": false, \"type\": \"scatter\", \"data\": [0.9032148207515439, 0.9062561744595642, 0.8931511062697504, 0.887184679308973, 0.8950411375609115, 0.8823119063401549, 0.905489417884898, 0.7465825632831283, 0.8743170652323194, 0.825689850011884, 0.8639572074713318, 0.9198126134171333, 0.8914276702581786, 0.8974186048310342, 0.867960663734675, 0.879011532932437, 0.9015976128913983, 0.9148548676684269, 0.8999691043419856, 0.9216502873565021, 0.9115436549221861, 0.8206295219741548, 0.8457314737992704, 0.9224216277549612, 0.8809323950792877, 0.8572897163518632, 0.5906704076421591, 0.911958113449639, 0.8932096967690187, 0.9137434300372154, 0.5, 0.916079325570851, 0.9120789704123037, 0.9095589457623356, 0.889590034155006, 0.5460243056796729, 0.9087122158026112, 0.9077455216890246, 0.9027173859829226, 0.9065602599952882, 0.8855733628163005, 0.8772704955642808, 0.9067621263440472, 0.8906322315474857, 0.9055110204714724, 0.9132687024212448, 0.8986198488684364, 0.8968834714145449, 0.9133046459713127, 0.9059958012274397, 0.8441609273756167, 0.9049613642269009, 0.9107755370806219, 0.9154698689048972, 0.9146216336498822]}, {\"categories\": [\"0\", \"1\", \"2\", \"3\", \"4\", \"5\", \"6\", \"7\", \"8\", \"9\", \"10\", \"11\", \"12\", \"13\", \"14\", \"15\", \"16\", \"17\", \"18\", \"19\", \"20\", \"21\", \"22\", \"23\", \"24\", \"25\", \"26\", \"27\", \"28\", \"29\", \"30\", \"31\", \"32\", \"33\", \"34\", \"35\", \"36\", \"37\", \"38\", \"39\", \"40\", \"41\", \"42\", \"43\", \"44\", \"45\", \"46\", \"47\", \"48\", \"49\", \"50\", \"51\", \"52\", \"55\", \"56\"], \"mode\": \"lines\", \"name\": \"AUC_macro_max\", \"stepped\": true, \"type\": \"scatter\", \"data\": [0.9032148207515439, 0.9062561744595642, 0.9062561744595642, 0.9062561744595642, 0.9062561744595642, 0.9062561744595642, 0.9062561744595642, 0.9062561744595642, 0.9062561744595642, 0.9062561744595642, 0.9062561744595642, 0.9198126134171333, 0.9198126134171333, 0.9198126134171333, 0.9198126134171333, 0.9198126134171333, 0.9198126134171333, 0.9198126134171333, 0.9198126134171333, 0.9216502873565021, 0.9216502873565021, 0.9216502873565021, 0.9216502873565021, 0.9224216277549612, 0.9224216277549612, 0.9224216277549612, 0.9224216277549612, 0.9224216277549612, 0.9224216277549612, 0.9224216277549612, 0.9224216277549612, 0.9224216277549612, 0.9224216277549612, 0.9224216277549612, 0.9224216277549612, 0.9224216277549612, 0.9224216277549612, 0.9224216277549612, 0.9224216277549612, 0.9224216277549612, 0.9224216277549612, 0.9224216277549612, 0.9224216277549612, 0.9224216277549612, 0.9224216277549612, 0.9224216277549612, 0.9224216277549612, 0.9224216277549612, 0.9224216277549612, 0.9224216277549612, 0.9224216277549612, 0.9224216277549612, 0.9224216277549612, 0.9224216277549612, 0.9224216277549612]}], \"recall_score_micro\": [{\"categories\": [\"0\", \"1\", \"2\", \"3\", \"4\", \"5\", \"6\", \"7\", \"8\", \"9\", \"10\", \"11\", \"12\", \"13\", \"14\", \"15\", \"16\", \"17\", \"18\", \"19\", \"20\", \"21\", \"22\", \"23\", \"24\", \"25\", \"26\", \"27\", \"28\", \"29\", \"30\", \"31\", \"32\", \"33\", \"34\", \"35\", \"36\", \"37\", \"38\", \"39\", \"40\", \"41\", \"42\", \"43\", \"44\", \"45\", \"46\", \"47\", \"48\", \"49\", \"50\", \"51\", \"52\", \"55\", \"56\"], \"mode\": \"markers\", \"name\": \"recall_score_micro\", \"stepped\": false, \"type\": \"scatter\", \"data\": [0.8326476793248946, 0.8494198312236287, 0.8535864978902953, 0.8618670886075949, 0.8325421940928269, 0.8367088607594937, 0.8575949367088608, 0.7364451476793249, 0.8284810126582278, 0.7866561181434598, 0.8159810126582278, 0.8452004219409283, 0.8450949367088607, 0.8325949367088609, 0.8367616033755274, 0.7907700421940929, 0.8325949367088606, 0.8409810126582279, 0.8409810126582279, 0.8619198312236288, 0.8576476793248945, 0.7866561181434598, 0.8410864978902954, 0.857753164556962, 0.8243143459915613, 0.7867088607594938, 0.6651898734177215, 0.8408755274261602, 0.8327004219409283, 0.824367088607595, 0.6944092827004219, 0.8661392405063291, 0.8535337552742616, 0.8536392405063292, 0.8410337552742616, 0.6944092827004219, 0.8493670886075949, 0.8368143459915611, 0.8744198312236287, 0.8367616033755274, 0.8284810126582278, 0.7907700421940929, 0.8493143459915612, 0.8409810126582279, 0.7822784810126583, 0.8660337552742616, 0.845253164556962, 0.8702531645569621, 0.8535864978902955, 0.8409810126582279, 0.8033227848101266, 0.8493143459915612, 0.8368143459915611, 0.8828059071729957, 0.8702531645569621]}, {\"categories\": [\"0\", \"1\", \"2\", \"3\", \"4\", \"5\", \"6\", \"7\", \"8\", \"9\", \"10\", \"11\", \"12\", \"13\", \"14\", \"15\", \"16\", \"17\", \"18\", \"19\", \"20\", \"21\", \"22\", \"23\", \"24\", \"25\", \"26\", \"27\", \"28\", \"29\", \"30\", \"31\", \"32\", \"33\", \"34\", \"35\", \"36\", \"37\", \"38\", \"39\", \"40\", \"41\", \"42\", \"43\", \"44\", \"45\", \"46\", \"47\", \"48\", \"49\", \"50\", \"51\", \"52\", \"55\", \"56\"], \"mode\": \"lines\", \"name\": \"recall_score_micro_max\", \"stepped\": true, \"type\": \"scatter\", \"data\": [0.8326476793248946, 0.8494198312236287, 0.8535864978902953, 0.8618670886075949, 0.8618670886075949, 0.8618670886075949, 0.8618670886075949, 0.8618670886075949, 0.8618670886075949, 0.8618670886075949, 0.8618670886075949, 0.8618670886075949, 0.8618670886075949, 0.8618670886075949, 0.8618670886075949, 0.8618670886075949, 0.8618670886075949, 0.8618670886075949, 0.8618670886075949, 0.8619198312236288, 0.8619198312236288, 0.8619198312236288, 0.8619198312236288, 0.8619198312236288, 0.8619198312236288, 0.8619198312236288, 0.8619198312236288, 0.8619198312236288, 0.8619198312236288, 0.8619198312236288, 0.8619198312236288, 0.8661392405063291, 0.8661392405063291, 0.8661392405063291, 0.8661392405063291, 0.8661392405063291, 0.8661392405063291, 0.8661392405063291, 0.8744198312236287, 0.8744198312236287, 0.8744198312236287, 0.8744198312236287, 0.8744198312236287, 0.8744198312236287, 0.8744198312236287, 0.8744198312236287, 0.8744198312236287, 0.8744198312236287, 0.8744198312236287, 0.8744198312236287, 0.8744198312236287, 0.8744198312236287, 0.8744198312236287, 0.8828059071729957, 0.8828059071729957]}], \"precision_score_macro\": [{\"categories\": [\"0\", \"1\", \"2\", \"3\", \"4\", \"5\", \"6\", \"7\", \"8\", \"9\", \"10\", \"11\", \"12\", \"13\", \"14\", \"15\", \"16\", \"17\", \"18\", \"19\", \"20\", \"21\", \"22\", \"23\", \"24\", \"25\", \"26\", \"27\", \"28\", \"29\", \"30\", \"31\", \"32\", \"33\", \"34\", \"35\", \"36\", \"37\", \"38\", \"39\", \"40\", \"41\", \"42\", \"43\", \"44\", \"45\", \"46\", \"47\", \"48\", \"49\", \"50\", \"51\", \"52\", \"55\", \"56\"], \"mode\": \"markers\", \"name\": \"precision_score_macro\", \"stepped\": false, \"type\": \"scatter\", \"data\": [0.8082836025779209, 0.8334455401227748, 0.8342732408834103, 0.8527614941308072, 0.8044279455168747, 0.8385287970033732, 0.8592118288464924, 0.7725654588647887, 0.8135645498569227, 0.7608187879550874, 0.8099697531047645, 0.8256332101946137, 0.8385195707070707, 0.8456330128205128, 0.8210658921851955, 0.8844001610305958, 0.8512753042164807, 0.830466326838527, 0.8238005740464757, 0.8510166097432915, 0.8501368308924806, 0.7781261724934904, 0.8252678661497203, 0.8454944505676959, 0.8329151104886399, 0.7508458801855028, 0.5695780014544316, 0.8282599807599808, 0.8315038829151732, 0.8019005847953217, 0.34720464135021095, 0.8523987009684949, 0.8434290391000904, 0.8374932360630302, 0.8200637222113326, 0.34720464135021095, 0.849340525111613, 0.8389453003423591, 0.8696667472514342, 0.8192892335017573, 0.8108018366727383, 0.8465105835862238, 0.8328623559801112, 0.8415679625675407, 0.8499440999440999, 0.84803672527226, 0.8260771170838384, 0.8567937450705813, 0.8388931701773231, 0.823725687247451, 0.7897508954706026, 0.8349047548109579, 0.8189736346516008, 0.8736333579197093, 0.8609372446639264]}, {\"categories\": [\"0\", \"1\", \"2\", \"3\", \"4\", \"5\", \"6\", \"7\", \"8\", \"9\", \"10\", \"11\", \"12\", \"13\", \"14\", \"15\", \"16\", \"17\", \"18\", \"19\", \"20\", \"21\", \"22\", \"23\", \"24\", \"25\", \"26\", \"27\", \"28\", \"29\", \"30\", \"31\", \"32\", \"33\", \"34\", \"35\", \"36\", \"37\", \"38\", \"39\", \"40\", \"41\", \"42\", \"43\", \"44\", \"45\", \"46\", \"47\", \"48\", \"49\", \"50\", \"51\", \"52\", \"55\", \"56\"], \"mode\": \"lines\", \"name\": \"precision_score_macro_max\", \"stepped\": true, \"type\": \"scatter\", \"data\": [0.8082836025779209, 0.8334455401227748, 0.8342732408834103, 0.8527614941308072, 0.8527614941308072, 0.8527614941308072, 0.8592118288464924, 0.8592118288464924, 0.8592118288464924, 0.8592118288464924, 0.8592118288464924, 0.8592118288464924, 0.8592118288464924, 0.8592118288464924, 0.8592118288464924, 0.8844001610305958, 0.8844001610305958, 0.8844001610305958, 0.8844001610305958, 0.8844001610305958, 0.8844001610305958, 0.8844001610305958, 0.8844001610305958, 0.8844001610305958, 0.8844001610305958, 0.8844001610305958, 0.8844001610305958, 0.8844001610305958, 0.8844001610305958, 0.8844001610305958, 0.8844001610305958, 0.8844001610305958, 0.8844001610305958, 0.8844001610305958, 0.8844001610305958, 0.8844001610305958, 0.8844001610305958, 0.8844001610305958, 0.8844001610305958, 0.8844001610305958, 0.8844001610305958, 0.8844001610305958, 0.8844001610305958, 0.8844001610305958, 0.8844001610305958, 0.8844001610305958, 0.8844001610305958, 0.8844001610305958, 0.8844001610305958, 0.8844001610305958, 0.8844001610305958, 0.8844001610305958, 0.8844001610305958, 0.8844001610305958, 0.8844001610305958]}], \"precision_score_micro\": [{\"categories\": [\"0\", \"1\", \"2\", \"3\", \"4\", \"5\", \"6\", \"7\", \"8\", \"9\", \"10\", \"11\", \"12\", \"13\", \"14\", \"15\", \"16\", \"17\", \"18\", \"19\", \"20\", \"21\", \"22\", \"23\", \"24\", \"25\", \"26\", \"27\", \"28\", \"29\", \"30\", \"31\", \"32\", \"33\", \"34\", \"35\", \"36\", \"37\", \"38\", \"39\", \"40\", \"41\", \"42\", \"43\", \"44\", \"45\", \"46\", \"47\", \"48\", \"49\", \"50\", \"51\", \"52\", \"55\", \"56\"], \"mode\": \"markers\", \"name\": \"precision_score_micro\", \"stepped\": false, \"type\": \"scatter\", \"data\": [0.8326476793248946, 0.8494198312236287, 0.8535864978902953, 0.8618670886075949, 0.8325421940928269, 0.8367088607594937, 0.8575949367088608, 0.7364451476793249, 0.8284810126582278, 0.7866561181434598, 0.8159810126582278, 0.8452004219409283, 0.8450949367088607, 0.8325949367088609, 0.8367616033755274, 0.7907700421940929, 0.8325949367088606, 0.8409810126582279, 0.8409810126582279, 0.8619198312236288, 0.8576476793248945, 0.7866561181434598, 0.8410864978902954, 0.857753164556962, 0.8243143459915613, 0.7867088607594938, 0.6651898734177215, 0.8408755274261602, 0.8327004219409283, 0.824367088607595, 0.6944092827004219, 0.8661392405063291, 0.8535337552742616, 0.8536392405063292, 0.8410337552742616, 0.6944092827004219, 0.8493670886075949, 0.8368143459915611, 0.8744198312236287, 0.8367616033755274, 0.8284810126582278, 0.7907700421940929, 0.8493143459915612, 0.8409810126582279, 0.7822784810126583, 0.8660337552742616, 0.845253164556962, 0.8702531645569621, 0.8535864978902955, 0.8409810126582279, 0.8033227848101266, 0.8493143459915612, 0.8368143459915611, 0.8828059071729957, 0.8702531645569621]}, {\"categories\": [\"0\", \"1\", \"2\", \"3\", \"4\", \"5\", \"6\", \"7\", \"8\", \"9\", \"10\", \"11\", \"12\", \"13\", \"14\", \"15\", \"16\", \"17\", \"18\", \"19\", \"20\", \"21\", \"22\", \"23\", \"24\", \"25\", \"26\", \"27\", \"28\", \"29\", \"30\", \"31\", \"32\", \"33\", \"34\", \"35\", \"36\", \"37\", \"38\", \"39\", \"40\", \"41\", \"42\", \"43\", \"44\", \"45\", \"46\", \"47\", \"48\", \"49\", \"50\", \"51\", \"52\", \"55\", \"56\"], \"mode\": \"lines\", \"name\": \"precision_score_micro_max\", \"stepped\": true, \"type\": \"scatter\", \"data\": [0.8326476793248946, 0.8494198312236287, 0.8535864978902953, 0.8618670886075949, 0.8618670886075949, 0.8618670886075949, 0.8618670886075949, 0.8618670886075949, 0.8618670886075949, 0.8618670886075949, 0.8618670886075949, 0.8618670886075949, 0.8618670886075949, 0.8618670886075949, 0.8618670886075949, 0.8618670886075949, 0.8618670886075949, 0.8618670886075949, 0.8618670886075949, 0.8619198312236288, 0.8619198312236288, 0.8619198312236288, 0.8619198312236288, 0.8619198312236288, 0.8619198312236288, 0.8619198312236288, 0.8619198312236288, 0.8619198312236288, 0.8619198312236288, 0.8619198312236288, 0.8619198312236288, 0.8661392405063291, 0.8661392405063291, 0.8661392405063291, 0.8661392405063291, 0.8661392405063291, 0.8661392405063291, 0.8661392405063291, 0.8744198312236287, 0.8744198312236287, 0.8744198312236287, 0.8744198312236287, 0.8744198312236287, 0.8744198312236287, 0.8744198312236287, 0.8744198312236287, 0.8744198312236287, 0.8744198312236287, 0.8744198312236287, 0.8744198312236287, 0.8744198312236287, 0.8744198312236287, 0.8744198312236287, 0.8828059071729957, 0.8828059071729957]}], \"weighted_accuracy\": [{\"categories\": [\"0\", \"1\", \"2\", \"3\", \"4\", \"5\", \"6\", \"7\", \"8\", \"9\", \"10\", \"11\", \"12\", \"13\", \"14\", \"15\", \"16\", \"17\", \"18\", \"19\", \"20\", \"21\", \"22\", \"23\", \"24\", \"25\", \"26\", \"27\", \"28\", \"29\", \"30\", \"31\", \"32\", \"33\", \"34\", \"35\", \"36\", \"37\", \"38\", \"39\", \"40\", \"41\", \"42\", \"43\", \"44\", \"45\", \"46\", \"47\", \"48\", \"49\", \"50\", \"51\", \"52\", \"55\", \"56\"], \"mode\": \"markers\", \"name\": \"weighted_accuracy\", \"stepped\": false, \"type\": \"scatter\", \"data\": [0.8529929159200856, 0.8736265645057939, 0.87572367406691, 0.8968545023439, 0.8588931157343409, 0.8892923149593447, 0.8995514447458718, 0.8410885154815054, 0.8652619680297992, 0.829042435357369, 0.8710273086676544, 0.8680792292677739, 0.8812533068561081, 0.891813802735808, 0.8715283332847248, 0.8865680180811991, 0.8915182621253951, 0.8828506611879523, 0.8746482483848674, 0.8909113344139806, 0.8879428292994431, 0.8606240298751228, 0.8717833152084221, 0.885896886003306, 0.8848631406679323, 0.8094756453239115, 0.7504030435810431, 0.8762042729693231, 0.8812447581075128, 0.8549289634682448, 0.8346579261051982, 0.8908016047750446, 0.8832585069752912, 0.8784728376517569, 0.8695240703352565, 0.8346579261051982, 0.8961605535035977, 0.8889727297090282, 0.9059630622855587, 0.8623293177791701, 0.8720251807579228, 0.8805986473147231, 0.8749798283494274, 0.8915681406213789, 0.871297347640071, 0.8907324338228241, 0.8733821234183031, 0.8957730850700557, 0.8721733407987579, 0.8709119196550003, 0.8439079349161331, 0.8809575817554568, 0.8754171752789536, 0.9081364376694537, 0.89821727048704]}, {\"categories\": [\"0\", \"1\", \"2\", \"3\", \"4\", \"5\", \"6\", \"7\", \"8\", \"9\", \"10\", \"11\", \"12\", \"13\", \"14\", \"15\", \"16\", \"17\", \"18\", \"19\", \"20\", \"21\", \"22\", \"23\", \"24\", \"25\", \"26\", \"27\", \"28\", \"29\", \"30\", \"31\", \"32\", \"33\", \"34\", \"35\", \"36\", \"37\", \"38\", \"39\", \"40\", \"41\", \"42\", \"43\", \"44\", \"45\", \"46\", \"47\", \"48\", \"49\", \"50\", \"51\", \"52\", \"55\", \"56\"], \"mode\": \"lines\", \"name\": \"weighted_accuracy_max\", \"stepped\": true, \"type\": \"scatter\", \"data\": [0.8529929159200856, 0.8736265645057939, 0.87572367406691, 0.8968545023439, 0.8968545023439, 0.8968545023439, 0.8995514447458718, 0.8995514447458718, 0.8995514447458718, 0.8995514447458718, 0.8995514447458718, 0.8995514447458718, 0.8995514447458718, 0.8995514447458718, 0.8995514447458718, 0.8995514447458718, 0.8995514447458718, 0.8995514447458718, 0.8995514447458718, 0.8995514447458718, 0.8995514447458718, 0.8995514447458718, 0.8995514447458718, 0.8995514447458718, 0.8995514447458718, 0.8995514447458718, 0.8995514447458718, 0.8995514447458718, 0.8995514447458718, 0.8995514447458718, 0.8995514447458718, 0.8995514447458718, 0.8995514447458718, 0.8995514447458718, 0.8995514447458718, 0.8995514447458718, 0.8995514447458718, 0.8995514447458718, 0.9059630622855587, 0.9059630622855587, 0.9059630622855587, 0.9059630622855587, 0.9059630622855587, 0.9059630622855587, 0.9059630622855587, 0.9059630622855587, 0.9059630622855587, 0.9059630622855587, 0.9059630622855587, 0.9059630622855587, 0.9059630622855587, 0.9059630622855587, 0.9059630622855587, 0.9081364376694537, 0.9081364376694537]}], \"log_loss\": [{\"categories\": [\"0\", \"1\", \"2\", \"3\", \"4\", \"5\", \"6\", \"7\", \"8\", \"9\", \"10\", \"11\", \"12\", \"13\", \"14\", \"15\", \"16\", \"17\", \"18\", \"19\", \"20\", \"21\", \"22\", \"23\", \"24\", \"25\", \"26\", \"27\", \"28\", \"29\", \"30\", \"31\", \"32\", \"33\", \"34\", \"35\", \"36\", \"37\", \"38\", \"39\", \"40\", \"41\", \"42\", \"43\", \"44\", \"45\", \"46\", \"47\", \"48\", \"49\", \"50\", \"51\", \"52\", \"55\", \"56\"], \"mode\": \"markers\", \"name\": \"log_loss\", \"stepped\": false, \"type\": \"scatter\", \"data\": [0.41453129752699086, 0.3916930153839741, 0.38659432473118643, 0.3953967497904875, 0.5144886031387425, 0.456267717569917, 0.3967764323818799, 0.5473960327494013, 0.42114941971461367, 0.49971314169547326, 0.4521056424579082, 0.339442750676405, 0.40823853103232516, 0.41842301264747167, 0.42137626085955, 0.48280092690075377, 0.452287992878397, 0.38729302651717923, 0.37018409887694154, 0.3463436351081495, 0.3785590428044068, 0.537640590412373, 0.44327106184080717, 0.3451238908267049, 0.43693877382107277, 0.5279063973837853, 0.669300864935436, 0.408393204845005, 0.40659908788345556, 0.3496191271342512, 0.6186500793108493, 0.351008181952203, 0.35266583814819835, 0.3582092394865184, 0.3955191706848153, 0.6164981033580011, 0.4109143017731119, 0.415276065362902, 0.3930311456816536, 0.366016704465306, 0.42145236660082813, 0.461473393481413, 0.3602937193053837, 0.42716612801068005, 0.46394836105629994, 0.3676861831104163, 0.3746237352394062, 0.3717827572967802, 0.35910991668041126, 0.3839213430802624, 0.5133541728236218, 0.3596939781324777, 0.3670036428576025, 0.3543497980830313, 0.36719728131981483]}, {\"categories\": [\"0\", \"1\", \"2\", \"3\", \"4\", \"5\", \"6\", \"7\", \"8\", \"9\", \"10\", \"11\", \"12\", \"13\", \"14\", \"15\", \"16\", \"17\", \"18\", \"19\", \"20\", \"21\", \"22\", \"23\", \"24\", \"25\", \"26\", \"27\", \"28\", \"29\", \"30\", \"31\", \"32\", \"33\", \"34\", \"35\", \"36\", \"37\", \"38\", \"39\", \"40\", \"41\", \"42\", \"43\", \"44\", \"45\", \"46\", \"47\", \"48\", \"49\", \"50\", \"51\", \"52\", \"55\", \"56\"], \"mode\": \"lines\", \"name\": \"log_loss_min\", \"stepped\": true, \"type\": \"scatter\", \"data\": [0.41453129752699086, 0.3916930153839741, 0.38659432473118643, 0.38659432473118643, 0.38659432473118643, 0.38659432473118643, 0.38659432473118643, 0.38659432473118643, 0.38659432473118643, 0.38659432473118643, 0.38659432473118643, 0.339442750676405, 0.339442750676405, 0.339442750676405, 0.339442750676405, 0.339442750676405, 0.339442750676405, 0.339442750676405, 0.339442750676405, 0.339442750676405, 0.339442750676405, 0.339442750676405, 0.339442750676405, 0.339442750676405, 0.339442750676405, 0.339442750676405, 0.339442750676405, 0.339442750676405, 0.339442750676405, 0.339442750676405, 0.339442750676405, 0.339442750676405, 0.339442750676405, 0.339442750676405, 0.339442750676405, 0.339442750676405, 0.339442750676405, 0.339442750676405, 0.339442750676405, 0.339442750676405, 0.339442750676405, 0.339442750676405, 0.339442750676405, 0.339442750676405, 0.339442750676405, 0.339442750676405, 0.339442750676405, 0.339442750676405, 0.339442750676405, 0.339442750676405, 0.339442750676405, 0.339442750676405, 0.339442750676405, 0.339442750676405, 0.339442750676405]}], \"f1_score_weighted\": [{\"categories\": [\"0\", \"1\", \"2\", \"3\", \"4\", \"5\", \"6\", \"7\", \"8\", \"9\", \"10\", \"11\", \"12\", \"13\", \"14\", \"15\", \"16\", \"17\", \"18\", \"19\", \"20\", \"21\", \"22\", \"23\", \"24\", \"25\", \"26\", \"27\", \"28\", \"29\", \"30\", \"31\", \"32\", \"33\", \"34\", \"35\", \"36\", \"37\", \"38\", \"39\", \"40\", \"41\", \"42\", \"43\", \"44\", \"45\", \"46\", \"47\", \"48\", \"49\", \"50\", \"51\", \"52\", \"55\", \"56\"], \"mode\": \"markers\", \"name\": \"f1_score_weighted\", \"stepped\": false, \"type\": \"scatter\", \"data\": [0.8327328099403729, 0.8483104018420873, 0.853106502141558, 0.85782557890193, 0.8311630494493737, 0.8256606532232572, 0.8503178928569648, 0.6764360947004646, 0.8240883900116471, 0.780829726842663, 0.8045378197431764, 0.8443578201728368, 0.8393451863930036, 0.8191918391899735, 0.8323310450439984, 0.7485097527751461, 0.8190886212059012, 0.8349726862765495, 0.8372471869731042, 0.8592026524901036, 0.8534941584352245, 0.7652008499299304, 0.8386918364643375, 0.8554042381864768, 0.8094093477673153, 0.7884131870540716, 0.6252737136548329, 0.8354407506214869, 0.8245607202775052, 0.8229010159845918, 0.569608962769124, 0.8646824499964385, 0.8502833318746653, 0.8524650248000603, 0.8391379636039301, 0.569608962769124, 0.841906196127341, 0.8270316621031476, 0.8708310205239195, 0.8342190670030836, 0.8219187901782185, 0.7544515111780741, 0.8468838474740067, 0.8319714556026714, 0.7419332759226044, 0.8642500958956655, 0.8430252455944888, 0.8681996764459822, 0.8531309475240514, 0.838017241832946, 0.7965665161435647, 0.8457553370710412, 0.8321944752895378, 0.8806437875095002, 0.8675834822995049]}, {\"categories\": [\"0\", \"1\", \"2\", \"3\", \"4\", \"5\", \"6\", \"7\", \"8\", \"9\", \"10\", \"11\", \"12\", \"13\", \"14\", \"15\", \"16\", \"17\", \"18\", \"19\", \"20\", \"21\", \"22\", \"23\", \"24\", \"25\", \"26\", \"27\", \"28\", \"29\", \"30\", \"31\", \"32\", \"33\", \"34\", \"35\", \"36\", \"37\", \"38\", \"39\", \"40\", \"41\", \"42\", \"43\", \"44\", \"45\", \"46\", \"47\", \"48\", \"49\", \"50\", \"51\", \"52\", \"55\", \"56\"], \"mode\": \"lines\", \"name\": \"f1_score_weighted_max\", \"stepped\": true, \"type\": \"scatter\", \"data\": [0.8327328099403729, 0.8483104018420873, 0.853106502141558, 0.85782557890193, 0.85782557890193, 0.85782557890193, 0.85782557890193, 0.85782557890193, 0.85782557890193, 0.85782557890193, 0.85782557890193, 0.85782557890193, 0.85782557890193, 0.85782557890193, 0.85782557890193, 0.85782557890193, 0.85782557890193, 0.85782557890193, 0.85782557890193, 0.8592026524901036, 0.8592026524901036, 0.8592026524901036, 0.8592026524901036, 0.8592026524901036, 0.8592026524901036, 0.8592026524901036, 0.8592026524901036, 0.8592026524901036, 0.8592026524901036, 0.8592026524901036, 0.8592026524901036, 0.8646824499964385, 0.8646824499964385, 0.8646824499964385, 0.8646824499964385, 0.8646824499964385, 0.8646824499964385, 0.8646824499964385, 0.8708310205239195, 0.8708310205239195, 0.8708310205239195, 0.8708310205239195, 0.8708310205239195, 0.8708310205239195, 0.8708310205239195, 0.8708310205239195, 0.8708310205239195, 0.8708310205239195, 0.8708310205239195, 0.8708310205239195, 0.8708310205239195, 0.8708310205239195, 0.8708310205239195, 0.8806437875095002, 0.8806437875095002]}], \"AUC_micro\": [{\"categories\": [\"0\", \"1\", \"2\", \"3\", \"4\", \"5\", \"6\", \"7\", \"8\", \"9\", \"10\", \"11\", \"12\", \"13\", \"14\", \"15\", \"16\", \"17\", \"18\", \"19\", \"20\", \"21\", \"22\", \"23\", \"24\", \"25\", \"26\", \"27\", \"28\", \"29\", \"30\", \"31\", \"32\", \"33\", \"34\", \"35\", \"36\", \"37\", \"38\", \"39\", \"40\", \"41\", \"42\", \"43\", \"44\", \"45\", \"46\", \"47\", \"48\", \"49\", \"50\", \"51\", \"52\", \"55\", \"56\"], \"mode\": \"markers\", \"name\": \"AUC_micro\", \"stepped\": false, \"type\": \"scatter\", \"data\": [0.91672110338888, 0.9174496024274955, 0.9113757644341184, 0.9109488162954654, 0.9148620263178978, 0.8939295168375795, 0.9142542761576671, 0.8089605573692783, 0.89352876475458, 0.8611896714602362, 0.8858406688965443, 0.9309803199941249, 0.9045492008492229, 0.9048454441061796, 0.8914149124739627, 0.8756124402472895, 0.8981542337632858, 0.9206432763178979, 0.9180128969048763, 0.9303699160123912, 0.9221371024274956, 0.8561900052742616, 0.8806356570127652, 0.9298208837392511, 0.894390964655771, 0.8770863543502644, 0.7160530497249372, 0.9185536422448326, 0.9060344062116114, 0.9243279155316989, 0.6944092827004219, 0.923943762351119, 0.9258711794984777, 0.922843711611387, 0.9112669494071463, 0.715365676574267, 0.91360904702772, 0.9150411676146986, 0.9170336033888801, 0.9178533338006729, 0.8980238543502642, 0.8809859781418575, 0.9194420382016771, 0.9044493487288361, 0.888644548149335, 0.9230112445254499, 0.9125607374619452, 0.9132474429845644, 0.9234683777973615, 0.9194825131522727, 0.8696590173182716, 0.9181462556080756, 0.9231585316188644, 0.9257656859210597, 0.9215781224963949]}, {\"categories\": [\"0\", \"1\", \"2\", \"3\", \"4\", \"5\", \"6\", \"7\", \"8\", \"9\", \"10\", \"11\", \"12\", \"13\", \"14\", \"15\", \"16\", \"17\", \"18\", \"19\", \"20\", \"21\", \"22\", \"23\", \"24\", \"25\", \"26\", \"27\", \"28\", \"29\", \"30\", \"31\", \"32\", \"33\", \"34\", \"35\", \"36\", \"37\", \"38\", \"39\", \"40\", \"41\", \"42\", \"43\", \"44\", \"45\", \"46\", \"47\", \"48\", \"49\", \"50\", \"51\", \"52\", \"55\", \"56\"], \"mode\": \"lines\", \"name\": \"AUC_micro_max\", \"stepped\": true, \"type\": \"scatter\", \"data\": [0.91672110338888, 0.9174496024274955, 0.9174496024274955, 0.9174496024274955, 0.9174496024274955, 0.9174496024274955, 0.9174496024274955, 0.9174496024274955, 0.9174496024274955, 0.9174496024274955, 0.9174496024274955, 0.9309803199941249, 0.9309803199941249, 0.9309803199941249, 0.9309803199941249, 0.9309803199941249, 0.9309803199941249, 0.9309803199941249, 0.9309803199941249, 0.9309803199941249, 0.9309803199941249, 0.9309803199941249, 0.9309803199941249, 0.9309803199941249, 0.9309803199941249, 0.9309803199941249, 0.9309803199941249, 0.9309803199941249, 0.9309803199941249, 0.9309803199941249, 0.9309803199941249, 0.9309803199941249, 0.9309803199941249, 0.9309803199941249, 0.9309803199941249, 0.9309803199941249, 0.9309803199941249, 0.9309803199941249, 0.9309803199941249, 0.9309803199941249, 0.9309803199941249, 0.9309803199941249, 0.9309803199941249, 0.9309803199941249, 0.9309803199941249, 0.9309803199941249, 0.9309803199941249, 0.9309803199941249, 0.9309803199941249, 0.9309803199941249, 0.9309803199941249, 0.9309803199941249, 0.9309803199941249, 0.9309803199941249, 0.9309803199941249]}], \"f1_score_micro\": [{\"categories\": [\"0\", \"1\", \"2\", \"3\", \"4\", \"5\", \"6\", \"7\", \"8\", \"9\", \"10\", \"11\", \"12\", \"13\", \"14\", \"15\", \"16\", \"17\", \"18\", \"19\", \"20\", \"21\", \"22\", \"23\", \"24\", \"25\", \"26\", \"27\", \"28\", \"29\", \"30\", \"31\", \"32\", \"33\", \"34\", \"35\", \"36\", \"37\", \"38\", \"39\", \"40\", \"41\", \"42\", \"43\", \"44\", \"45\", \"46\", \"47\", \"48\", \"49\", \"50\", \"51\", \"52\", \"55\", \"56\"], \"mode\": \"markers\", \"name\": \"f1_score_micro\", \"stepped\": false, \"type\": \"scatter\", \"data\": [0.8326476793248946, 0.8494198312236287, 0.8535864978902953, 0.8618670886075949, 0.8325421940928269, 0.8367088607594937, 0.8575949367088608, 0.7364451476793249, 0.8284810126582279, 0.7866561181434598, 0.8159810126582278, 0.8452004219409283, 0.8450949367088607, 0.8325949367088609, 0.8367616033755274, 0.7907700421940929, 0.8325949367088606, 0.8409810126582279, 0.8409810126582279, 0.8619198312236288, 0.8576476793248945, 0.7866561181434598, 0.8410864978902954, 0.857753164556962, 0.8243143459915613, 0.7867088607594938, 0.6651898734177215, 0.8408755274261602, 0.8327004219409283, 0.824367088607595, 0.6944092827004219, 0.8661392405063291, 0.8535337552742616, 0.8536392405063292, 0.8410337552742616, 0.6944092827004219, 0.8493670886075949, 0.8368143459915611, 0.8744198312236287, 0.8367616033755274, 0.8284810126582278, 0.7907700421940929, 0.8493143459915612, 0.8409810126582279, 0.7822784810126583, 0.8660337552742616, 0.845253164556962, 0.8702531645569621, 0.8535864978902955, 0.8409810126582279, 0.8033227848101266, 0.8493143459915612, 0.8368143459915611, 0.8828059071729957, 0.8702531645569621]}, {\"categories\": [\"0\", \"1\", \"2\", \"3\", \"4\", \"5\", \"6\", \"7\", \"8\", \"9\", \"10\", \"11\", \"12\", \"13\", \"14\", \"15\", \"16\", \"17\", \"18\", \"19\", \"20\", \"21\", \"22\", \"23\", \"24\", \"25\", \"26\", \"27\", \"28\", \"29\", \"30\", \"31\", \"32\", \"33\", \"34\", \"35\", \"36\", \"37\", \"38\", \"39\", \"40\", \"41\", \"42\", \"43\", \"44\", \"45\", \"46\", \"47\", \"48\", \"49\", \"50\", \"51\", \"52\", \"55\", \"56\"], \"mode\": \"lines\", \"name\": \"f1_score_micro_max\", \"stepped\": true, \"type\": \"scatter\", \"data\": [0.8326476793248946, 0.8494198312236287, 0.8535864978902953, 0.8618670886075949, 0.8618670886075949, 0.8618670886075949, 0.8618670886075949, 0.8618670886075949, 0.8618670886075949, 0.8618670886075949, 0.8618670886075949, 0.8618670886075949, 0.8618670886075949, 0.8618670886075949, 0.8618670886075949, 0.8618670886075949, 0.8618670886075949, 0.8618670886075949, 0.8618670886075949, 0.8619198312236288, 0.8619198312236288, 0.8619198312236288, 0.8619198312236288, 0.8619198312236288, 0.8619198312236288, 0.8619198312236288, 0.8619198312236288, 0.8619198312236288, 0.8619198312236288, 0.8619198312236288, 0.8619198312236288, 0.8661392405063291, 0.8661392405063291, 0.8661392405063291, 0.8661392405063291, 0.8661392405063291, 0.8661392405063291, 0.8661392405063291, 0.8744198312236287, 0.8744198312236287, 0.8744198312236287, 0.8744198312236287, 0.8744198312236287, 0.8744198312236287, 0.8744198312236287, 0.8744198312236287, 0.8744198312236287, 0.8744198312236287, 0.8744198312236287, 0.8744198312236287, 0.8744198312236287, 0.8744198312236287, 0.8744198312236287, 0.8828059071729957, 0.8828059071729957]}], \"recall_score_macro\": [{\"categories\": [\"0\", \"1\", \"2\", \"3\", \"4\", \"5\", \"6\", \"7\", \"8\", \"9\", \"10\", \"11\", \"12\", \"13\", \"14\", \"15\", \"16\", \"17\", \"18\", \"19\", \"20\", \"21\", \"22\", \"23\", \"24\", \"25\", \"26\", \"27\", \"28\", \"29\", \"30\", \"31\", \"32\", \"33\", \"34\", \"35\", \"36\", \"37\", \"38\", \"39\", \"40\", \"41\", \"42\", \"43\", \"44\", \"45\", \"46\", \"47\", \"48\", \"49\", \"50\", \"51\", \"52\", \"55\", \"56\"], \"mode\": \"markers\", \"name\": \"recall_score_macro\", \"stepped\": false, \"type\": \"scatter\", \"data\": [0.8061796385242713, 0.8171752154520516, 0.8244430710532406, 0.8143604313660812, 0.7966710868123297, 0.7639530285575483, 0.8006020585399116, 0.5921315784027649, 0.778448045990419, 0.728647232658532, 0.7388755458811955, 0.8152399285167647, 0.7966227986284483, 0.7516486014508613, 0.7900989845057641, 0.6585537918871252, 0.752728142332662, 0.7836820032865232, 0.7950019827420958, 0.8232832693567157, 0.8173988127377957, 0.6836050432095631, 0.7997946299358728, 0.8204584105996534, 0.7418686931398796, 0.7564235952371545, 0.5507241126732653, 0.7934176704233201, 0.7664913868303699, 0.7832087205533532, 0.5, 0.833297916772493, 0.813874682546999, 0.8205706440452203, 0.802191771400811, 0.5, 0.7850112296157494, 0.7655050567762433, 0.831963289901143, 0.8039586465010194, 0.7673506510229675, 0.6673018047029347, 0.8157812035213166, 0.771503071107591, 0.6620368875736108, 0.8325373778763611, 0.808332326806903, 0.8355370618082482, 0.8300179282947644, 0.8011780289181419, 0.7459344098044663, 0.807238634978748, 0.7840303001037464, 0.8486446039835869, 0.8329802390536853]}, {\"categories\": [\"0\", \"1\", \"2\", \"3\", \"4\", \"5\", \"6\", \"7\", \"8\", \"9\", \"10\", \"11\", \"12\", \"13\", \"14\", \"15\", \"16\", \"17\", \"18\", \"19\", \"20\", \"21\", \"22\", \"23\", \"24\", \"25\", \"26\", \"27\", \"28\", \"29\", \"30\", \"31\", \"32\", \"33\", \"34\", \"35\", \"36\", \"37\", \"38\", \"39\", \"40\", \"41\", \"42\", \"43\", \"44\", \"45\", \"46\", \"47\", \"48\", \"49\", \"50\", \"51\", \"52\", \"55\", \"56\"], \"mode\": \"lines\", \"name\": \"recall_score_macro_max\", \"stepped\": true, \"type\": \"scatter\", \"data\": [0.8061796385242713, 0.8171752154520516, 0.8244430710532406, 0.8244430710532406, 0.8244430710532406, 0.8244430710532406, 0.8244430710532406, 0.8244430710532406, 0.8244430710532406, 0.8244430710532406, 0.8244430710532406, 0.8244430710532406, 0.8244430710532406, 0.8244430710532406, 0.8244430710532406, 0.8244430710532406, 0.8244430710532406, 0.8244430710532406, 0.8244430710532406, 0.8244430710532406, 0.8244430710532406, 0.8244430710532406, 0.8244430710532406, 0.8244430710532406, 0.8244430710532406, 0.8244430710532406, 0.8244430710532406, 0.8244430710532406, 0.8244430710532406, 0.8244430710532406, 0.8244430710532406, 0.833297916772493, 0.833297916772493, 0.833297916772493, 0.833297916772493, 0.833297916772493, 0.833297916772493, 0.833297916772493, 0.833297916772493, 0.833297916772493, 0.833297916772493, 0.833297916772493, 0.833297916772493, 0.833297916772493, 0.833297916772493, 0.833297916772493, 0.833297916772493, 0.8355370618082482, 0.8355370618082482, 0.8355370618082482, 0.8355370618082482, 0.8355370618082482, 0.8355370618082482, 0.8486446039835869, 0.8486446039835869]}], \"accuracy\": [{\"categories\": [\"0\", \"1\", \"2\", \"3\", \"4\", \"5\", \"6\", \"7\", \"8\", \"9\", \"10\", \"11\", \"12\", \"13\", \"14\", \"15\", \"16\", \"17\", \"18\", \"19\", \"20\", \"21\", \"22\", \"23\", \"24\", \"25\", \"26\", \"27\", \"28\", \"29\", \"30\", \"31\", \"32\", \"33\", \"34\", \"35\", \"36\", \"37\", \"38\", \"39\", \"40\", \"41\", \"42\", \"43\", \"44\", \"45\", \"46\", \"47\", \"48\", \"49\", \"50\", \"51\", \"52\", \"55\", \"56\"], \"mode\": \"markers\", \"name\": \"accuracy\", \"stepped\": false, \"type\": \"scatter\", \"data\": [0.8326476793248946, 0.8494198312236287, 0.8535864978902953, 0.8618670886075949, 0.8325421940928269, 0.8367088607594937, 0.8575949367088608, 0.7364451476793249, 0.8284810126582278, 0.7866561181434598, 0.8159810126582278, 0.8452004219409283, 0.8450949367088607, 0.8325949367088609, 0.8367616033755274, 0.7907700421940929, 0.8325949367088606, 0.8409810126582279, 0.8409810126582279, 0.8619198312236288, 0.8576476793248945, 0.7866561181434598, 0.8410864978902954, 0.857753164556962, 0.8243143459915613, 0.7867088607594938, 0.6651898734177215, 0.8408755274261602, 0.8327004219409283, 0.824367088607595, 0.6944092827004219, 0.8661392405063291, 0.8535337552742616, 0.8536392405063292, 0.8410337552742616, 0.6944092827004219, 0.8493670886075949, 0.8368143459915611, 0.8744198312236287, 0.8367616033755274, 0.8284810126582278, 0.7907700421940929, 0.8493143459915612, 0.8409810126582279, 0.7822784810126583, 0.8660337552742616, 0.845253164556962, 0.8702531645569621, 0.8535864978902955, 0.8409810126582279, 0.8033227848101266, 0.8493143459915612, 0.8368143459915611, 0.8828059071729957, 0.8702531645569621]}, {\"categories\": [\"0\", \"1\", \"2\", \"3\", \"4\", \"5\", \"6\", \"7\", \"8\", \"9\", \"10\", \"11\", \"12\", \"13\", \"14\", \"15\", \"16\", \"17\", \"18\", \"19\", \"20\", \"21\", \"22\", \"23\", \"24\", \"25\", \"26\", \"27\", \"28\", \"29\", \"30\", \"31\", \"32\", \"33\", \"34\", \"35\", \"36\", \"37\", \"38\", \"39\", \"40\", \"41\", \"42\", \"43\", \"44\", \"45\", \"46\", \"47\", \"48\", \"49\", \"50\", \"51\", \"52\", \"55\", \"56\"], \"mode\": \"lines\", \"name\": \"accuracy_max\", \"stepped\": true, \"type\": \"scatter\", \"data\": [0.8326476793248946, 0.8494198312236287, 0.8535864978902953, 0.8618670886075949, 0.8618670886075949, 0.8618670886075949, 0.8618670886075949, 0.8618670886075949, 0.8618670886075949, 0.8618670886075949, 0.8618670886075949, 0.8618670886075949, 0.8618670886075949, 0.8618670886075949, 0.8618670886075949, 0.8618670886075949, 0.8618670886075949, 0.8618670886075949, 0.8618670886075949, 0.8619198312236288, 0.8619198312236288, 0.8619198312236288, 0.8619198312236288, 0.8619198312236288, 0.8619198312236288, 0.8619198312236288, 0.8619198312236288, 0.8619198312236288, 0.8619198312236288, 0.8619198312236288, 0.8619198312236288, 0.8661392405063291, 0.8661392405063291, 0.8661392405063291, 0.8661392405063291, 0.8661392405063291, 0.8661392405063291, 0.8661392405063291, 0.8744198312236287, 0.8744198312236287, 0.8744198312236287, 0.8744198312236287, 0.8744198312236287, 0.8744198312236287, 0.8744198312236287, 0.8744198312236287, 0.8744198312236287, 0.8744198312236287, 0.8744198312236287, 0.8744198312236287, 0.8744198312236287, 0.8744198312236287, 0.8744198312236287, 0.8828059071729957, 0.8828059071729957]}], \"matthews_correlation\": [{\"categories\": [\"0\", \"1\", \"2\", \"3\", \"4\", \"5\", \"6\", \"7\", \"8\", \"9\", \"10\", \"11\", \"12\", \"13\", \"14\", \"15\", \"16\", \"17\", \"18\", \"19\", \"20\", \"21\", \"22\", \"23\", \"24\", \"25\", \"26\", \"27\", \"28\", \"29\", \"30\", \"31\", \"32\", \"33\", \"34\", \"35\", \"36\", \"37\", \"38\", \"39\", \"40\", \"41\", \"42\", \"43\", \"44\", \"45\", \"46\", \"47\", \"48\", \"49\", \"50\", \"51\", \"52\", \"55\", \"56\"], \"mode\": \"markers\", \"name\": \"matthews_correlation\", \"stepped\": false, \"type\": \"scatter\", \"data\": [0.6132711103839029, 0.6486841746105658, 0.6575917224089946, 0.6655906468501367, 0.6007775188502893, 0.5964173143289347, 0.6557093309551385, 0.2869279368763338, 0.5891102058446164, 0.4862199803746248, 0.5422938131992986, 0.6394121300094675, 0.6314684168015353, 0.5895608855651765, 0.6091035344906404, 0.490003261509053, 0.594387953529904, 0.6120195048229902, 0.6171982316003257, 0.6725214653321974, 0.6646208430547588, 0.451894478996598, 0.6233010411495755, 0.6641147779491815, 0.5659711834091317, 0.5067679968677358, 0.1155884266063069, 0.6190524965624599, 0.5932601790878383, 0.5837771784426299, 0.0, 0.6843133809555769, 0.6550215532602012, 0.6566692778509137, 0.621037096323149, 0.0, 0.630779729439451, 0.5995314813671117, 0.6997930680716444, 0.6208993610219808, 0.5758277297635442, 0.4799362476101076, 0.6469608512249417, 0.6087661486221941, 0.46758103796089207, 0.6800236617685141, 0.6332351953490855, 0.6914252371668018, 0.6666741933544222, 0.6233003881918296, 0.5316798402815742, 0.6404790737212838, 0.601724612982477, 0.720977865970507, 0.6921377948767473]}, {\"categories\": [\"0\", \"1\", \"2\", \"3\", \"4\", \"5\", \"6\", \"7\", \"8\", \"9\", \"10\", \"11\", \"12\", \"13\", \"14\", \"15\", \"16\", \"17\", \"18\", \"19\", \"20\", \"21\", \"22\", \"23\", \"24\", \"25\", \"26\", \"27\", \"28\", \"29\", \"30\", \"31\", \"32\", \"33\", \"34\", \"35\", \"36\", \"37\", \"38\", \"39\", \"40\", \"41\", \"42\", \"43\", \"44\", \"45\", \"46\", \"47\", \"48\", \"49\", \"50\", \"51\", \"52\", \"55\", \"56\"], \"mode\": \"lines\", \"name\": \"matthews_correlation_max\", \"stepped\": true, \"type\": \"scatter\", \"data\": [0.6132711103839029, 0.6486841746105658, 0.6575917224089946, 0.6655906468501367, 0.6655906468501367, 0.6655906468501367, 0.6655906468501367, 0.6655906468501367, 0.6655906468501367, 0.6655906468501367, 0.6655906468501367, 0.6655906468501367, 0.6655906468501367, 0.6655906468501367, 0.6655906468501367, 0.6655906468501367, 0.6655906468501367, 0.6655906468501367, 0.6655906468501367, 0.6725214653321974, 0.6725214653321974, 0.6725214653321974, 0.6725214653321974, 0.6725214653321974, 0.6725214653321974, 0.6725214653321974, 0.6725214653321974, 0.6725214653321974, 0.6725214653321974, 0.6725214653321974, 0.6725214653321974, 0.6843133809555769, 0.6843133809555769, 0.6843133809555769, 0.6843133809555769, 0.6843133809555769, 0.6843133809555769, 0.6843133809555769, 0.6997930680716444, 0.6997930680716444, 0.6997930680716444, 0.6997930680716444, 0.6997930680716444, 0.6997930680716444, 0.6997930680716444, 0.6997930680716444, 0.6997930680716444, 0.6997930680716444, 0.6997930680716444, 0.6997930680716444, 0.6997930680716444, 0.6997930680716444, 0.6997930680716444, 0.720977865970507, 0.720977865970507]}]}, \"metricName\": null, \"primaryMetricName\": \"accuracy\", \"showLegend\": false}, \"run_metrics\": [{\"name\": \"experiment_status\", \"run_id\": \"AutoML_1d6b790b-08ce-4bcf-b70c-aa121e567c60\", \"categories\": [0, 1, 2, 3, 4, 5], \"series\": [{\"data\": [\"DatasetEvaluation\", \"FeaturesGeneration\", \"DatasetFeaturization\", \"DatasetFeaturizationCompleted\", \"DatasetCrossValidationSplit\", \"ModelSelection\"]}]}, {\"name\": \"experiment_status_description\", \"run_id\": \"AutoML_1d6b790b-08ce-4bcf-b70c-aa121e567c60\", \"categories\": [0, 1, 2, 3, 4, 5], \"series\": [{\"data\": [\"Gathering dataset statistics.\", \"Generating features for the dataset.\", \"Beginning to fit featurizers and featurize the dataset.\", \"Completed fit featurizers and featurizing the dataset.\", \"Generating individually featurized CV splits.\", \"Beginning model selection.\"]}]}, {\"name\": \"AUC_macro\", \"run_id\": \"AutoML_1d6b790b-08ce-4bcf-b70c-aa121e567c60\", \"categories\": [0], \"series\": [{\"data\": [0.9154698689048972]}]}, {\"name\": \"f1_score_macro\", \"run_id\": \"AutoML_1d6b790b-08ce-4bcf-b70c-aa121e567c60\", \"categories\": [0], \"series\": [{\"data\": [0.8562924513053473]}]}, {\"name\": \"AUC_weighted\", \"run_id\": \"AutoML_1d6b790b-08ce-4bcf-b70c-aa121e567c60\", \"categories\": [0], \"series\": [{\"data\": [0.9154698689048972]}]}, {\"name\": \"f1_score_micro\", \"run_id\": \"AutoML_1d6b790b-08ce-4bcf-b70c-aa121e567c60\", \"categories\": [0], \"series\": [{\"data\": [0.8828059071729957]}]}, {\"name\": \"recall_score_micro\", \"run_id\": \"AutoML_1d6b790b-08ce-4bcf-b70c-aa121e567c60\", \"categories\": [0], \"series\": [{\"data\": [0.8828059071729957]}]}, {\"name\": \"log_loss\", \"run_id\": \"AutoML_1d6b790b-08ce-4bcf-b70c-aa121e567c60\", \"categories\": [0], \"series\": [{\"data\": [0.3543497980830313]}]}, {\"name\": \"matthews_correlation\", \"run_id\": \"AutoML_1d6b790b-08ce-4bcf-b70c-aa121e567c60\", \"categories\": [0], \"series\": [{\"data\": [0.720977865970507]}]}, {\"name\": \"average_precision_score_micro\", \"run_id\": \"AutoML_1d6b790b-08ce-4bcf-b70c-aa121e567c60\", \"categories\": [0], \"series\": [{\"data\": [0.9267888449231131]}]}, {\"name\": \"balanced_accuracy\", \"run_id\": \"AutoML_1d6b790b-08ce-4bcf-b70c-aa121e567c60\", \"categories\": [0], \"series\": [{\"data\": [0.8486446039835869]}]}, {\"name\": \"AUC_micro\", \"run_id\": \"AutoML_1d6b790b-08ce-4bcf-b70c-aa121e567c60\", \"categories\": [0], \"series\": [{\"data\": [0.9257656859210597]}]}, {\"name\": \"average_precision_score_macro\", \"run_id\": \"AutoML_1d6b790b-08ce-4bcf-b70c-aa121e567c60\", \"categories\": [0], \"series\": [{\"data\": [0.8947097922892953]}]}, {\"name\": \"recall_score_weighted\", \"run_id\": \"AutoML_1d6b790b-08ce-4bcf-b70c-aa121e567c60\", \"categories\": [0], \"series\": [{\"data\": [0.8828059071729957]}]}, {\"name\": \"precision_score_macro\", \"run_id\": \"AutoML_1d6b790b-08ce-4bcf-b70c-aa121e567c60\", \"categories\": [0], \"series\": [{\"data\": [0.8736333579197093]}]}, {\"name\": \"accuracy\", \"run_id\": \"AutoML_1d6b790b-08ce-4bcf-b70c-aa121e567c60\", \"categories\": [0], \"series\": [{\"data\": [0.8828059071729957]}]}, {\"name\": \"norm_macro_recall\", \"run_id\": \"AutoML_1d6b790b-08ce-4bcf-b70c-aa121e567c60\", \"categories\": [0], \"series\": [{\"data\": [0.6972892079671741]}]}, {\"name\": \"precision_score_micro\", \"run_id\": \"AutoML_1d6b790b-08ce-4bcf-b70c-aa121e567c60\", \"categories\": [0], \"series\": [{\"data\": [0.8828059071729957]}]}, {\"name\": \"precision_score_weighted\", \"run_id\": \"AutoML_1d6b790b-08ce-4bcf-b70c-aa121e567c60\", \"categories\": [0], \"series\": [{\"data\": [0.8860926049300466]}]}, {\"name\": \"average_precision_score_weighted\", \"run_id\": \"AutoML_1d6b790b-08ce-4bcf-b70c-aa121e567c60\", \"categories\": [0], \"series\": [{\"data\": [0.9220067110057949]}]}, {\"name\": \"f1_score_weighted\", \"run_id\": \"AutoML_1d6b790b-08ce-4bcf-b70c-aa121e567c60\", \"categories\": [0], \"series\": [{\"data\": [0.8806437875095002]}]}, {\"name\": \"recall_score_macro\", \"run_id\": \"AutoML_1d6b790b-08ce-4bcf-b70c-aa121e567c60\", \"categories\": [0], \"series\": [{\"data\": [0.8486446039835869]}]}, {\"name\": \"weighted_accuracy\", \"run_id\": \"AutoML_1d6b790b-08ce-4bcf-b70c-aa121e567c60\", \"categories\": [0], \"series\": [{\"data\": [0.9081364376694537]}]}], \"run_logs\": \"\\nRun is completed.\", \"graph\": {}, \"widget_settings\": {\"childWidgetDisplay\": \"popup\", \"send_telemetry\": false, \"log_level\": \"INFO\", \"sdk_version\": \"1.19.0\"}, \"loading\": false}"
          },
          "metadata": {}
        }
      ],
      "execution_count": 11,
      "metadata": {
        "gather": {
          "logged": 1611504993474
        }
      }
    },
    {
      "cell_type": "code",
      "source": [
        "remote_run.wait_for_completion(show_output=True)"
      ],
      "outputs": [
        {
          "output_type": "stream",
          "name": "stdout",
          "text": [
            "\n",
            "Current status: FeaturesGeneration. Generating features for the dataset.\n",
            "Current status: DatasetCrossValidationSplit. Generating individually featurized CV splits.\n",
            "Current status: ModelSelection. Beginning model selection.\n",
            "\n",
            "****************************************************************************************************\n",
            "DATA GUARDRAILS: \n",
            "\n",
            "TYPE:         Class balancing detection\n",
            "STATUS:       PASSED\n",
            "DESCRIPTION:  Your inputs were analyzed, and all classes are balanced in your training data.\n",
            "              Learn more about imbalanced data: https://aka.ms/AutomatedMLImbalancedData\n",
            "\n",
            "****************************************************************************************************\n",
            "\n",
            "TYPE:         Missing feature values imputation\n",
            "STATUS:       PASSED\n",
            "DESCRIPTION:  No feature missing values were detected in the training data.\n",
            "              Learn more about missing value imputation: https://aka.ms/AutomatedMLFeaturization\n",
            "\n",
            "****************************************************************************************************\n",
            "\n",
            "TYPE:         High cardinality feature detection\n",
            "STATUS:       PASSED\n",
            "DESCRIPTION:  Your inputs were analyzed, and no high cardinality features were detected.\n",
            "              Learn more about high cardinality feature handling: https://aka.ms/AutomatedMLFeaturization\n",
            "\n",
            "****************************************************************************************************\n",
            "\n",
            "****************************************************************************************************\n",
            "ITERATION: The iteration being evaluated.\n",
            "PIPELINE: A summary description of the pipeline being evaluated.\n",
            "DURATION: Time taken for the current iteration.\n",
            "METRIC: The result of computing score on the fitted pipeline.\n",
            "BEST: The best observed score thus far.\n",
            "****************************************************************************************************\n",
            "\n",
            " ITERATION   PIPELINE                                       DURATION      METRIC      BEST\n",
            "         0   MaxAbsScaler LightGBM                          0:00:53       0.8326    0.8326\n",
            "         1   MaxAbsScaler XGBoostClassifier                 0:00:52       0.8494    0.8494\n",
            "         3   MinMaxScaler RandomForest                      0:00:55       0.8619    0.8619\n",
            "         2   MinMaxScaler RandomForest                      0:00:58       0.8536    0.8619\n",
            "         4   MinMaxScaler RandomForest                      0:02:31       0.8325    0.8619\n",
            "         5   SparseNormalizer XGBoostClassifier             0:02:28       0.8367    0.8619\n",
            "         6   RobustScaler ExtremeRandomTrees                0:02:28       0.8576    0.8619\n",
            "         7   MinMaxScaler SVM                               0:02:24       0.7364    0.8619\n",
            "        10   SparseNormalizer XGBoostClassifier             0:00:58       0.8160    0.8619\n",
            "         8   SparseNormalizer XGBoostClassifier             0:00:57       0.8285    0.8619\n",
            "         9   SparseNormalizer XGBoostClassifier             0:00:54       0.7867    0.8619\n",
            "        11   MaxAbsScaler GradientBoosting                  0:00:58       0.8452    0.8619\n",
            "        12   SparseNormalizer XGBoostClassifier             0:00:52       0.8451    0.8619\n",
            "        13   MinMaxScaler LightGBM                          0:00:59       0.8326    0.8619\n",
            "        14   SparseNormalizer LightGBM                      0:00:52       0.8368    0.8619\n",
            "        15   RobustScaler LightGBM                          0:00:55       0.7908    0.8619\n",
            "        16   StandardScalerWrapper LightGBM                 0:00:51       0.8326    0.8619\n",
            "        17   StandardScalerWrapper LightGBM                 0:00:50       0.8410    0.8619\n",
            "        19   StandardScalerWrapper GradientBoosting         0:00:50       0.8619    0.8619\n",
            "        18   RobustScaler RandomForest                      0:01:54       0.8410    0.8619\n",
            "        20   StandardScalerWrapper LightGBM                 0:00:58       0.8576    0.8619\n",
            "        21   SparseNormalizer XGBoostClassifier             0:00:53       0.7867    0.8619\n",
            "        22   TruncatedSVDWrapper XGBoostClassifier          0:00:53       0.8411    0.8619\n",
            "        23   StandardScalerWrapper LightGBM                 0:00:53       0.8578    0.8619\n",
            "        24   MinMaxScaler GradientBoosting                  0:00:49       0.8243    0.8619\n",
            "        26   RobustScaler KNN                               0:00:51       0.6652    0.8619\n",
            "        25   StandardScalerWrapper RandomForest             0:01:25       0.7867    0.8619\n",
            "        27   MaxAbsScaler LightGBM                          0:00:57       0.8409    0.8619\n",
            "        28   MaxAbsScaler LightGBM                          0:00:59       0.8327    0.8619\n",
            "        29   StandardScalerWrapper LightGBM                 0:00:54       0.8244    0.8619\n",
            "        30   TruncatedSVDWrapper GradientBoosting           0:01:10       0.6944    0.8619\n",
            "        31   MaxAbsScaler LightGBM                          0:00:58       0.8661    0.8661\n",
            "        32   StandardScalerWrapper LightGBM                 0:00:54       0.8535    0.8661\n",
            "        33   MinMaxScaler LightGBM                          0:00:54       0.8536    0.8661\n",
            "        34   StandardScalerWrapper RandomForest             0:00:52       0.8410    0.8661\n",
            "        35   PCA LightGBM                                   0:00:52       0.6944    0.8661\n",
            "        36   StandardScalerWrapper LightGBM                 0:00:51       0.8494    0.8661\n",
            "        37   StandardScalerWrapper XGBoostClassifier        0:00:57       0.8368    0.8661\n",
            "        38   MaxAbsScaler RandomForest                      0:00:53       0.8744    0.8744\n",
            "        40   SparseNormalizer LightGBM                      0:00:52       0.8285    0.8744\n",
            "        39   MaxAbsScaler LightGBM                          0:01:06       0.8368    0.8744\n",
            "        41   MaxAbsScaler LightGBM                          0:00:59       0.7908    0.8744\n",
            "        42   StandardScalerWrapper LightGBM                 0:01:16       0.8493    0.8744\n",
            "        43   StandardScalerWrapper LightGBM                 0:00:55       0.8410    0.8744\n",
            "        44   MaxAbsScaler RandomForest                      0:00:56       0.7823    0.8744\n",
            "        45   MaxAbsScaler RandomForest                      0:01:39       0.8660    0.8744\n",
            "        46   RobustScaler LightGBM                          0:01:04       0.8453    0.8744\n",
            "        47   RobustScaler RandomForest                      0:00:58       0.8703    0.8744\n",
            "        48   MaxAbsScaler LightGBM                          0:00:59       0.8536    0.8744\n",
            "        49   StandardScalerWrapper LightGBM                 0:01:03       0.8410    0.8744\n",
            "        50   SparseNormalizer RandomForest                  0:00:57       0.8033    0.8744\n",
            "        51   MaxAbsScaler LightGBM                          0:00:56       0.8493    0.8744\n",
            "        52   RobustScaler LightGBM                          0:00:52       0.8368    0.8744\n",
            "        53                                                  0:00:18          nan    0.8744\n",
            "        54                                                  0:00:17          nan    0.8744\n",
            "        55    VotingEnsemble                                0:01:32       0.8828    0.8828\n",
            "        56    StackEnsemble                                 0:01:42       0.8703    0.8828\n"
          ]
        },
        {
          "output_type": "execute_result",
          "execution_count": 12,
          "data": {
            "text/plain": "{'runId': 'AutoML_1d6b790b-08ce-4bcf-b70c-aa121e567c60',\n 'target': 'cpu-cluster',\n 'status': 'Completed',\n 'startTimeUtc': '2021-01-24T16:16:33.962838Z',\n 'endTimeUtc': '2021-01-24T16:41:36.340577Z',\n 'properties': {'num_iterations': '1000',\n  'training_type': 'TrainFull',\n  'acquisition_function': 'EI',\n  'primary_metric': 'accuracy',\n  'train_split': '0',\n  'acquisition_parameter': '0',\n  'num_cross_validation': '3',\n  'target': 'cpu-cluster',\n  'AMLSettingsJsonString': '{\"path\":null,\"name\":\"heart-failure-automl-experiment\",\"subscription_id\":\"cdbe0b43-92a0-4715-838a-f2648cc7ad21\",\"resource_group\":\"aml-quickstarts-135902\",\"workspace_name\":\"quick-starts-ws-135902\",\"region\":\"southcentralus\",\"compute_target\":\"cpu-cluster\",\"spark_service\":null,\"azure_service\":\"remote\",\"many_models\":false,\"pipeline_fetch_max_batch_size\":1,\"iterations\":1000,\"primary_metric\":\"accuracy\",\"task_type\":\"classification\",\"data_script\":null,\"validation_size\":0.0,\"n_cross_validations\":3,\"y_min\":null,\"y_max\":null,\"num_classes\":null,\"featurization\":\"auto\",\"_ignore_package_version_incompatibilities\":false,\"is_timeseries\":false,\"max_cores_per_iteration\":-1,\"max_concurrent_iterations\":4,\"iteration_timeout_minutes\":5,\"mem_in_mb\":null,\"enforce_time_on_windows\":false,\"experiment_timeout_minutes\":30,\"experiment_exit_score\":null,\"whitelist_models\":null,\"blacklist_algos\":[\"TensorFlowLinearClassifier\",\"TensorFlowDNN\"],\"supported_models\":[\"LightGBM\",\"MultinomialNaiveBayes\",\"XGBoostClassifier\",\"TensorFlowDNN\",\"LogisticRegression\",\"LinearSVM\",\"KNN\",\"RandomForest\",\"ExtremeRandomTrees\",\"SVM\",\"AveragedPerceptronClassifier\",\"GradientBoosting\",\"TensorFlowLinearClassifier\",\"DecisionTree\",\"BernoulliNaiveBayes\",\"SGD\"],\"auto_blacklist\":true,\"blacklist_samples_reached\":false,\"exclude_nan_labels\":true,\"verbosity\":20,\"_debug_log\":\"azureml_automl.log\",\"show_warnings\":false,\"model_explainability\":true,\"service_url\":null,\"sdk_url\":null,\"sdk_packages\":null,\"enable_onnx_compatible_models\":false,\"enable_split_onnx_featurizer_estimator_models\":false,\"vm_type\":\"STANDARD_DS12_V2\",\"telemetry_verbosity\":20,\"send_telemetry\":true,\"enable_dnn\":false,\"scenario\":\"SDK-1.13.0\",\"environment_label\":null,\"force_text_dnn\":false,\"enable_feature_sweeping\":true,\"enable_early_stopping\":true,\"early_stopping_n_iters\":10,\"metrics\":null,\"enable_ensembling\":true,\"enable_stack_ensembling\":true,\"ensemble_iterations\":15,\"enable_tf\":false,\"enable_subsampling\":null,\"subsample_seed\":null,\"enable_nimbusml\":false,\"enable_streaming\":false,\"force_streaming\":false,\"track_child_runs\":true,\"allowed_private_models\":[],\"label_column_name\":\"DEATH_EVENT\",\"weight_column_name\":null,\"cv_split_column_names\":null,\"enable_local_managed\":false,\"_local_managed_run_id\":null,\"cost_mode\":1,\"lag_length\":0,\"metric_operation\":\"maximize\",\"preprocess\":true}',\n  'DataPrepJsonString': '{\\\\\"training_data\\\\\": \\\\\"{\\\\\\\\\\\\\"blocks\\\\\\\\\\\\\": [{\\\\\\\\\\\\\"id\\\\\\\\\\\\\": \\\\\\\\\\\\\"d3785514-608a-4ac7-ae28-02c000c50678\\\\\\\\\\\\\", \\\\\\\\\\\\\"type\\\\\\\\\\\\\": \\\\\\\\\\\\\"Microsoft.DPrep.GetDatastoreFilesBlock\\\\\\\\\\\\\", \\\\\\\\\\\\\"arguments\\\\\\\\\\\\\": {\\\\\\\\\\\\\"datastores\\\\\\\\\\\\\": [{\\\\\\\\\\\\\"datastoreName\\\\\\\\\\\\\": \\\\\\\\\\\\\"workspaceblobstore\\\\\\\\\\\\\", \\\\\\\\\\\\\"path\\\\\\\\\\\\\": \\\\\\\\\\\\\"train.csv\\\\\\\\\\\\\", \\\\\\\\\\\\\"resourceGroup\\\\\\\\\\\\\": \\\\\\\\\\\\\"aml-quickstarts-135902\\\\\\\\\\\\\", \\\\\\\\\\\\\"subscription\\\\\\\\\\\\\": \\\\\\\\\\\\\"cdbe0b43-92a0-4715-838a-f2648cc7ad21\\\\\\\\\\\\\", \\\\\\\\\\\\\"workspaceName\\\\\\\\\\\\\": \\\\\\\\\\\\\"quick-starts-ws-135902\\\\\\\\\\\\\"}]}, \\\\\\\\\\\\\"localData\\\\\\\\\\\\\": {}, \\\\\\\\\\\\\"isEnabled\\\\\\\\\\\\\": true, \\\\\\\\\\\\\"name\\\\\\\\\\\\\": null, \\\\\\\\\\\\\"annotation\\\\\\\\\\\\\": null}, {\\\\\\\\\\\\\"id\\\\\\\\\\\\\": \\\\\\\\\\\\\"642aeaa3-278a-47b0-a89c-8310bbbbffda\\\\\\\\\\\\\", \\\\\\\\\\\\\"type\\\\\\\\\\\\\": \\\\\\\\\\\\\"Microsoft.DPrep.ParseDelimitedBlock\\\\\\\\\\\\\", \\\\\\\\\\\\\"arguments\\\\\\\\\\\\\": {\\\\\\\\\\\\\"columnHeadersMode\\\\\\\\\\\\\": 3, \\\\\\\\\\\\\"fileEncoding\\\\\\\\\\\\\": 0, \\\\\\\\\\\\\"handleQuotedLineBreaks\\\\\\\\\\\\\": false, \\\\\\\\\\\\\"preview\\\\\\\\\\\\\": false, \\\\\\\\\\\\\"separator\\\\\\\\\\\\\": \\\\\\\\\\\\\",\\\\\\\\\\\\\", \\\\\\\\\\\\\"skipRows\\\\\\\\\\\\\": 0, \\\\\\\\\\\\\"skipRowsMode\\\\\\\\\\\\\": 0}, \\\\\\\\\\\\\"localData\\\\\\\\\\\\\": {}, \\\\\\\\\\\\\"isEnabled\\\\\\\\\\\\\": true, \\\\\\\\\\\\\"name\\\\\\\\\\\\\": null, \\\\\\\\\\\\\"annotation\\\\\\\\\\\\\": null}, {\\\\\\\\\\\\\"id\\\\\\\\\\\\\": \\\\\\\\\\\\\"1fe83380-cb8d-411c-b597-5c9c52845f17\\\\\\\\\\\\\", \\\\\\\\\\\\\"type\\\\\\\\\\\\\": \\\\\\\\\\\\\"Microsoft.DPrep.DropColumnsBlock\\\\\\\\\\\\\", \\\\\\\\\\\\\"arguments\\\\\\\\\\\\\": {\\\\\\\\\\\\\"columns\\\\\\\\\\\\\": {\\\\\\\\\\\\\"type\\\\\\\\\\\\\": 0, \\\\\\\\\\\\\"details\\\\\\\\\\\\\": {\\\\\\\\\\\\\"selectedColumns\\\\\\\\\\\\\": [\\\\\\\\\\\\\"Path\\\\\\\\\\\\\"]}}}, \\\\\\\\\\\\\"localData\\\\\\\\\\\\\": {}, \\\\\\\\\\\\\"isEnabled\\\\\\\\\\\\\": true, \\\\\\\\\\\\\"name\\\\\\\\\\\\\": null, \\\\\\\\\\\\\"annotation\\\\\\\\\\\\\": null}, {\\\\\\\\\\\\\"id\\\\\\\\\\\\\": \\\\\\\\\\\\\"c03d13c9-4993-478f-94fb-cb9732a27462\\\\\\\\\\\\\", \\\\\\\\\\\\\"type\\\\\\\\\\\\\": \\\\\\\\\\\\\"Microsoft.DPrep.SetColumnTypesBlock\\\\\\\\\\\\\", \\\\\\\\\\\\\"arguments\\\\\\\\\\\\\": {\\\\\\\\\\\\\"columnConversion\\\\\\\\\\\\\": [{\\\\\\\\\\\\\"column\\\\\\\\\\\\\": {\\\\\\\\\\\\\"type\\\\\\\\\\\\\": 2, \\\\\\\\\\\\\"details\\\\\\\\\\\\\": {\\\\\\\\\\\\\"selectedColumn\\\\\\\\\\\\\": \\\\\\\\\\\\\"age\\\\\\\\\\\\\"}}, \\\\\\\\\\\\\"typeProperty\\\\\\\\\\\\\": 3}, {\\\\\\\\\\\\\"column\\\\\\\\\\\\\": {\\\\\\\\\\\\\"type\\\\\\\\\\\\\": 2, \\\\\\\\\\\\\"details\\\\\\\\\\\\\": {\\\\\\\\\\\\\"selectedColumn\\\\\\\\\\\\\": \\\\\\\\\\\\\"anaemia\\\\\\\\\\\\\"}}, \\\\\\\\\\\\\"typeProperty\\\\\\\\\\\\\": 2}, {\\\\\\\\\\\\\"column\\\\\\\\\\\\\": {\\\\\\\\\\\\\"type\\\\\\\\\\\\\": 2, \\\\\\\\\\\\\"details\\\\\\\\\\\\\": {\\\\\\\\\\\\\"selectedColumn\\\\\\\\\\\\\": \\\\\\\\\\\\\"creatinine_phosphokinase\\\\\\\\\\\\\"}}, \\\\\\\\\\\\\"typeProperty\\\\\\\\\\\\\": 2}, {\\\\\\\\\\\\\"column\\\\\\\\\\\\\": {\\\\\\\\\\\\\"type\\\\\\\\\\\\\": 2, \\\\\\\\\\\\\"details\\\\\\\\\\\\\": {\\\\\\\\\\\\\"selectedColumn\\\\\\\\\\\\\": \\\\\\\\\\\\\"diabetes\\\\\\\\\\\\\"}}, \\\\\\\\\\\\\"typeProperty\\\\\\\\\\\\\": 2}, {\\\\\\\\\\\\\"column\\\\\\\\\\\\\": {\\\\\\\\\\\\\"type\\\\\\\\\\\\\": 2, \\\\\\\\\\\\\"details\\\\\\\\\\\\\": {\\\\\\\\\\\\\"selectedColumn\\\\\\\\\\\\\": \\\\\\\\\\\\\"ejection_fraction\\\\\\\\\\\\\"}}, \\\\\\\\\\\\\"typeProperty\\\\\\\\\\\\\": 2}, {\\\\\\\\\\\\\"column\\\\\\\\\\\\\": {\\\\\\\\\\\\\"type\\\\\\\\\\\\\": 2, \\\\\\\\\\\\\"details\\\\\\\\\\\\\": {\\\\\\\\\\\\\"selectedColumn\\\\\\\\\\\\\": \\\\\\\\\\\\\"high_blood_pressure\\\\\\\\\\\\\"}}, \\\\\\\\\\\\\"typeProperty\\\\\\\\\\\\\": 2}, {\\\\\\\\\\\\\"column\\\\\\\\\\\\\": {\\\\\\\\\\\\\"type\\\\\\\\\\\\\": 2, \\\\\\\\\\\\\"details\\\\\\\\\\\\\": {\\\\\\\\\\\\\"selectedColumn\\\\\\\\\\\\\": \\\\\\\\\\\\\"platelets\\\\\\\\\\\\\"}}, \\\\\\\\\\\\\"typeProperty\\\\\\\\\\\\\": 3}, {\\\\\\\\\\\\\"column\\\\\\\\\\\\\": {\\\\\\\\\\\\\"type\\\\\\\\\\\\\": 2, \\\\\\\\\\\\\"details\\\\\\\\\\\\\": {\\\\\\\\\\\\\"selectedColumn\\\\\\\\\\\\\": \\\\\\\\\\\\\"serum_creatinine\\\\\\\\\\\\\"}}, \\\\\\\\\\\\\"typeProperty\\\\\\\\\\\\\": 3}, {\\\\\\\\\\\\\"column\\\\\\\\\\\\\": {\\\\\\\\\\\\\"type\\\\\\\\\\\\\": 2, \\\\\\\\\\\\\"details\\\\\\\\\\\\\": {\\\\\\\\\\\\\"selectedColumn\\\\\\\\\\\\\": \\\\\\\\\\\\\"serum_sodium\\\\\\\\\\\\\"}}, \\\\\\\\\\\\\"typeProperty\\\\\\\\\\\\\": 2}, {\\\\\\\\\\\\\"column\\\\\\\\\\\\\": {\\\\\\\\\\\\\"type\\\\\\\\\\\\\": 2, \\\\\\\\\\\\\"details\\\\\\\\\\\\\": {\\\\\\\\\\\\\"selectedColumn\\\\\\\\\\\\\": \\\\\\\\\\\\\"sex\\\\\\\\\\\\\"}}, \\\\\\\\\\\\\"typeProperty\\\\\\\\\\\\\": 2}, {\\\\\\\\\\\\\"column\\\\\\\\\\\\\": {\\\\\\\\\\\\\"type\\\\\\\\\\\\\": 2, \\\\\\\\\\\\\"details\\\\\\\\\\\\\": {\\\\\\\\\\\\\"selectedColumn\\\\\\\\\\\\\": \\\\\\\\\\\\\"smoking\\\\\\\\\\\\\"}}, \\\\\\\\\\\\\"typeProperty\\\\\\\\\\\\\": 2}, {\\\\\\\\\\\\\"column\\\\\\\\\\\\\": {\\\\\\\\\\\\\"type\\\\\\\\\\\\\": 2, \\\\\\\\\\\\\"details\\\\\\\\\\\\\": {\\\\\\\\\\\\\"selectedColumn\\\\\\\\\\\\\": \\\\\\\\\\\\\"time\\\\\\\\\\\\\"}}, \\\\\\\\\\\\\"typeProperty\\\\\\\\\\\\\": 2}, {\\\\\\\\\\\\\"column\\\\\\\\\\\\\": {\\\\\\\\\\\\\"type\\\\\\\\\\\\\": 2, \\\\\\\\\\\\\"details\\\\\\\\\\\\\": {\\\\\\\\\\\\\"selectedColumn\\\\\\\\\\\\\": \\\\\\\\\\\\\"DEATH_EVENT\\\\\\\\\\\\\"}}, \\\\\\\\\\\\\"typeProperty\\\\\\\\\\\\\": 2}]}, \\\\\\\\\\\\\"localData\\\\\\\\\\\\\": {}, \\\\\\\\\\\\\"isEnabled\\\\\\\\\\\\\": true, \\\\\\\\\\\\\"name\\\\\\\\\\\\\": null, \\\\\\\\\\\\\"annotation\\\\\\\\\\\\\": null}], \\\\\\\\\\\\\"inspectors\\\\\\\\\\\\\": [], \\\\\\\\\\\\\"meta\\\\\\\\\\\\\": {\\\\\\\\\\\\\"savedDatasetId\\\\\\\\\\\\\": \\\\\\\\\\\\\"5a0ac832-232c-4541-a21a-6565358d3471\\\\\\\\\\\\\", \\\\\\\\\\\\\"datasetType\\\\\\\\\\\\\": \\\\\\\\\\\\\"tabular\\\\\\\\\\\\\", \\\\\\\\\\\\\"subscriptionId\\\\\\\\\\\\\": \\\\\\\\\\\\\"cdbe0b43-92a0-4715-838a-f2648cc7ad21\\\\\\\\\\\\\", \\\\\\\\\\\\\"workspaceId\\\\\\\\\\\\\": \\\\\\\\\\\\\"9ef76144-e983-40a6-8655-4e4eab8b4c95\\\\\\\\\\\\\", \\\\\\\\\\\\\"workspaceLocation\\\\\\\\\\\\\": \\\\\\\\\\\\\"southcentralus\\\\\\\\\\\\\"}}\\\\\", \\\\\"activities\\\\\": 0}',\n  'EnableSubsampling': None,\n  'runTemplate': 'AutoML',\n  'azureml.runsource': 'automl',\n  'display_task_type': 'classification',\n  'dependencies_versions': '{\"azureml-widgets\": \"1.19.0\", \"azureml-train\": \"1.19.0\", \"azureml-train-restclients-hyperdrive\": \"1.19.0\", \"azureml-train-core\": \"1.19.0\", \"azureml-train-automl\": \"1.19.0\", \"azureml-train-automl-runtime\": \"1.19.0\", \"azureml-train-automl-client\": \"1.19.0\", \"azureml-tensorboard\": \"1.19.0\", \"azureml-telemetry\": \"1.19.0\", \"azureml-sdk\": \"1.19.0\", \"azureml-samples\": \"0+unknown\", \"azureml-pipeline\": \"1.19.0\", \"azureml-pipeline-steps\": \"1.19.0\", \"azureml-pipeline-core\": \"1.19.0\", \"azureml-opendatasets\": \"1.19.0\", \"azureml-model-management-sdk\": \"1.0.1b6.post1\", \"azureml-mlflow\": \"1.19.0\", \"azureml-interpret\": \"1.19.0\", \"azureml-explain-model\": \"1.19.0\", \"azureml-defaults\": \"1.19.0\", \"azureml-dataset-runtime\": \"1.19.0.post1\", \"azureml-dataprep\": \"2.6.1\", \"azureml-dataprep-rslex\": \"1.4.0\", \"azureml-dataprep-native\": \"26.0.0\", \"azureml-datadrift\": \"1.19.0\", \"azureml-core\": \"1.19.0\", \"azureml-contrib-services\": \"1.19.0\", \"azureml-contrib-server\": \"1.19.0\", \"azureml-contrib-reinforcementlearning\": \"1.19.0\", \"azureml-contrib-pipeline-steps\": \"1.19.0\", \"azureml-contrib-notebook\": \"1.19.0\", \"azureml-contrib-interpret\": \"1.19.0\", \"azureml-contrib-gbdt\": \"1.19.0\", \"azureml-contrib-fairness\": \"1.19.0\", \"azureml-contrib-dataset\": \"1.19.0\", \"azureml-cli-common\": \"1.19.0\", \"azureml-automl-runtime\": \"1.19.0\", \"azureml-automl-core\": \"1.19.0\", \"azureml-accel-models\": \"1.19.0\"}',\n  '_aml_system_scenario_identification': 'Remote.Parent',\n  'ClientType': 'SDK',\n  'environment_cpu_name': 'AzureML-AutoML',\n  'environment_cpu_label': 'prod',\n  'environment_gpu_name': 'AzureML-AutoML-GPU',\n  'environment_gpu_label': 'prod',\n  'root_attribution': 'automl',\n  'attribution': 'AutoML',\n  'Orchestrator': 'AutoML',\n  'CancelUri': 'https://southcentralus.experiments.azureml.net/jasmine/v1.0/subscriptions/cdbe0b43-92a0-4715-838a-f2648cc7ad21/resourceGroups/aml-quickstarts-135902/providers/Microsoft.MachineLearningServices/workspaces/quick-starts-ws-135902/experimentids/a6c7c377-20c7-441a-89f5-9a80aca6f1e1/cancel/AutoML_1d6b790b-08ce-4bcf-b70c-aa121e567c60',\n  'ClientSdkVersion': '1.20.0',\n  'snapshotId': '00000000-0000-0000-0000-000000000000',\n  'SetupRunId': 'AutoML_1d6b790b-08ce-4bcf-b70c-aa121e567c60_setup',\n  'SetupRunContainerId': 'dcid.AutoML_1d6b790b-08ce-4bcf-b70c-aa121e567c60_setup',\n  'FeaturizationRunJsonPath': 'featurizer_container.json',\n  'FeaturizationRunId': 'AutoML_1d6b790b-08ce-4bcf-b70c-aa121e567c60_featurize',\n  'ProblemInfoJsonString': '{\"dataset_num_categorical\": 0, \"is_sparse\": false, \"subsampling\": false, \"dataset_classes\": 2, \"dataset_features\": 12, \"dataset_samples\": 239, \"single_frequency_class_detected\": false}',\n  'ModelExplainRunId': 'AutoML_1d6b790b-08ce-4bcf-b70c-aa121e567c60_ModelExplain'},\n 'inputDatasets': [{'dataset': {'id': '5a0ac832-232c-4541-a21a-6565358d3471'}, 'consumptionDetails': {'type': 'RunInput', 'inputName': 'training_data', 'mechanism': 'Direct'}}],\n 'outputDatasets': [],\n 'logFiles': {}}"
          },
          "metadata": {}
        }
      ],
      "execution_count": 12,
      "metadata": {
        "gather": {
          "logged": 1611506500308
        }
      }
    },
    {
      "cell_type": "markdown",
      "source": [
        "## Best Model\n",
        "\n",
        "TODO: In the cell below, get the best model from the automl experiments and display all the properties of the model.\n",
        "\n"
      ],
      "metadata": {}
    },
    {
      "cell_type": "code",
      "source": [
        "best_run, fitted_automl_best_model = remote_run.get_output()\n",
        "best_automlrun_metrics=best_run.get_metrics()\n",
        "print('Best Run Id:', best_run.id, sep='\\n')\n",
        "print('Best Run Accuracy:', best_automlrun_metrics['accuracy'], sep='\\n')\n",
        "print('Best Run Metrics:', best_run.get_metrics(), sep='\\n')\n",
        "print('Best Run Properties:', best_run.get_properties(), sep='\\n')\n",
        "print('Best Model:', best_run.properties['model_name'], sep='\\n')\n",
        "print('Fitted Automl Best Model:', fitted_automl_best_model, sep='\\n')"
      ],
      "outputs": [
        {
          "output_type": "stream",
          "name": "stderr",
          "text": [
            "WARNING:root:The version of the SDK does not match the version the model was trained on.\n",
            "WARNING:root:The consistency in the result may not be guaranteed.\n",
            "WARNING:root:Package:azureml-automl-core, training version:1.20.0, current version:1.19.0\n",
            "Package:azureml-automl-runtime, training version:1.20.0, current version:1.19.0\n",
            "Package:azureml-core, training version:1.20.0, current version:1.19.0\n",
            "Package:azureml-dataprep, training version:2.7.2, current version:2.6.1\n",
            "Package:azureml-dataprep-native, training version:27.0.0, current version:26.0.0\n",
            "Package:azureml-dataprep-rslex, training version:1.5.0, current version:1.4.0\n",
            "Package:azureml-dataset-runtime, training version:1.20.0, current version:1.19.0.post1\n",
            "Package:azureml-defaults, training version:1.20.0, current version:1.19.0\n",
            "Package:azureml-interpret, training version:1.20.0, current version:1.19.0\n",
            "Package:azureml-pipeline-core, training version:1.20.0, current version:1.19.0\n",
            "Package:azureml-telemetry, training version:1.20.0, current version:1.19.0\n",
            "Package:azureml-train-automl-client, training version:1.20.0, current version:1.19.0\n",
            "Package:azureml-train-automl-runtime, training version:1.20.0, current version:1.19.0\n",
            "WARNING:root:Please ensure the version of your local conda dependencies match the version on which your model was trained in order to properly retrieve your model.\n"
          ]
        },
        {
          "output_type": "stream",
          "name": "stdout",
          "text": [
            "Best Run Id:\n",
            "AutoML_1d6b790b-08ce-4bcf-b70c-aa121e567c60_55\n",
            "Best Run Accuracy:\n",
            "0.8828059071729957\n",
            "Best Run Metrics:\n",
            "{'precision_score_micro': 0.8828059071729957, 'weighted_accuracy': 0.9081364376694537, 'recall_score_macro': 0.8486446039835869, 'precision_score_macro': 0.8736333579197093, 'precision_score_weighted': 0.8860926049300466, 'AUC_weighted': 0.9154698689048972, 'f1_score_macro': 0.8562924513053473, 'average_precision_score_micro': 0.9267888449231131, 'f1_score_weighted': 0.8806437875095002, 'recall_score_micro': 0.8828059071729957, 'f1_score_micro': 0.8828059071729957, 'balanced_accuracy': 0.8486446039835869, 'matthews_correlation': 0.720977865970507, 'recall_score_weighted': 0.8828059071729957, 'log_loss': 0.3543497980830313, 'average_precision_score_macro': 0.8947097922892953, 'average_precision_score_weighted': 0.9220067110057949, 'AUC_micro': 0.9257656859210597, 'norm_macro_recall': 0.6972892079671741, 'AUC_macro': 0.9154698689048972, 'accuracy': 0.8828059071729957, 'accuracy_table': 'aml://artifactId/ExperimentRun/dcid.AutoML_1d6b790b-08ce-4bcf-b70c-aa121e567c60_55/accuracy_table', 'confusion_matrix': 'aml://artifactId/ExperimentRun/dcid.AutoML_1d6b790b-08ce-4bcf-b70c-aa121e567c60_55/confusion_matrix'}\n",
            "Best Run Properties:\n",
            "{'runTemplate': 'automl_child', 'pipeline_id': '__AutoML_Ensemble__', 'pipeline_spec': '{\"pipeline_id\":\"__AutoML_Ensemble__\",\"objects\":[{\"module\":\"azureml.train.automl.ensemble\",\"class_name\":\"Ensemble\",\"spec_class\":\"sklearn\",\"param_args\":[],\"param_kwargs\":{\"automl_settings\":\"{\\'task_type\\':\\'classification\\',\\'primary_metric\\':\\'accuracy\\',\\'verbosity\\':20,\\'ensemble_iterations\\':15,\\'is_timeseries\\':False,\\'name\\':\\'heart-failure-automl-experiment\\',\\'compute_target\\':\\'cpu-cluster\\',\\'subscription_id\\':\\'cdbe0b43-92a0-4715-838a-f2648cc7ad21\\',\\'region\\':\\'southcentralus\\',\\'spark_service\\':None}\",\"ensemble_run_id\":\"AutoML_1d6b790b-08ce-4bcf-b70c-aa121e567c60_55\",\"experiment_name\":\"heart-failure-automl-experiment\",\"workspace_name\":\"quick-starts-ws-135902\",\"subscription_id\":\"cdbe0b43-92a0-4715-838a-f2648cc7ad21\",\"resource_group_name\":\"aml-quickstarts-135902\"}}]}', 'training_percent': '100', 'predicted_cost': None, 'iteration': '55', '_aml_system_scenario_identification': 'Remote.Child', '_azureml.ComputeTargetType': 'amlcompute', 'ContentSnapshotId': 'b2617aa7-933b-4564-be16-24d010d1c807', 'ProcessInfoFile': 'azureml-logs/process_info.json', 'ProcessStatusFile': 'azureml-logs/process_status.json', 'run_template': 'automl_child', 'run_preprocessor': '', 'run_algorithm': 'VotingEnsemble', 'conda_env_data_location': 'aml://artifact/ExperimentRun/dcid.AutoML_1d6b790b-08ce-4bcf-b70c-aa121e567c60_55/outputs/conda_env_v_1_0_0.yml', 'model_data_location': 'aml://artifact/ExperimentRun/dcid.AutoML_1d6b790b-08ce-4bcf-b70c-aa121e567c60_55/outputs/model.pkl', 'model_size_on_disk': '375551', 'scoring_data_location': 'aml://artifact/ExperimentRun/dcid.AutoML_1d6b790b-08ce-4bcf-b70c-aa121e567c60_55/outputs/scoring_file_v_1_0_0.py', 'model_exp_support': 'True', 'pipeline_graph_version': '1.0.0', 'model_name': 'AutoML1d6b790b055', 'staticProperties': '{}', 'score': '0.8828059071729957', 'run_properties': \"classification_labels=None,\\n                              estimators=[('38',\\n                                           Pipeline(memory=None,\\n                                                    steps=[('maxabsscaler',\\n                                                            MaxAbsScaler(copy=True\", 'pipeline_script': '{\"pipeline_id\":\"__AutoML_Ensemble__\",\"objects\":[{\"module\":\"azureml.train.automl.ensemble\",\"class_name\":\"Ensemble\",\"spec_class\":\"sklearn\",\"param_args\":[],\"param_kwargs\":{\"automl_settings\":\"{\\'task_type\\':\\'classification\\',\\'primary_metric\\':\\'accuracy\\',\\'verbosity\\':20,\\'ensemble_iterations\\':15,\\'is_timeseries\\':False,\\'name\\':\\'heart-failure-automl-experiment\\',\\'compute_target\\':\\'cpu-cluster\\',\\'subscription_id\\':\\'cdbe0b43-92a0-4715-838a-f2648cc7ad21\\',\\'region\\':\\'southcentralus\\',\\'spark_service\\':None}\",\"ensemble_run_id\":\"AutoML_1d6b790b-08ce-4bcf-b70c-aa121e567c60_55\",\"experiment_name\":\"heart-failure-automl-experiment\",\"workspace_name\":\"quick-starts-ws-135902\",\"subscription_id\":\"cdbe0b43-92a0-4715-838a-f2648cc7ad21\",\"resource_group_name\":\"aml-quickstarts-135902\"}}]}', 'training_type': 'MeanCrossValidation', 'num_classes': '', 'framework': 'sklearn', 'fit_time': '38', 'goal': 'accuracy_max', 'class_labels': '', 'primary_metric': 'accuracy', 'errors': '{}', 'onnx_model_resource': '{}', 'error_code': '', 'failure_reason': '', 'feature_skus': 'automatedml_sdk_guardrails', 'dependencies_versions': '{\"azureml-train-automl-runtime\": \"1.20.0\", \"azureml-train-automl-client\": \"1.20.0\", \"azureml-telemetry\": \"1.20.0\", \"azureml-pipeline-core\": \"1.20.0\", \"azureml-model-management-sdk\": \"1.0.1b6.post1\", \"azureml-interpret\": \"1.20.0\", \"azureml-defaults\": \"1.20.0\", \"azureml-dataset-runtime\": \"1.20.0\", \"azureml-dataprep\": \"2.7.2\", \"azureml-dataprep-rslex\": \"1.5.0\", \"azureml-dataprep-native\": \"27.0.0\", \"azureml-core\": \"1.20.0\", \"azureml-automl-runtime\": \"1.20.0\", \"azureml-automl-core\": \"1.20.0\"}', 'num_cores': '4', 'num_logical_cores': '4', 'peak_memory_usage': '620064', 'vm_configuration': 'Intel(R) Xeon(R) Platinum 8171M CPU @ 2.60GHz', 'core_hours': '0.012279652499999998'}\n",
            "Best Model:\n",
            "AutoML1d6b790b055\n",
            "Fitted Automl Best Model:\n",
            "Pipeline(memory=None,\n",
            "         steps=[('datatransformer',\n",
            "                 DataTransformer(enable_dnn=None, enable_feature_sweeping=None,\n",
            "                                 feature_sweeping_config=None,\n",
            "                                 feature_sweeping_timeout=None,\n",
            "                                 featurization_config=None, force_text_dnn=None,\n",
            "                                 is_cross_validation=None,\n",
            "                                 is_onnx_compatible=None, logger=None,\n",
            "                                 observer=None, task=None, working_dir=None)),\n",
            "                ('prefittedsoftvotingclassifier',...\n",
            "                                                                                                min_child_samples=5,\n",
            "                                                                                                min_child_weight=5,\n",
            "                                                                                                min_split_gain=1,\n",
            "                                                                                                n_estimators=25,\n",
            "                                                                                                n_jobs=-1,\n",
            "                                                                                                num_leaves=143,\n",
            "                                                                                                objective=None,\n",
            "                                                                                                random_state=None,\n",
            "                                                                                                reg_alpha=0.47368421052631576,\n",
            "                                                                                                reg_lambda=0.05263157894736842,\n",
            "                                                                                                silent=True,\n",
            "                                                                                                subsample=1,\n",
            "                                                                                                subsample_for_bin=200000,\n",
            "                                                                                                subsample_freq=0,\n",
            "                                                                                                verbose=-10))],\n",
            "                                                                     verbose=False))],\n",
            "                                               flatten_transform=None,\n",
            "                                               weights=[0.1, 0.3, 0.1, 0.1, 0.3,\n",
            "                                                        0.1]))],\n",
            "         verbose=False)\n"
          ]
        }
      ],
      "execution_count": 13,
      "metadata": {
        "gather": {
          "logged": 1611506681769
        },
        "jupyter": {
          "outputs_hidden": false,
          "source_hidden": false
        },
        "nteract": {
          "transient": {
            "deleting": false
          }
        }
      }
    },
    {
      "cell_type": "code",
      "source": [
        "for primary_metric in best_automlrun_metrics:\n",
        "    metric=best_automlrun_metrics[primary_metric]\n",
        "    print(primary_metric,metric)"
      ],
      "outputs": [
        {
          "output_type": "stream",
          "name": "stdout",
          "text": [
            "precision_score_micro 0.8828059071729957\n",
            "weighted_accuracy 0.9081364376694537\n",
            "recall_score_macro 0.8486446039835869\n",
            "precision_score_macro 0.8736333579197093\n",
            "precision_score_weighted 0.8860926049300466\n",
            "AUC_weighted 0.9154698689048972\n",
            "f1_score_macro 0.8562924513053473\n",
            "average_precision_score_micro 0.9267888449231131\n",
            "f1_score_weighted 0.8806437875095002\n",
            "recall_score_micro 0.8828059071729957\n",
            "f1_score_micro 0.8828059071729957\n",
            "balanced_accuracy 0.8486446039835869\n",
            "matthews_correlation 0.720977865970507\n",
            "recall_score_weighted 0.8828059071729957\n",
            "log_loss 0.3543497980830313\n",
            "average_precision_score_macro 0.8947097922892953\n",
            "average_precision_score_weighted 0.9220067110057949\n",
            "AUC_micro 0.9257656859210597\n",
            "norm_macro_recall 0.6972892079671741\n",
            "AUC_macro 0.9154698689048972\n",
            "accuracy 0.8828059071729957\n",
            "accuracy_table aml://artifactId/ExperimentRun/dcid.AutoML_1d6b790b-08ce-4bcf-b70c-aa121e567c60_55/accuracy_table\n",
            "confusion_matrix aml://artifactId/ExperimentRun/dcid.AutoML_1d6b790b-08ce-4bcf-b70c-aa121e567c60_55/confusion_matrix\n"
          ]
        }
      ],
      "execution_count": 14,
      "metadata": {
        "gather": {
          "logged": 1611506709829
        }
      }
    },
    {
      "cell_type": "code",
      "source": [
        "#Save the best model\n",
        "os.makedirs('./outputs', exist_ok=True)\n",
        "\n",
        "joblib.dump(fitted_automl_best_model, filename='outputs/automl.joblib')\n",
        "print(best_run)"
      ],
      "outputs": [
        {
          "output_type": "stream",
          "name": "stdout",
          "text": [
            "Run(Experiment: heart-failure-automl-experiment,\n",
            "Id: AutoML_1d6b790b-08ce-4bcf-b70c-aa121e567c60_55,\n",
            "Type: azureml.scriptrun,\n",
            "Status: Completed)\n"
          ]
        }
      ],
      "execution_count": 15,
      "metadata": {
        "gather": {
          "logged": 1611506718054
        },
        "jupyter": {
          "outputs_hidden": false,
          "source_hidden": false
        },
        "nteract": {
          "transient": {
            "deleting": false
          }
        }
      }
    },
    {
      "cell_type": "markdown",
      "source": [
        "## Model Deployment\n",
        "\n",
        "Remember you have to deploy only one of the two models you trained.. Perform the steps in the rest of this notebook only if you wish to deploy this model.\n",
        "\n",
        "TODO: In the cell below, register the model, create an inference config and deploy the model as a web service."
      ],
      "metadata": {}
    },
    {
      "cell_type": "code",
      "source": [
        "model_name = best_run.properties['model_name']\n",
        "script_file_name = 'inference/score.py'\n",
        "best_run.download_file('outputs/scoring_file_v_1_0_0.py', 'inference/score.py')"
      ],
      "outputs": [],
      "execution_count": 16,
      "metadata": {
        "gather": {
          "logged": 1611506724896
        },
        "jupyter": {
          "outputs_hidden": false,
          "source_hidden": false
        },
        "nteract": {
          "transient": {
            "deleting": false
          }
        }
      }
    },
    {
      "cell_type": "code",
      "source": [
        "description = 'Heart Failure Prediction AutoML Model'\n",
        "tags = None\n",
        "model = remote_run.register_model(model_name = model_name, description = description, tags = tags)\n",
        "print(model.name, model.id, model.version, sep='\\t')"
      ],
      "outputs": [
        {
          "output_type": "stream",
          "name": "stdout",
          "text": [
            "AutoML1d6b790b055\tAutoML1d6b790b055:1\t1\n"
          ]
        }
      ],
      "execution_count": 17,
      "metadata": {
        "gather": {
          "logged": 1611506732801
        }
      }
    },
    {
      "cell_type": "code",
      "source": [
        "from azureml.core.model import InferenceConfig\n",
        "from azureml.core.webservice import AciWebservice\n",
        "from azureml.core.webservice import Webservice\n",
        "from azureml.core.model import Model\n",
        "from azureml.core.environment import Environment\n",
        "\n",
        "inference_config = InferenceConfig(entry_script='inference/score.py')\n",
        "\n",
        "deployment_config = AciWebservice.deploy_configuration(cpu_cores = 1, \n",
        "                                               memory_gb = 1, \n",
        "                                               tags = {'type': \"automl_classification\"}, \n",
        "                                               description = 'Heart Failure Prediction AutoML Service')\n",
        "\n",
        "deploy_service_name = 'automl-model-deployment'\n",
        "service = Model.deploy(ws, deploy_service_name, [model], inference_config, deployment_config)\n",
        "\n",
        "service.wait_for_deployment(show_output = True)\n",
        "\n",
        "# Enable Application Insights\n",
        "service.update(enable_app_insights=True)\n",
        "\n",
        "print('Service State:', service.state, sep='\\n')\n",
        "print('Service Scoring URI:', service.scoring_uri, sep='\\n')\n",
        "print('Service Swagger URI:', service.swagger_uri, sep='\\n')"
      ],
      "outputs": [
        {
          "output_type": "stream",
          "name": "stdout",
          "text": [
            "Tips: You can try get_logs(): https://aka.ms/debugimage#dockerlog or local deployment: https://aka.ms/debugimage#debug-locally to debug if deployment takes longer than 10 minutes.\n",
            "Running.........................................\n",
            "Succeeded\n",
            "ACI service creation operation finished, operation \"Succeeded\"\n",
            "Service State:\n",
            "Healthy\n",
            "Service Scoring URI:\n",
            "http://357c9640-97d9-4585-a0be-dd03c068da9f.southcentralus.azurecontainer.io/score\n",
            "Service Swagger URI:\n",
            "http://357c9640-97d9-4585-a0be-dd03c068da9f.southcentralus.azurecontainer.io/swagger.json\n"
          ]
        }
      ],
      "execution_count": 18,
      "metadata": {
        "gather": {
          "logged": 1611506966561
        }
      }
    },
    {
      "cell_type": "markdown",
      "source": [
        "TODO: In the cell below, send a request to the web service you deployed to test it."
      ],
      "metadata": {
        "collapsed": true,
        "gather": {
          "logged": 1598431657736
        },
        "jupyter": {
          "outputs_hidden": false,
          "source_hidden": false
        },
        "nteract": {
          "transient": {
            "deleting": false
          }
        }
      }
    },
    {
      "cell_type": "code",
      "source": [
        "import requests\n",
        "import json\n",
        "\n",
        "scoring_uri = service.scoring_uri\n",
        "\n",
        "data = {\"data\":\n",
        "        [\n",
        "          { \n",
        "            \"age\": 80,\n",
        "            \"anaemia\": 1,\n",
        "            \"creatinine_phosphokinase\": 146,\n",
        "            \"diabetes\": 1,\n",
        "            \"ejection_fraction\": 20,\n",
        "            \"high_blood_pressure\": 0,\n",
        "            \"platelets\": 127000,\n",
        "            \"serum_creatinine\": 9.4,\n",
        "            \"serum_sodium\": 137,\n",
        "            \"sex\": 1,\n",
        "            \"smoking\": 1,\n",
        "            \"time\": 104\n",
        "          },\n",
        "          {\n",
        "            \"age\": 42,\n",
        "            \"anaemia\": 1,\n",
        "            \"creatinine_phosphokinase\": 111,\n",
        "            \"diabetes\": 0,\n",
        "            \"ejection_fraction\": 38,\n",
        "            \"high_blood_pressure\": 1,\n",
        "            \"platelets\": 87000,\n",
        "            \"serum_creatinine\": 0.8,\n",
        "            \"serum_sodium\": 116,\n",
        "            \"sex\":0,\n",
        "            \"smoking\": 0,\n",
        "            \"time\": 13\n",
        "          },\n",
        "      ]\n",
        "    }\n",
        "\n",
        "input_data = json.dumps(data)\n",
        "headers = {'Content-Type': 'application/json'}\n",
        "resp = requests.post(scoring_uri, input_data, headers=headers)\n",
        "print(resp.json())"
      ],
      "outputs": [
        {
          "output_type": "stream",
          "name": "stdout",
          "text": [
            "{\"result\": [1, 1]}\n"
          ]
        }
      ],
      "execution_count": 19,
      "metadata": {
        "gather": {
          "logged": 1611507221269
        },
        "jupyter": {
          "outputs_hidden": false,
          "source_hidden": false
        },
        "nteract": {
          "transient": {
            "deleting": false
          }
        }
      }
    },
    {
      "cell_type": "markdown",
      "source": [
        "TODO: In the cell below, print the logs of the web service and delete the service"
      ],
      "metadata": {
        "collapsed": true,
        "gather": {
          "logged": 1598432765711
        },
        "jupyter": {
          "outputs_hidden": false,
          "source_hidden": false
        },
        "nteract": {
          "transient": {
            "deleting": false
          }
        }
      }
    },
    {
      "cell_type": "code",
      "source": [
        "print(\"\\nService Logs:\\n\",service.get_logs())"
      ],
      "outputs": [
        {
          "output_type": "stream",
          "name": "stdout",
          "text": [
            "\n",
            "Service Logs:\n",
            " 2021-01-24T16:49:32,402406143+00:00 - iot-server/run \n",
            "2021-01-24T16:49:32,402762442+00:00 - gunicorn/run \n",
            "2021-01-24T16:49:32,407710924+00:00 - nginx/run \n",
            "/usr/sbin/nginx: /azureml-envs/azureml_23df5d07c5e8388dac3ecfdf573dafb1/lib/libcrypto.so.1.0.0: no version information available (required by /usr/sbin/nginx)\n",
            "/usr/sbin/nginx: /azureml-envs/azureml_23df5d07c5e8388dac3ecfdf573dafb1/lib/libcrypto.so.1.0.0: no version information available (required by /usr/sbin/nginx)\n",
            "/usr/sbin/nginx: /azureml-envs/azureml_23df5d07c5e8388dac3ecfdf573dafb1/lib/libssl.so.1.0.0: no version information available (required by /usr/sbin/nginx)\n",
            "/usr/sbin/nginx: /azureml-envs/azureml_23df5d07c5e8388dac3ecfdf573dafb1/lib/libssl.so.1.0.0: no version information available (required by /usr/sbin/nginx)\n",
            "/usr/sbin/nginx: /azureml-envs/azureml_23df5d07c5e8388dac3ecfdf573dafb1/lib/libssl.so.1.0.0: no version information available (required by /usr/sbin/nginx)\n",
            "2021-01-24T16:49:32,402762442+00:00 - rsyslog/run \n",
            "rsyslogd: /azureml-envs/azureml_23df5d07c5e8388dac3ecfdf573dafb1/lib/libuuid.so.1: no version information available (required by rsyslogd)\n",
            "EdgeHubConnectionString and IOTEDGE_IOTHUBHOSTNAME are not set. Exiting...\n",
            "2021-01-24T16:49:32,531518582+00:00 - iot-server/finish 1 0\n",
            "2021-01-24T16:49:32,533083877+00:00 - Exit code 1 is normal. Not restarting iot-server.\n",
            "Starting gunicorn 19.9.0\n",
            "Listening at: http://127.0.0.1:31311 (12)\n",
            "Using worker: sync\n",
            "worker timeout is set to 300\n",
            "Booting worker with pid: 42\n",
            "SPARK_HOME not set. Skipping PySpark Initialization.\n",
            "Generating new fontManager, this may take some time...\n",
            "Initializing logger\n",
            "2021-01-24 16:49:33,769 | root | INFO | Starting up app insights client\n",
            "2021-01-24 16:49:33,769 | root | INFO | Starting up request id generator\n",
            "2021-01-24 16:49:33,769 | root | INFO | Starting up app insight hooks\n",
            "2021-01-24 16:49:33,769 | root | INFO | Invoking user's init function\n",
            "2021-01-24 16:49:35,995 | azureml.core | WARNING | Failure while loading azureml_run_type_providers. Failed to load entrypoint automl = azureml.train.automl.run:AutoMLRun._from_run_dto with exception cannot import name 'RunType'.\n",
            "Failure while loading azureml_run_type_providers. Failed to load entrypoint automl = azureml.train.automl.run:AutoMLRun._from_run_dto with exception cannot import name 'RunType'.\n",
            "2021-01-24 16:49:36,222 | root | INFO | Users's init has completed successfully\n",
            "2021-01-24 16:49:36,227 | root | INFO | Skipping middleware: dbg_model_info as it's not enabled.\n",
            "2021-01-24 16:49:36,227 | root | INFO | Skipping middleware: dbg_resource_usage as it's not enabled.\n",
            "2021-01-24 16:49:36,229 | root | INFO | Scoring timeout is found from os.environ: 60000 ms\n",
            "2021-01-24 16:49:38,327 | root | INFO | 200\n",
            "127.0.0.1 - - [24/Jan/2021:16:49:38 +0000] \"GET /swagger.json HTTP/1.0\" 200 2858 \"-\" \"Go-http-client/1.1\"\n",
            "2021-01-24 16:53:41,048 | root | INFO | Validation Request Content-Type\n",
            "2021-01-24 16:53:41,049 | root | INFO | Scoring Timer is set to 60.0 seconds\n",
            "2021-01-24 16:53:41,131 | root | INFO | 200\n",
            "127.0.0.1 - - [24/Jan/2021:16:53:41 +0000] \"POST /score HTTP/1.0\" 200 22 \"-\" \"python-requests/2.25.0\"\n",
            "\n"
          ]
        }
      ],
      "execution_count": 20,
      "metadata": {
        "jupyter": {
          "outputs_hidden": false,
          "source_hidden": false
        },
        "nteract": {
          "transient": {
            "deleting": false
          }
        },
        "gather": {
          "logged": 1611507233319
        }
      }
    },
    {
      "cell_type": "markdown",
      "source": [
        "## Cleanup"
      ],
      "metadata": {}
    },
    {
      "cell_type": "code",
      "source": [
        "service.delete()\n",
        "model.delete()\n",
        "compute_target.delete()"
      ],
      "outputs": [],
      "execution_count": null,
      "metadata": {}
    }
  ],
  "metadata": {
    "kernel_info": {
      "name": "python3"
    },
    "kernelspec": {
      "name": "python3",
      "language": "python",
      "display_name": "Python 3"
    },
    "language_info": {
      "name": "python",
      "version": "3.6.9",
      "mimetype": "text/x-python",
      "codemirror_mode": {
        "name": "ipython",
        "version": 3
      },
      "pygments_lexer": "ipython3",
      "nbconvert_exporter": "python",
      "file_extension": ".py"
    },
    "nteract": {
      "version": "nteract-front-end@1.0.0"
    }
  },
  "nbformat": 4,
  "nbformat_minor": 2
}